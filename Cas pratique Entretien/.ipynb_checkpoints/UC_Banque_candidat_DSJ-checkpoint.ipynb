{
 "cells": [
  {
   "cell_type": "markdown",
   "id": "c54e3092",
   "metadata": {},
   "source": [
    "# USE CASE: Etude du problème d'attrition d'une banque de détail"
   ]
  },
  {
   "cell_type": "markdown",
   "id": "3a9cb4c4",
   "metadata": {},
   "source": [
    "## Objectif de cette étude: \n",
    "-\tEffectuer les analyses statistiques qui s’imposent \n",
    "-\tRéaliser un modèle de scoring permettant d’identifier les clients churners\n",
    "-\tDonner des éléments permettant d’expliquer et de comprendre les prédictions du modèle"
   ]
  },
  {
   "cell_type": "markdown",
   "id": "a4a4d639",
   "metadata": {},
   "source": [
    "## Contexte: \n",
    "\n",
    "-\tL’objectif est de produire un système permettant de générer un score de churn afin de fournir aux conseillers une liste de clients à traiter en priorité. \n",
    "-\tLes conseillers bancaires, lorsqu’ils reçoivent un client à traiter souhaiterait également comprendre les raisons qui l’amène à quitter la banque afin d’adapter leur discours commercial\n",
    "-\tLa banque est divisée en 6 branches, dont les processus de traitement de clients et les approches commerciales peuvent varier."
   ]
  },
  {
   "cell_type": "markdown",
   "id": "760b4b5d",
   "metadata": {},
   "source": [
    "### Bibliothèques Python utilisées "
   ]
  },
  {
   "cell_type": "code",
   "execution_count": 2,
   "id": "4c140b70",
   "metadata": {
    "scrolled": true
   },
   "outputs": [],
   "source": [
    "import pandas as pd \n",
    "import matplotlib.pyplot as plt\n",
    "import random\n",
    "import numpy as np\n",
    "\n",
    "from IPython.display import Markdown, display"
   ]
  },
  {
   "cell_type": "markdown",
   "id": "3a7e91f7",
   "metadata": {},
   "source": [
    "### Importation des données"
   ]
  },
  {
   "cell_type": "code",
   "execution_count": 31,
   "id": "816bb2bd",
   "metadata": {},
   "outputs": [
    {
     "data": {
      "text/html": [
       "<div>\n",
       "<style scoped>\n",
       "    .dataframe tbody tr th:only-of-type {\n",
       "        vertical-align: middle;\n",
       "    }\n",
       "\n",
       "    .dataframe tbody tr th {\n",
       "        vertical-align: top;\n",
       "    }\n",
       "\n",
       "    .dataframe thead th {\n",
       "        text-align: right;\n",
       "    }\n",
       "</style>\n",
       "<table border=\"1\" class=\"dataframe\">\n",
       "  <thead>\n",
       "    <tr style=\"text-align: right;\">\n",
       "      <th></th>\n",
       "      <th>genre</th>\n",
       "      <th>espace_client_web</th>\n",
       "      <th>assurance_vie</th>\n",
       "      <th>banque_principale</th>\n",
       "      <th>anciennete_mois</th>\n",
       "      <th>compte_epargne</th>\n",
       "      <th>credit_autres</th>\n",
       "      <th>cartes_bancaires</th>\n",
       "      <th>compte_courant</th>\n",
       "      <th>compte_joint</th>\n",
       "      <th>...</th>\n",
       "      <th>var_31</th>\n",
       "      <th>var_32</th>\n",
       "      <th>var_33</th>\n",
       "      <th>var_34</th>\n",
       "      <th>var_35</th>\n",
       "      <th>var_36</th>\n",
       "      <th>var_37</th>\n",
       "      <th>var_38</th>\n",
       "      <th>branche</th>\n",
       "      <th>churn</th>\n",
       "    </tr>\n",
       "    <tr>\n",
       "      <th>id_client</th>\n",
       "      <th></th>\n",
       "      <th></th>\n",
       "      <th></th>\n",
       "      <th></th>\n",
       "      <th></th>\n",
       "      <th></th>\n",
       "      <th></th>\n",
       "      <th></th>\n",
       "      <th></th>\n",
       "      <th></th>\n",
       "      <th></th>\n",
       "      <th></th>\n",
       "      <th></th>\n",
       "      <th></th>\n",
       "      <th></th>\n",
       "      <th></th>\n",
       "      <th></th>\n",
       "      <th></th>\n",
       "      <th></th>\n",
       "      <th></th>\n",
       "      <th></th>\n",
       "    </tr>\n",
       "  </thead>\n",
       "  <tbody>\n",
       "    <tr>\n",
       "      <th>0</th>\n",
       "      <td>F</td>\n",
       "      <td>0.0</td>\n",
       "      <td>oui</td>\n",
       "      <td>non</td>\n",
       "      <td>1.0</td>\n",
       "      <td>non</td>\n",
       "      <td>bail</td>\n",
       "      <td>basic</td>\n",
       "      <td>non</td>\n",
       "      <td>oui</td>\n",
       "      <td>...</td>\n",
       "      <td>13216.762683</td>\n",
       "      <td>13859.206348</td>\n",
       "      <td>14679.466563</td>\n",
       "      <td>13231.780818</td>\n",
       "      <td>9072.502501</td>\n",
       "      <td>14730.850501</td>\n",
       "      <td>12920.861540</td>\n",
       "      <td>18742.551182</td>\n",
       "      <td>CENTRE</td>\n",
       "      <td>non</td>\n",
       "    </tr>\n",
       "    <tr>\n",
       "      <th>1</th>\n",
       "      <td>H</td>\n",
       "      <td>0.0</td>\n",
       "      <td>non</td>\n",
       "      <td>non</td>\n",
       "      <td>34.0</td>\n",
       "      <td>oui</td>\n",
       "      <td>permanent</td>\n",
       "      <td>basic</td>\n",
       "      <td>oui</td>\n",
       "      <td>non</td>\n",
       "      <td>...</td>\n",
       "      <td>8449.275069</td>\n",
       "      <td>15565.521380</td>\n",
       "      <td>13227.847825</td>\n",
       "      <td>19622.902605</td>\n",
       "      <td>16384.195278</td>\n",
       "      <td>19191.523166</td>\n",
       "      <td>19569.901065</td>\n",
       "      <td>27659.692989</td>\n",
       "      <td>NORD-OUEST</td>\n",
       "      <td>non</td>\n",
       "    </tr>\n",
       "    <tr>\n",
       "      <th>2</th>\n",
       "      <td>H</td>\n",
       "      <td>0.0</td>\n",
       "      <td>non</td>\n",
       "      <td>non</td>\n",
       "      <td>2.0</td>\n",
       "      <td>oui</td>\n",
       "      <td>permanent</td>\n",
       "      <td>basic</td>\n",
       "      <td>oui</td>\n",
       "      <td>NaN</td>\n",
       "      <td>...</td>\n",
       "      <td>16206.280478</td>\n",
       "      <td>19034.429135</td>\n",
       "      <td>23235.482709</td>\n",
       "      <td>22215.732325</td>\n",
       "      <td>24669.049563</td>\n",
       "      <td>26697.532271</td>\n",
       "      <td>32391.470014</td>\n",
       "      <td>26714.148725</td>\n",
       "      <td>SUD-OUEST</td>\n",
       "      <td>oui</td>\n",
       "    </tr>\n",
       "    <tr>\n",
       "      <th>3</th>\n",
       "      <td>H</td>\n",
       "      <td>0.0</td>\n",
       "      <td>non</td>\n",
       "      <td>non</td>\n",
       "      <td>45.0</td>\n",
       "      <td>non</td>\n",
       "      <td>bail</td>\n",
       "      <td>basic</td>\n",
       "      <td>oui</td>\n",
       "      <td>non</td>\n",
       "      <td>...</td>\n",
       "      <td>NaN</td>\n",
       "      <td>17632.635995</td>\n",
       "      <td>15620.487281</td>\n",
       "      <td>20787.992352</td>\n",
       "      <td>17710.886386</td>\n",
       "      <td>20745.284745</td>\n",
       "      <td>NaN</td>\n",
       "      <td>22871.768205</td>\n",
       "      <td>SUD-EST</td>\n",
       "      <td>non</td>\n",
       "    </tr>\n",
       "    <tr>\n",
       "      <th>4</th>\n",
       "      <td>F</td>\n",
       "      <td>0.0</td>\n",
       "      <td>non</td>\n",
       "      <td>non</td>\n",
       "      <td>2.0</td>\n",
       "      <td>oui</td>\n",
       "      <td>permanent</td>\n",
       "      <td>medium</td>\n",
       "      <td>non</td>\n",
       "      <td>non</td>\n",
       "      <td>...</td>\n",
       "      <td>11527.410647</td>\n",
       "      <td>9523.672653</td>\n",
       "      <td>8535.781042</td>\n",
       "      <td>13901.204569</td>\n",
       "      <td>13607.338517</td>\n",
       "      <td>15628.137128</td>\n",
       "      <td>17286.251614</td>\n",
       "      <td>18611.461589</td>\n",
       "      <td>SUD-OUEST</td>\n",
       "      <td>oui</td>\n",
       "    </tr>\n",
       "  </tbody>\n",
       "</table>\n",
       "<p>5 rows × 62 columns</p>\n",
       "</div>"
      ],
      "text/plain": [
       "          genre  espace_client_web assurance_vie banque_principale  \\\n",
       "id_client                                                            \n",
       "0             F                0.0           oui               non   \n",
       "1             H                0.0           non               non   \n",
       "2             H                0.0           non               non   \n",
       "3             H                0.0           non               non   \n",
       "4             F                0.0           non               non   \n",
       "\n",
       "           anciennete_mois compte_epargne credit_autres cartes_bancaires  \\\n",
       "id_client                                                                  \n",
       "0                      1.0            non          bail            basic   \n",
       "1                     34.0            oui     permanent            basic   \n",
       "2                      2.0            oui     permanent            basic   \n",
       "3                     45.0            non          bail            basic   \n",
       "4                      2.0            oui     permanent           medium   \n",
       "\n",
       "          compte_courant compte_joint  ...        var_31        var_32  \\\n",
       "id_client                              ...                               \n",
       "0                    non          oui  ...  13216.762683  13859.206348   \n",
       "1                    oui          non  ...   8449.275069  15565.521380   \n",
       "2                    oui          NaN  ...  16206.280478  19034.429135   \n",
       "3                    oui          non  ...           NaN  17632.635995   \n",
       "4                    non          non  ...  11527.410647   9523.672653   \n",
       "\n",
       "                 var_33        var_34        var_35        var_36  \\\n",
       "id_client                                                           \n",
       "0          14679.466563  13231.780818   9072.502501  14730.850501   \n",
       "1          13227.847825  19622.902605  16384.195278  19191.523166   \n",
       "2          23235.482709  22215.732325  24669.049563  26697.532271   \n",
       "3          15620.487281  20787.992352  17710.886386  20745.284745   \n",
       "4           8535.781042  13901.204569  13607.338517  15628.137128   \n",
       "\n",
       "                 var_37        var_38     branche  churn  \n",
       "id_client                                                 \n",
       "0          12920.861540  18742.551182      CENTRE    non  \n",
       "1          19569.901065  27659.692989  NORD-OUEST    non  \n",
       "2          32391.470014  26714.148725   SUD-OUEST    oui  \n",
       "3                   NaN  22871.768205     SUD-EST    non  \n",
       "4          17286.251614  18611.461589   SUD-OUEST    oui  \n",
       "\n",
       "[5 rows x 62 columns]"
      ]
     },
     "execution_count": 31,
     "metadata": {},
     "output_type": "execute_result"
    }
   ],
   "source": [
    "dataset = pd.read_csv('dataset.csv', sep=\";\", index_col=0)\n",
    "dataset.sort_values(by='id_client', ascending=True, inplace=True)\n",
    "dataset.head()"
   ]
  },
  {
   "cell_type": "code",
   "execution_count": 4,
   "id": "bcee1444",
   "metadata": {},
   "outputs": [
    {
     "data": {
      "text/plain": [
       "Index(['genre', 'espace_client_web', 'assurance_vie', 'banque_principale',\n",
       "       'anciennete_mois', 'compte_epargne', 'credit_autres',\n",
       "       'cartes_bancaires', 'compte_courant', 'compte_joint', 'PEA',\n",
       "       'assurance_auto', 'assurance_habitation', 'credit_immo', 'type',\n",
       "       'compte_titres', 'methode_contact', 'agios_6mois',\n",
       "       'interet_compte_epargne_total', 'age', 'segment_client', 'var_0',\n",
       "       'var_1', 'var_2', 'var_3', 'var_4', 'var_5', 'var_6', 'var_7', 'var_8',\n",
       "       'var_9', 'var_10', 'var_11', 'var_12', 'var_13', 'var_14', 'var_15',\n",
       "       'var_16', 'var_17', 'var_18', 'var_19', 'var_20', 'var_21', 'var_22',\n",
       "       'var_23', 'var_24', 'var_25', 'var_26', 'var_27', 'var_28', 'var_29',\n",
       "       'var_30', 'var_31', 'var_32', 'var_33', 'var_34', 'var_35', 'var_36',\n",
       "       'var_37', 'var_38', 'branche', 'churn'],\n",
       "      dtype='object')"
      ]
     },
     "execution_count": 4,
     "metadata": {},
     "output_type": "execute_result"
    }
   ],
   "source": [
    "dataset.columns"
   ]
  },
  {
   "cell_type": "code",
   "execution_count": 37,
   "id": "dc2beb50",
   "metadata": {},
   "outputs": [
    {
     "name": "stdout",
     "output_type": "stream",
     "text": [
      "<class 'pandas.core.frame.DataFrame'>\n",
      "Int64Index: 7043 entries, 0 to 7042\n",
      "Data columns (total 62 columns):\n",
      " #   Column                        Non-Null Count  Dtype  \n",
      "---  ------                        --------------  -----  \n",
      " 0   genre                         7043 non-null   float64\n",
      " 1   espace_client_web             7043 non-null   float64\n",
      " 2   assurance_vie                 7043 non-null   float64\n",
      " 3   banque_principale             7043 non-null   float64\n",
      " 4   anciennete_mois               7043 non-null   float64\n",
      " 5   compte_epargne                7043 non-null   float64\n",
      " 6   credit_autres                 7043 non-null   float64\n",
      " 7   cartes_bancaires              7043 non-null   float64\n",
      " 8   compte_courant                7043 non-null   int64  \n",
      " 9   compte_joint                  7043 non-null   int64  \n",
      " 10  PEA                           7043 non-null   int64  \n",
      " 11  assurance_auto                7043 non-null   int64  \n",
      " 12  assurance_habitation          7043 non-null   int64  \n",
      " 13  credit_immo                   7043 non-null   int64  \n",
      " 14  type                          7043 non-null   float64\n",
      " 15  compte_titres                 7043 non-null   float64\n",
      " 16  methode_contact               7043 non-null   float64\n",
      " 17  agios_6mois                   7043 non-null   float64\n",
      " 18  interet_compte_epargne_total  7043 non-null   float64\n",
      " 19  age                           7043 non-null   float64\n",
      " 20  segment_client                6886 non-null   object \n",
      " 21  var_0                         7043 non-null   float64\n",
      " 22  var_1                         7043 non-null   float64\n",
      " 23  var_2                         7043 non-null   float64\n",
      " 24  var_3                         7043 non-null   float64\n",
      " 25  var_4                         7043 non-null   float64\n",
      " 26  var_5                         7043 non-null   float64\n",
      " 27  var_6                         7043 non-null   float64\n",
      " 28  var_7                         7043 non-null   float64\n",
      " 29  var_8                         7043 non-null   float64\n",
      " 30  var_9                         7043 non-null   float64\n",
      " 31  var_10                        7043 non-null   float64\n",
      " 32  var_11                        7043 non-null   float64\n",
      " 33  var_12                        7043 non-null   float64\n",
      " 34  var_13                        7043 non-null   float64\n",
      " 35  var_14                        7043 non-null   float64\n",
      " 36  var_15                        7043 non-null   float64\n",
      " 37  var_16                        7043 non-null   float64\n",
      " 38  var_17                        7043 non-null   float64\n",
      " 39  var_18                        7043 non-null   float64\n",
      " 40  var_19                        7043 non-null   float64\n",
      " 41  var_20                        7043 non-null   float64\n",
      " 42  var_21                        7043 non-null   float64\n",
      " 43  var_22                        7043 non-null   float64\n",
      " 44  var_23                        7043 non-null   float64\n",
      " 45  var_24                        7043 non-null   float64\n",
      " 46  var_25                        7043 non-null   float64\n",
      " 47  var_26                        7043 non-null   float64\n",
      " 48  var_27                        7043 non-null   float64\n",
      " 49  var_28                        7043 non-null   float64\n",
      " 50  var_29                        7043 non-null   float64\n",
      " 51  var_30                        7043 non-null   float64\n",
      " 52  var_31                        7043 non-null   float64\n",
      " 53  var_32                        7043 non-null   float64\n",
      " 54  var_33                        7043 non-null   float64\n",
      " 55  var_34                        7043 non-null   float64\n",
      " 56  var_35                        7043 non-null   float64\n",
      " 57  var_36                        7043 non-null   float64\n",
      " 58  var_37                        7043 non-null   float64\n",
      " 59  var_38                        7043 non-null   float64\n",
      " 60  branche                       6914 non-null   object \n",
      " 61  churn                         7043 non-null   int64  \n",
      "dtypes: float64(53), int64(7), object(2)\n",
      "memory usage: 3.4+ MB\n"
     ]
    }
   ],
   "source": [
    "dataset.info()"
   ]
  },
  {
   "cell_type": "code",
   "execution_count": 6,
   "id": "a2340421",
   "metadata": {},
   "outputs": [
    {
     "data": {
      "text/html": [
       "<div>\n",
       "<style scoped>\n",
       "    .dataframe tbody tr th:only-of-type {\n",
       "        vertical-align: middle;\n",
       "    }\n",
       "\n",
       "    .dataframe tbody tr th {\n",
       "        vertical-align: top;\n",
       "    }\n",
       "\n",
       "    .dataframe thead th {\n",
       "        text-align: right;\n",
       "    }\n",
       "</style>\n",
       "<table border=\"1\" class=\"dataframe\">\n",
       "  <thead>\n",
       "    <tr style=\"text-align: right;\">\n",
       "      <th></th>\n",
       "      <th>espace_client_web</th>\n",
       "      <th>anciennete_mois</th>\n",
       "      <th>agios_6mois</th>\n",
       "      <th>age</th>\n",
       "      <th>var_0</th>\n",
       "      <th>var_1</th>\n",
       "      <th>var_2</th>\n",
       "      <th>var_3</th>\n",
       "      <th>var_4</th>\n",
       "      <th>var_5</th>\n",
       "      <th>...</th>\n",
       "      <th>var_29</th>\n",
       "      <th>var_30</th>\n",
       "      <th>var_31</th>\n",
       "      <th>var_32</th>\n",
       "      <th>var_33</th>\n",
       "      <th>var_34</th>\n",
       "      <th>var_35</th>\n",
       "      <th>var_36</th>\n",
       "      <th>var_37</th>\n",
       "      <th>var_38</th>\n",
       "    </tr>\n",
       "  </thead>\n",
       "  <tbody>\n",
       "    <tr>\n",
       "      <th>count</th>\n",
       "      <td>6916.000000</td>\n",
       "      <td>6909.000000</td>\n",
       "      <td>6896.000000</td>\n",
       "      <td>6889.000000</td>\n",
       "      <td>6893.000000</td>\n",
       "      <td>6905.000000</td>\n",
       "      <td>6885.000000</td>\n",
       "      <td>6896.000000</td>\n",
       "      <td>6905.000000</td>\n",
       "      <td>6901.000000</td>\n",
       "      <td>...</td>\n",
       "      <td>6899.000000</td>\n",
       "      <td>6887.000000</td>\n",
       "      <td>6891.000000</td>\n",
       "      <td>6896.000000</td>\n",
       "      <td>6909.000000</td>\n",
       "      <td>6901.000000</td>\n",
       "      <td>6912.000000</td>\n",
       "      <td>6908.000000</td>\n",
       "      <td>6895.000000</td>\n",
       "      <td>6888.000000</td>\n",
       "    </tr>\n",
       "    <tr>\n",
       "      <th>mean</th>\n",
       "      <td>0.162666</td>\n",
       "      <td>32.378926</td>\n",
       "      <td>64.761615</td>\n",
       "      <td>43.608506</td>\n",
       "      <td>7179.987046</td>\n",
       "      <td>9181.184842</td>\n",
       "      <td>11216.801336</td>\n",
       "      <td>13181.565491</td>\n",
       "      <td>15226.615127</td>\n",
       "      <td>17203.245908</td>\n",
       "      <td>...</td>\n",
       "      <td>9785.838628</td>\n",
       "      <td>11068.392722</td>\n",
       "      <td>12451.917950</td>\n",
       "      <td>13847.487586</td>\n",
       "      <td>15330.769094</td>\n",
       "      <td>16951.694375</td>\n",
       "      <td>18658.079824</td>\n",
       "      <td>20385.900574</td>\n",
       "      <td>22273.316999</td>\n",
       "      <td>24236.491341</td>\n",
       "    </tr>\n",
       "    <tr>\n",
       "      <th>std</th>\n",
       "      <td>0.369088</td>\n",
       "      <td>24.572971</td>\n",
       "      <td>30.101904</td>\n",
       "      <td>16.215077</td>\n",
       "      <td>5810.200728</td>\n",
       "      <td>6146.097003</td>\n",
       "      <td>6473.621085</td>\n",
       "      <td>6755.778274</td>\n",
       "      <td>7027.169215</td>\n",
       "      <td>7292.260550</td>\n",
       "      <td>...</td>\n",
       "      <td>5557.064049</td>\n",
       "      <td>6048.259593</td>\n",
       "      <td>6548.008325</td>\n",
       "      <td>7052.226589</td>\n",
       "      <td>7588.094743</td>\n",
       "      <td>8077.431652</td>\n",
       "      <td>8687.004053</td>\n",
       "      <td>9186.926461</td>\n",
       "      <td>9830.595029</td>\n",
       "      <td>10422.086601</td>\n",
       "    </tr>\n",
       "    <tr>\n",
       "      <th>min</th>\n",
       "      <td>0.000000</td>\n",
       "      <td>0.000000</td>\n",
       "      <td>18.250000</td>\n",
       "      <td>20.000000</td>\n",
       "      <td>0.767658</td>\n",
       "      <td>-4241.785944</td>\n",
       "      <td>-3519.347763</td>\n",
       "      <td>-3913.768064</td>\n",
       "      <td>-5409.713059</td>\n",
       "      <td>-3465.351758</td>\n",
       "      <td>...</td>\n",
       "      <td>-11.430930</td>\n",
       "      <td>31.496118</td>\n",
       "      <td>51.786562</td>\n",
       "      <td>258.614091</td>\n",
       "      <td>474.166678</td>\n",
       "      <td>1050.553067</td>\n",
       "      <td>1401.075175</td>\n",
       "      <td>1704.972375</td>\n",
       "      <td>1924.631757</td>\n",
       "      <td>2703.861155</td>\n",
       "    </tr>\n",
       "    <tr>\n",
       "      <th>25%</th>\n",
       "      <td>0.000000</td>\n",
       "      <td>9.000000</td>\n",
       "      <td>35.500000</td>\n",
       "      <td>31.000000</td>\n",
       "      <td>2711.797553</td>\n",
       "      <td>4684.731756</td>\n",
       "      <td>6636.687807</td>\n",
       "      <td>8445.162191</td>\n",
       "      <td>10366.064325</td>\n",
       "      <td>12137.799285</td>\n",
       "      <td>...</td>\n",
       "      <td>5863.700722</td>\n",
       "      <td>6822.771605</td>\n",
       "      <td>7808.787487</td>\n",
       "      <td>8856.463378</td>\n",
       "      <td>9925.688827</td>\n",
       "      <td>11192.255014</td>\n",
       "      <td>12495.574275</td>\n",
       "      <td>13819.139453</td>\n",
       "      <td>15285.970426</td>\n",
       "      <td>16756.046193</td>\n",
       "    </tr>\n",
       "    <tr>\n",
       "      <th>50%</th>\n",
       "      <td>0.000000</td>\n",
       "      <td>29.000000</td>\n",
       "      <td>70.325000</td>\n",
       "      <td>40.000000</td>\n",
       "      <td>5761.948333</td>\n",
       "      <td>7932.505258</td>\n",
       "      <td>10077.513755</td>\n",
       "      <td>12216.321177</td>\n",
       "      <td>14357.736653</td>\n",
       "      <td>16323.371152</td>\n",
       "      <td>...</td>\n",
       "      <td>8795.690408</td>\n",
       "      <td>9991.322358</td>\n",
       "      <td>11349.583083</td>\n",
       "      <td>12688.437278</td>\n",
       "      <td>14165.118676</td>\n",
       "      <td>15661.366988</td>\n",
       "      <td>17348.631325</td>\n",
       "      <td>19163.547474</td>\n",
       "      <td>20858.094755</td>\n",
       "      <td>22798.226057</td>\n",
       "    </tr>\n",
       "    <tr>\n",
       "      <th>75%</th>\n",
       "      <td>0.000000</td>\n",
       "      <td>55.000000</td>\n",
       "      <td>89.900000</td>\n",
       "      <td>54.000000</td>\n",
       "      <td>10136.583353</td>\n",
       "      <td>12472.797039</td>\n",
       "      <td>14815.834866</td>\n",
       "      <td>16987.139371</td>\n",
       "      <td>19319.195330</td>\n",
       "      <td>21591.663391</td>\n",
       "      <td>...</td>\n",
       "      <td>12498.175513</td>\n",
       "      <td>14106.366808</td>\n",
       "      <td>15778.954065</td>\n",
       "      <td>17538.748692</td>\n",
       "      <td>19411.026782</td>\n",
       "      <td>21410.796020</td>\n",
       "      <td>23378.954041</td>\n",
       "      <td>25524.326086</td>\n",
       "      <td>27639.687915</td>\n",
       "      <td>30000.951224</td>\n",
       "    </tr>\n",
       "    <tr>\n",
       "      <th>max</th>\n",
       "      <td>1.000000</td>\n",
       "      <td>72.000000</td>\n",
       "      <td>118.750000</td>\n",
       "      <td>121.000000</td>\n",
       "      <td>41438.097046</td>\n",
       "      <td>46912.076512</td>\n",
       "      <td>51594.948678</td>\n",
       "      <td>54555.922640</td>\n",
       "      <td>58810.829646</td>\n",
       "      <td>61873.729354</td>\n",
       "      <td>...</td>\n",
       "      <td>63031.464743</td>\n",
       "      <td>65002.617141</td>\n",
       "      <td>70562.371244</td>\n",
       "      <td>68887.212623</td>\n",
       "      <td>72692.134039</td>\n",
       "      <td>83405.277234</td>\n",
       "      <td>80492.250287</td>\n",
       "      <td>90443.667291</td>\n",
       "      <td>86499.286501</td>\n",
       "      <td>91176.277613</td>\n",
       "    </tr>\n",
       "  </tbody>\n",
       "</table>\n",
       "<p>8 rows × 43 columns</p>\n",
       "</div>"
      ],
      "text/plain": [
       "       espace_client_web  anciennete_mois  agios_6mois          age  \\\n",
       "count        6916.000000      6909.000000  6896.000000  6889.000000   \n",
       "mean            0.162666        32.378926    64.761615    43.608506   \n",
       "std             0.369088        24.572971    30.101904    16.215077   \n",
       "min             0.000000         0.000000    18.250000    20.000000   \n",
       "25%             0.000000         9.000000    35.500000    31.000000   \n",
       "50%             0.000000        29.000000    70.325000    40.000000   \n",
       "75%             0.000000        55.000000    89.900000    54.000000   \n",
       "max             1.000000        72.000000   118.750000   121.000000   \n",
       "\n",
       "              var_0         var_1         var_2         var_3         var_4  \\\n",
       "count   6893.000000   6905.000000   6885.000000   6896.000000   6905.000000   \n",
       "mean    7179.987046   9181.184842  11216.801336  13181.565491  15226.615127   \n",
       "std     5810.200728   6146.097003   6473.621085   6755.778274   7027.169215   \n",
       "min        0.767658  -4241.785944  -3519.347763  -3913.768064  -5409.713059   \n",
       "25%     2711.797553   4684.731756   6636.687807   8445.162191  10366.064325   \n",
       "50%     5761.948333   7932.505258  10077.513755  12216.321177  14357.736653   \n",
       "75%    10136.583353  12472.797039  14815.834866  16987.139371  19319.195330   \n",
       "max    41438.097046  46912.076512  51594.948678  54555.922640  58810.829646   \n",
       "\n",
       "              var_5  ...        var_29        var_30        var_31  \\\n",
       "count   6901.000000  ...   6899.000000   6887.000000   6891.000000   \n",
       "mean   17203.245908  ...   9785.838628  11068.392722  12451.917950   \n",
       "std     7292.260550  ...   5557.064049   6048.259593   6548.008325   \n",
       "min    -3465.351758  ...    -11.430930     31.496118     51.786562   \n",
       "25%    12137.799285  ...   5863.700722   6822.771605   7808.787487   \n",
       "50%    16323.371152  ...   8795.690408   9991.322358  11349.583083   \n",
       "75%    21591.663391  ...  12498.175513  14106.366808  15778.954065   \n",
       "max    61873.729354  ...  63031.464743  65002.617141  70562.371244   \n",
       "\n",
       "             var_32        var_33        var_34        var_35        var_36  \\\n",
       "count   6896.000000   6909.000000   6901.000000   6912.000000   6908.000000   \n",
       "mean   13847.487586  15330.769094  16951.694375  18658.079824  20385.900574   \n",
       "std     7052.226589   7588.094743   8077.431652   8687.004053   9186.926461   \n",
       "min      258.614091    474.166678   1050.553067   1401.075175   1704.972375   \n",
       "25%     8856.463378   9925.688827  11192.255014  12495.574275  13819.139453   \n",
       "50%    12688.437278  14165.118676  15661.366988  17348.631325  19163.547474   \n",
       "75%    17538.748692  19411.026782  21410.796020  23378.954041  25524.326086   \n",
       "max    68887.212623  72692.134039  83405.277234  80492.250287  90443.667291   \n",
       "\n",
       "             var_37        var_38  \n",
       "count   6895.000000   6888.000000  \n",
       "mean   22273.316999  24236.491341  \n",
       "std     9830.595029  10422.086601  \n",
       "min     1924.631757   2703.861155  \n",
       "25%    15285.970426  16756.046193  \n",
       "50%    20858.094755  22798.226057  \n",
       "75%    27639.687915  30000.951224  \n",
       "max    86499.286501  91176.277613  \n",
       "\n",
       "[8 rows x 43 columns]"
      ]
     },
     "execution_count": 6,
     "metadata": {},
     "output_type": "execute_result"
    }
   ],
   "source": [
    "dataset.describe()"
   ]
  },
  {
   "cell_type": "code",
   "execution_count": 7,
   "id": "478c1ce5",
   "metadata": {},
   "outputs": [
    {
     "data": {
      "text/plain": [
       "genre                 object\n",
       "espace_client_web    float64\n",
       "assurance_vie         object\n",
       "banque_principale     object\n",
       "anciennete_mois      float64\n",
       "                      ...   \n",
       "var_36               float64\n",
       "var_37               float64\n",
       "var_38               float64\n",
       "branche               object\n",
       "churn                 object\n",
       "Length: 62, dtype: object"
      ]
     },
     "execution_count": 7,
     "metadata": {},
     "output_type": "execute_result"
    }
   ],
   "source": [
    "dataset.dtypes"
   ]
  },
  {
   "cell_type": "code",
   "execution_count": 8,
   "id": "434f5486",
   "metadata": {},
   "outputs": [
    {
     "data": {
      "text/plain": [
       "{float64: ['espace_client_web', 'anciennete_mois', 'agios_6mois', 'age', 'var_0', 'var_1', 'var_2', 'var_3', 'var_4', 'var_5', 'var_6', 'var_7', 'var_8', 'var_9', 'var_10', 'var_11', 'var_12', 'var_13', 'var_14', 'var_15', 'var_16', 'var_17', 'var_18', 'var_19', 'var_20', 'var_21', 'var_22', 'var_23', 'var_24', 'var_25', 'var_26', 'var_27', 'var_28', 'var_29', 'var_30', 'var_31', 'var_32', 'var_33', 'var_34', 'var_35', 'var_36', 'var_37', 'var_38'], object: ['genre', 'assurance_vie', 'banque_principale', 'compte_epargne', 'credit_autres', 'cartes_bancaires', 'compte_courant', 'compte_joint', 'PEA', 'assurance_auto', 'assurance_habitation', 'credit_immo', 'type', 'compte_titres', 'methode_contact', 'interet_compte_epargne_total', 'segment_client', 'branche', 'churn']}"
      ]
     },
     "execution_count": 8,
     "metadata": {},
     "output_type": "execute_result"
    }
   ],
   "source": [
    "dataset.columns.to_series().groupby(dataset.dtypes).groups"
   ]
  },
  {
   "cell_type": "markdown",
   "id": "79daef99",
   "metadata": {},
   "source": [
    "### Observation des différentes valeurs présentes dans chaque colonne "
   ]
  },
  {
   "cell_type": "code",
   "execution_count": 9,
   "id": "c19ccd92",
   "metadata": {},
   "outputs": [
    {
     "data": {
      "text/markdown": [
       "Les valeurs uniques de la colonne **genre** sont : ['F' 'H' nan]"
      ],
      "text/plain": [
       "<IPython.core.display.Markdown object>"
      ]
     },
     "metadata": {},
     "output_type": "display_data"
    },
    {
     "data": {
      "text/markdown": [
       "Les valeurs uniques de la colonne **espace_client_web** sont : [ 0.  1. nan]"
      ],
      "text/plain": [
       "<IPython.core.display.Markdown object>"
      ]
     },
     "metadata": {},
     "output_type": "display_data"
    },
    {
     "data": {
      "text/markdown": [
       "Les valeurs uniques de la colonne **assurance_vie** sont : ['oui' 'non' nan]"
      ],
      "text/plain": [
       "<IPython.core.display.Markdown object>"
      ]
     },
     "metadata": {},
     "output_type": "display_data"
    },
    {
     "data": {
      "text/markdown": [
       "Les valeurs uniques de la colonne **banque_principale** sont : ['non' 'oui' nan]"
      ],
      "text/plain": [
       "<IPython.core.display.Markdown object>"
      ]
     },
     "metadata": {},
     "output_type": "display_data"
    },
    {
     "data": {
      "text/markdown": [
       "Les valeurs uniques de la colonne **anciennete_mois** sont : [ 1. 34.  2. 45.  8. 22. 10. 28. 62. 13. 16. 58. 49. 25. 69. 52. 71. 21.\n",
       " 12. nan 30. 47. 72. 17. 27.  5. 46. 11. 70. 63. 43. 15. 60. 18. 66.  9.\n",
       "  3. 31. 50. 64. 56.  7. 42. 35. 48. 29. 65. 38. 68. 32. 55. 37. 36. 41.\n",
       "  6.  4. 33. 67. 23. 57. 61. 14. 20. 53. 40. 59. 24. 44. 19. 54. 51. 26.\n",
       "  0. 39.]"
      ],
      "text/plain": [
       "<IPython.core.display.Markdown object>"
      ]
     },
     "metadata": {},
     "output_type": "display_data"
    },
    {
     "data": {
      "text/markdown": [
       "Les valeurs uniques de la colonne **compte_epargne** sont : ['non' 'oui' nan]"
      ],
      "text/plain": [
       "<IPython.core.display.Markdown object>"
      ]
     },
     "metadata": {},
     "output_type": "display_data"
    },
    {
     "data": {
      "text/markdown": [
       "Les valeurs uniques de la colonne **credit_autres** sont : ['bail' 'permanent' 'consommation' nan]"
      ],
      "text/plain": [
       "<IPython.core.display.Markdown object>"
      ]
     },
     "metadata": {},
     "output_type": "display_data"
    },
    {
     "data": {
      "text/markdown": [
       "Les valeurs uniques de la colonne **cartes_bancaires** sont : ['basic' 'medium' 'premium' nan]"
      ],
      "text/plain": [
       "<IPython.core.display.Markdown object>"
      ]
     },
     "metadata": {},
     "output_type": "display_data"
    },
    {
     "data": {
      "text/markdown": [
       "Les valeurs uniques de la colonne **compte_courant** sont : ['non' 'oui' 'inconnu' nan]"
      ],
      "text/plain": [
       "<IPython.core.display.Markdown object>"
      ]
     },
     "metadata": {},
     "output_type": "display_data"
    },
    {
     "data": {
      "text/markdown": [
       "Les valeurs uniques de la colonne **compte_joint** sont : ['oui' 'non' nan 'inconnu']"
      ],
      "text/plain": [
       "<IPython.core.display.Markdown object>"
      ]
     },
     "metadata": {},
     "output_type": "display_data"
    },
    {
     "data": {
      "text/markdown": [
       "Les valeurs uniques de la colonne **PEA** sont : ['non' 'oui' 'inconnu' nan]"
      ],
      "text/plain": [
       "<IPython.core.display.Markdown object>"
      ]
     },
     "metadata": {},
     "output_type": "display_data"
    },
    {
     "data": {
      "text/markdown": [
       "Les valeurs uniques de la colonne **assurance_auto** sont : ['non' 'oui' 'inconnu' nan]"
      ],
      "text/plain": [
       "<IPython.core.display.Markdown object>"
      ]
     },
     "metadata": {},
     "output_type": "display_data"
    },
    {
     "data": {
      "text/markdown": [
       "Les valeurs uniques de la colonne **assurance_habitation** sont : ['non' 'oui' nan 'inconnu']"
      ],
      "text/plain": [
       "<IPython.core.display.Markdown object>"
      ]
     },
     "metadata": {},
     "output_type": "display_data"
    },
    {
     "data": {
      "text/markdown": [
       "Les valeurs uniques de la colonne **credit_immo** sont : ['non' 'oui' 'inconnu' nan]"
      ],
      "text/plain": [
       "<IPython.core.display.Markdown object>"
      ]
     },
     "metadata": {},
     "output_type": "display_data"
    },
    {
     "data": {
      "text/markdown": [
       "Les valeurs uniques de la colonne **type** sont : ['pro' 'perso' nan]"
      ],
      "text/plain": [
       "<IPython.core.display.Markdown object>"
      ]
     },
     "metadata": {},
     "output_type": "display_data"
    },
    {
     "data": {
      "text/markdown": [
       "Les valeurs uniques de la colonne **compte_titres** sont : ['oui' 'non' nan]"
      ],
      "text/plain": [
       "<IPython.core.display.Markdown object>"
      ]
     },
     "metadata": {},
     "output_type": "display_data"
    },
    {
     "data": {
      "text/markdown": [
       "Les valeurs uniques de la colonne **methode_contact** sont : ['mail' 'courrier' 'telephone' 'sms' nan]"
      ],
      "text/plain": [
       "<IPython.core.display.Markdown object>"
      ]
     },
     "metadata": {},
     "output_type": "display_data"
    },
    {
     "data": {
      "text/markdown": [
       "Les valeurs uniques de la colonne **agios_6mois** sont : [29.85 56.95 53.85 ... 63.1  44.2  78.7 ]"
      ],
      "text/plain": [
       "<IPython.core.display.Markdown object>"
      ]
     },
     "metadata": {},
     "output_type": "display_data"
    },
    {
     "data": {
      "text/markdown": [
       "Les valeurs uniques de la colonne **interet_compte_epargne_total** sont : ['29.85' '1889.5' '108.15' ... '346.45' '306.6' '6844.5']"
      ],
      "text/plain": [
       "<IPython.core.display.Markdown object>"
      ]
     },
     "metadata": {},
     "output_type": "display_data"
    },
    {
     "data": {
      "text/markdown": [
       "Les valeurs uniques de la colonne **age** sont : [ 97.  30.  26.  40.  20.  56.  87.  80.  28.  35.  33.  43.  25.  36.\n",
       "  52.  38.  21.  24.  45.  82.  32.  44.  59.  41.  58.  69.  49.  23.\n",
       "  34.  61.  72.  55.  89.  60.  29.  93.  nan  48.  50.  39.  27.  42.\n",
       "  84.  75.  76.  54.  53.  31.  22.  51.  77.  65.  46.  81.  37.  64.\n",
       "  47.  71.  73.  86.  79.  78.  57.  62.  67.  74.  63.  85.  70.  66.\n",
       "  68.  94.  91.  83.  98.  92.  96. 121.  95.  90. 108.  88. 112. 107.\n",
       "  99. 100. 103. 101. 104.]"
      ],
      "text/plain": [
       "<IPython.core.display.Markdown object>"
      ]
     },
     "metadata": {},
     "output_type": "display_data"
    },
    {
     "data": {
      "text/markdown": [
       "Les valeurs uniques de la colonne **segment_client** sont : ['C4' 'B1' 'A2' 'A1' 'D3' 'D1' 'C3' 'C1' 'B4' 'A4' 'C2' 'A3' nan 'B2' 'B3'\n",
       " 'D2']"
      ],
      "text/plain": [
       "<IPython.core.display.Markdown object>"
      ]
     },
     "metadata": {},
     "output_type": "display_data"
    },
    {
     "data": {
      "text/markdown": [
       "Les valeurs uniques de la colonne **var_0** sont : [10544.54057498  6098.8386066   5564.5048745  ... 24494.10348552\n",
       "  9653.77935819  6692.33300426]"
      ],
      "text/plain": [
       "<IPython.core.display.Markdown object>"
      ]
     },
     "metadata": {},
     "output_type": "display_data"
    },
    {
     "data": {
      "text/markdown": [
       "Les valeurs uniques de la colonne **var_1** sont : [11840.84392116  7509.87114577 10149.2170228  ... 28208.77395214\n",
       " 10963.32064312 12521.34158049]"
      ],
      "text/plain": [
       "<IPython.core.display.Markdown object>"
      ]
     },
     "metadata": {},
     "output_type": "display_data"
    },
    {
     "data": {
      "text/markdown": [
       "Les valeurs uniques de la colonne **var_2** sont : [12101.25396605  9411.43513181 12132.3940807  ... 30625.00983201\n",
       " 10933.49940825 19310.72014794]"
      ],
      "text/plain": [
       "<IPython.core.display.Markdown object>"
      ]
     },
     "metadata": {},
     "output_type": "display_data"
    },
    {
     "data": {
      "text/markdown": [
       "Les valeurs uniques de la colonne **var_3** sont : [16138.58384687 12128.85595669 15965.7489854  ... 34090.28677803\n",
       " 11315.13329545 21889.49644929]"
      ],
      "text/plain": [
       "<IPython.core.display.Markdown object>"
      ]
     },
     "metadata": {},
     "output_type": "display_data"
    },
    {
     "data": {
      "text/markdown": [
       "Les valeurs uniques de la colonne **var_4** sont : [19256.14892925 12417.6870163  15532.4694874  ... 34270.95061788\n",
       " 11731.91029051 25079.07545015]"
      ],
      "text/plain": [
       "<IPython.core.display.Markdown object>"
      ]
     },
     "metadata": {},
     "output_type": "display_data"
    },
    {
     "data": {
      "text/markdown": [
       "Les valeurs uniques de la colonne **var_5** sont : [22711.19813804 13899.77575918 18011.84673982 ... 35469.78179941\n",
       " 14231.24028586 26674.73142552]"
      ],
      "text/plain": [
       "<IPython.core.display.Markdown object>"
      ]
     },
     "metadata": {},
     "output_type": "display_data"
    },
    {
     "data": {
      "text/markdown": [
       "Les valeurs uniques de la colonne **var_6** sont : [27090.22328045 17004.80958532 25140.88251687 ... 36492.39380791\n",
       " 15682.8938489  32344.47736639]"
      ],
      "text/plain": [
       "<IPython.core.display.Markdown object>"
      ]
     },
     "metadata": {},
     "output_type": "display_data"
    },
    {
     "data": {
      "text/markdown": [
       "Les valeurs uniques de la colonne **var_7** sont : [26271.00160665 20172.17019145 24200.10981534 ... 35915.61818159\n",
       " 20199.28205753 36004.76114141]"
      ],
      "text/plain": [
       "<IPython.core.display.Markdown object>"
      ]
     },
     "metadata": {},
     "output_type": "display_data"
    },
    {
     "data": {
      "text/markdown": [
       "Les valeurs uniques de la colonne **var_8** sont : [29031.46321488 23648.47902925 24708.30013525 ... 34307.04935314\n",
       " 30114.01966765 37988.24963839]"
      ],
      "text/plain": [
       "<IPython.core.display.Markdown object>"
      ]
     },
     "metadata": {},
     "output_type": "display_data"
    },
    {
     "data": {
      "text/markdown": [
       "Les valeurs uniques de la colonne **var_9** sont : [29517.77631599 25149.39113382 28416.23654399 ... 34810.08010851\n",
       " 34109.06165683 41458.62750937]"
      ],
      "text/plain": [
       "<IPython.core.display.Markdown object>"
      ]
     },
     "metadata": {},
     "output_type": "display_data"
    },
    {
     "data": {
      "text/markdown": [
       "Les valeurs uniques de la colonne **var_10** sont : [31132.29742153 27536.10595738 31940.63324065 ... 33213.2469494\n",
       " 37382.25428173 47022.60017144]"
      ],
      "text/plain": [
       "<IPython.core.display.Markdown object>"
      ]
     },
     "metadata": {},
     "output_type": "display_data"
    },
    {
     "data": {
      "text/markdown": [
       "Les valeurs uniques de la colonne **var_11** sont : [30341.41758676 27997.41585325 35380.41682641 ... 36066.96186766\n",
       " 40161.10749083 47568.95050307]"
      ],
      "text/plain": [
       "<IPython.core.display.Markdown object>"
      ]
     },
     "metadata": {},
     "output_type": "display_data"
    },
    {
     "data": {
      "text/markdown": [
       "Les valeurs uniques de la colonne **var_12** sont : [30079.87383118 30377.76100723 37303.42167644 ... 38043.03554351\n",
       " 41656.76457629 49379.91916824]"
      ],
      "text/plain": [
       "<IPython.core.display.Markdown object>"
      ]
     },
     "metadata": {},
     "output_type": "display_data"
    },
    {
     "data": {
      "text/markdown": [
       "Les valeurs uniques de la colonne **var_13** sont : [34618.0447732  33584.62128589 42070.02704508 ... 33360.7440428\n",
       " 48099.83982266 53365.77989953]"
      ],
      "text/plain": [
       "<IPython.core.display.Markdown object>"
      ]
     },
     "metadata": {},
     "output_type": "display_data"
    },
    {
     "data": {
      "text/markdown": [
       "Les valeurs uniques de la colonne **var_14** sont : [31134.68148138 38424.75023941 44395.83894436 ... 37228.17695931\n",
       " 46444.96643147 58175.86417579]"
      ],
      "text/plain": [
       "<IPython.core.display.Markdown object>"
      ]
     },
     "metadata": {},
     "output_type": "display_data"
    },
    {
     "data": {
      "text/markdown": [
       "Les valeurs uniques de la colonne **var_15** sont : [29277.52324609 38276.04308704            nan ... 47085.71815218\n",
       " 50892.32178979 58234.99196722]"
      ],
      "text/plain": [
       "<IPython.core.display.Markdown object>"
      ]
     },
     "metadata": {},
     "output_type": "display_data"
    },
    {
     "data": {
      "text/markdown": [
       "Les valeurs uniques de la colonne **var_16** sont : [32589.02057069 39632.64004688            nan ... 49620.03753516\n",
       " 54233.36916602 60101.69416635]"
      ],
      "text/plain": [
       "<IPython.core.display.Markdown object>"
      ]
     },
     "metadata": {},
     "output_type": "display_data"
    },
    {
     "data": {
      "text/markdown": [
       "Les valeurs uniques de la colonne **var_17** sont : [34717.22494068 40341.92173629 48733.90480659 ... 55038.271698\n",
       " 55067.66806868 63003.75091434]"
      ],
      "text/plain": [
       "<IPython.core.display.Markdown object>"
      ]
     },
     "metadata": {},
     "output_type": "display_data"
    },
    {
     "data": {
      "text/markdown": [
       "Les valeurs uniques de la colonne **var_18** sont : [36343.67155272 45619.17519934 47414.90011191 ... 57598.54865183\n",
       " 56426.16358299 65194.77070757]"
      ],
      "text/plain": [
       "<IPython.core.display.Markdown object>"
      ]
     },
     "metadata": {},
     "output_type": "display_data"
    },
    {
     "data": {
      "text/markdown": [
       "Les valeurs uniques de la colonne **var_19** sont : [39073.72719049 46131.13518024 50740.3721661  ... 62831.75799706\n",
       " 57942.67318864 66861.60522869]"
      ],
      "text/plain": [
       "<IPython.core.display.Markdown object>"
      ]
     },
     "metadata": {},
     "output_type": "display_data"
    },
    {
     "data": {
      "text/markdown": [
       "Les valeurs uniques de la colonne **var_20** sont : [ 1950.18202696  1635.9606438   1875.98982416 ... 10441.77155169\n",
       "  3353.64647627  1384.97682157]"
      ],
      "text/plain": [
       "<IPython.core.display.Markdown object>"
      ]
     },
     "metadata": {},
     "output_type": "display_data"
    },
    {
     "data": {
      "text/markdown": [
       "Les valeurs uniques de la colonne **var_21** sont : [ 4552.43496423  2044.59432417  2417.27589588 ... 12508.62312514\n",
       "  4032.32485981  2765.22130447]"
      ],
      "text/plain": [
       "<IPython.core.display.Markdown object>"
      ]
     },
     "metadata": {},
     "output_type": "display_data"
    },
    {
     "data": {
      "text/markdown": [
       "Les valeurs uniques de la colonne **var_22** sont : [ 3912.29058888            nan  2510.60742172 ... 12999.92649323\n",
       "  2072.65969005  6114.02440301]"
      ],
      "text/plain": [
       "<IPython.core.display.Markdown object>"
      ]
     },
     "metadata": {},
     "output_type": "display_data"
    },
    {
     "data": {
      "text/markdown": [
       "Les valeurs uniques de la colonne **var_23** sont : [ 3983.01898986  4145.9107448   3144.79517175 ... 16564.00920223\n",
       "  2248.47930401  5871.11720134]"
      ],
      "text/plain": [
       "<IPython.core.display.Markdown object>"
      ]
     },
     "metadata": {},
     "output_type": "display_data"
    },
    {
     "data": {
      "text/markdown": [
       "Les valeurs uniques de la colonne **var_24** sont : [ 5672.72239299  4414.69869041  3670.91946961 ... 15483.04514118\n",
       "  3574.38341267  7240.21616654]"
      ],
      "text/plain": [
       "<IPython.core.display.Markdown object>"
      ]
     },
     "metadata": {},
     "output_type": "display_data"
    },
    {
     "data": {
      "text/markdown": [
       "Les valeurs uniques de la colonne **var_25** sont : [ 7266.72785419  3489.18948227  4766.68958598 ... 14453.11151172\n",
       "  3599.97142304 10095.3245103 ]"
      ],
      "text/plain": [
       "<IPython.core.display.Markdown object>"
      ]
     },
     "metadata": {},
     "output_type": "display_data"
    },
    {
     "data": {
      "text/markdown": [
       "Les valeurs uniques de la colonne **var_26** sont : [10224.9772427   4457.73483234  7042.69734714 ... 17951.02317677\n",
       "  4371.77058576 13937.88111979]"
      ],
      "text/plain": [
       "<IPython.core.display.Markdown object>"
      ]
     },
     "metadata": {},
     "output_type": "display_data"
    },
    {
     "data": {
      "text/markdown": [
       "Les valeurs uniques de la colonne **var_27** sont : [ 8102.84036006  7802.79354578  7090.29224782 ... 15092.3814499\n",
       "  7553.79137014 13043.27729861]"
      ],
      "text/plain": [
       "<IPython.core.display.Markdown object>"
      ]
     },
     "metadata": {},
     "output_type": "display_data"
    },
    {
     "data": {
      "text/markdown": [
       "Les valeurs uniques de la colonne **var_28** sont : [13049.60414184  8647.95310783  7589.64150269 ... 16841.86112829\n",
       " 13182.81525385 18854.22255998]"
      ],
      "text/plain": [
       "<IPython.core.display.Markdown object>"
      ]
     },
     "metadata": {},
     "output_type": "display_data"
    },
    {
     "data": {
      "text/markdown": [
       "Les valeurs uniques de la colonne **var_29** sont : [11972.55916952  9628.05011406 10142.8821615  ... 18073.34399283\n",
       " 16859.95532592 21726.15453908]"
      ],
      "text/plain": [
       "<IPython.core.display.Markdown object>"
      ]
     },
     "metadata": {},
     "output_type": "display_data"
    },
    {
     "data": {
      "text/markdown": [
       "Les valeurs uniques de la colonne **var_30** sont : [13506.97814375 12738.0922617  14111.52285347 ... 12381.6360833\n",
       " 18128.4605295  26458.3072071 ]"
      ],
      "text/plain": [
       "<IPython.core.display.Markdown object>"
      ]
     },
     "metadata": {},
     "output_type": "display_data"
    },
    {
     "data": {
      "text/markdown": [
       "Les valeurs uniques de la colonne **var_31** sont : [13216.76268322  8449.27506924 16206.28047818 ... 16122.01008703\n",
       " 18556.67119561 24256.16585144]"
      ],
      "text/plain": [
       "<IPython.core.display.Markdown object>"
      ]
     },
     "metadata": {},
     "output_type": "display_data"
    },
    {
     "data": {
      "text/markdown": [
       "Les valeurs uniques de la colonne **var_32** sont : [13859.20634796 15565.52137991 19034.42913464 ... 12714.17173952\n",
       " 22687.53212754 29454.09094376]"
      ],
      "text/plain": [
       "<IPython.core.display.Markdown object>"
      ]
     },
     "metadata": {},
     "output_type": "display_data"
    },
    {
     "data": {
      "text/markdown": [
       "Les valeurs uniques de la colonne **var_33** sont : [14679.46656261 13227.84782464 23235.48270919 ... 24407.43273767\n",
       " 28177.10356875 33741.73736944]"
      ],
      "text/plain": [
       "<IPython.core.display.Markdown object>"
      ]
     },
     "metadata": {},
     "output_type": "display_data"
    },
    {
     "data": {
      "text/markdown": [
       "Les valeurs uniques de la colonne **var_34** sont : [13231.78081775 19622.90260509 22215.73232528 ... 25146.7039782\n",
       " 25925.11205085 37080.82742416]"
      ],
      "text/plain": [
       "<IPython.core.display.Markdown object>"
      ]
     },
     "metadata": {},
     "output_type": "display_data"
    },
    {
     "data": {
      "text/markdown": [
       "Les valeurs uniques de la colonne **var_35** sont : [ 9072.50250072 16384.19527798 24669.04956348 ... 27860.32964639\n",
       " 32454.2905494  43478.18978612]"
      ],
      "text/plain": [
       "<IPython.core.display.Markdown object>"
      ]
     },
     "metadata": {},
     "output_type": "display_data"
    },
    {
     "data": {
      "text/markdown": [
       "Les valeurs uniques de la colonne **var_36** sont : [14730.85050083 19191.52316605 26697.53227075 ... 27570.55858246\n",
       " 32157.3078846  46567.32738854]"
      ],
      "text/plain": [
       "<IPython.core.display.Markdown object>"
      ]
     },
     "metadata": {},
     "output_type": "display_data"
    },
    {
     "data": {
      "text/markdown": [
       "Les valeurs uniques de la colonne **var_37** sont : [12920.86154049 19569.90106491 32391.47001389 ... 33447.96637921\n",
       " 35705.85876391 47669.72727365]"
      ],
      "text/plain": [
       "<IPython.core.display.Markdown object>"
      ]
     },
     "metadata": {},
     "output_type": "display_data"
    },
    {
     "data": {
      "text/markdown": [
       "Les valeurs uniques de la colonne **var_38** sont : [18742.55118217 27659.69298873 26714.14872468 ... 40442.93164405\n",
       " 35014.33969767 49881.20559997]"
      ],
      "text/plain": [
       "<IPython.core.display.Markdown object>"
      ]
     },
     "metadata": {},
     "output_type": "display_data"
    },
    {
     "data": {
      "text/markdown": [
       "Les valeurs uniques de la colonne **branche** sont : ['CENTRE' 'NORD-OUEST' 'SUD-OUEST' 'SUD-EST' 'OUTRE-MER' 'NORD-EST' nan]"
      ],
      "text/plain": [
       "<IPython.core.display.Markdown object>"
      ]
     },
     "metadata": {},
     "output_type": "display_data"
    },
    {
     "data": {
      "text/markdown": [
       "Les valeurs uniques de la colonne **churn** sont : ['non' 'oui']"
      ],
      "text/plain": [
       "<IPython.core.display.Markdown object>"
      ]
     },
     "metadata": {},
     "output_type": "display_data"
    }
   ],
   "source": [
    "for col in dataset.columns:\n",
    "    display(Markdown(f\"Les valeurs uniques de la colonne **{col}** sont : {dataset[col].unique()}\"))"
   ]
  },
  {
   "cell_type": "code",
   "execution_count": 10,
   "id": "ba27cc73",
   "metadata": {
    "scrolled": true
   },
   "outputs": [],
   "source": [
    "#liste des colonnes \n",
    "list_col = ['genre','espace_client_web','assurance_vie','banque_principale',\n",
    "            'compte_epargne','credit_autres','cartes_bancaires','compte_courant',\n",
    "            'compte_joint','PEA','assurance_auto','assurance_habitation','credit_immo','type',\n",
    "            'compte_titres','methode_contact','branche']"
   ]
  },
  {
   "cell_type": "markdown",
   "id": "69f7bb8e",
   "metadata": {},
   "source": [
    "### Observation des valeurs absentes dans le jeu de données"
   ]
  },
  {
   "cell_type": "code",
   "execution_count": 11,
   "id": "2ab29e2e",
   "metadata": {
    "collapsed": true
   },
   "outputs": [
    {
     "name": "stdout",
     "output_type": "stream",
     "text": [
      "Nombre de valeurs NaN par colonne :\n",
      " genre                128\n",
      "espace_client_web    127\n",
      "assurance_vie        131\n",
      "banque_principale    122\n",
      "anciennete_mois      134\n",
      "                    ... \n",
      "var_36               135\n",
      "var_37               148\n",
      "var_38               155\n",
      "branche              129\n",
      "churn                  0\n",
      "Length: 62, dtype: int64\n"
     ]
    }
   ],
   "source": [
    "missing_values_col = dataset.isna().sum()\n",
    "print(\"Nombre de valeurs NaN par colonne :\\n\", missing_values_col)"
   ]
  },
  {
   "cell_type": "code",
   "execution_count": 12,
   "id": "ba7d006f",
   "metadata": {
    "collapsed": true
   },
   "outputs": [
    {
     "name": "stdout",
     "output_type": "stream",
     "text": [
      "Nombre de valeurs NaN pour chaque ligne :\n",
      " id_client\n",
      "0       0\n",
      "1       1\n",
      "2       3\n",
      "3       2\n",
      "4       2\n",
      "       ..\n",
      "7038    1\n",
      "7039    0\n",
      "7040    2\n",
      "7041    1\n",
      "7042    1\n",
      "Length: 7043, dtype: int64\n"
     ]
    }
   ],
   "source": [
    "missing_values_row = dataset.isna().sum(axis=1)\n",
    "print(\"Nombre de valeurs NaN pour chaque ligne :\\n\", missing_values_row)"
   ]
  },
  {
   "cell_type": "code",
   "execution_count": 89,
   "id": "1353bbbd",
   "metadata": {
    "collapsed": true
   },
   "outputs": [
    {
     "data": {
      "text/plain": [
       "(array([1612., 2457., 1829.,    0.,  796.,  263.,    0.,   72.,   10.,\n",
       "           4.]),\n",
       " array([0. , 0.7, 1.4, 2.1, 2.8, 3.5, 4.2, 4.9, 5.6, 6.3, 7. ]),\n",
       " <BarContainer object of 10 artists>)"
      ]
     },
     "execution_count": 89,
     "metadata": {},
     "output_type": "execute_result"
    },
    {
     "data": {
      "image/png": "[encoded data removed]",
      "text/plain": [
       "<Figure size 640x480 with 1 Axes>"
      ]
     },
     "metadata": {},
     "output_type": "display_data"
    }
   ],
   "source": [
    "plt.hist(missing_values_row)"
   ]
  },
  {
   "cell_type": "code",
   "execution_count": 90,
   "id": "73a818e3",
   "metadata": {
    "collapsed": true
   },
   "outputs": [
    {
     "data": {
      "text/plain": [
       "(array([61.,  0.,  0.,  0.,  0.,  0.,  0.,  0.,  0.,  1.]),\n",
       " array([   0. ,  180.7,  361.4,  542.1,  722.8,  903.5, 1084.2, 1264.9,\n",
       "        1445.6, 1626.3, 1807. ]),\n",
       " <BarContainer object of 10 artists>)"
      ]
     },
     "execution_count": 90,
     "metadata": {},
     "output_type": "execute_result"
    },
    {
     "data": {
      "image/png": "[encoded data removed]",
      "text/plain": [
       "<Figure size 640x480 with 1 Axes>"
      ]
     },
     "metadata": {},
     "output_type": "display_data"
    }
   ],
   "source": [
    "plt.hist(missing_values_col)"
   ]
  },
  {
   "cell_type": "markdown",
   "id": "0888798d",
   "metadata": {},
   "source": [
    "### Bilan \n",
    "Le dataset contient 7043 clients différents et 60 variables. \n",
    "Parmis ces variables, il y a des données manquantes, cependant hormis dans la colonne \"type\" aucune colonne ne contient un grand nombre de données manquantes. \n",
    "Pour les individus de même, le nombre de données manquantes reste faible. \n",
    "\n",
    "Dans le cas de données binaire il est important de remplacer les valeurs manquantes par une des deux valeurs. \n",
    "\n",
    "Pour cela, je choisis d'attribuer aléatoirement une valeur en suivant la répartition observée avec les données présentes. \n",
    "\n",
    "Dans le cas de données numérique, je choisi de remplacer les valeurs manquantes par la moyenne des autres valeurs. \n",
    "\n",
    "Dans le cas de données catégorique, je choisi de remplacer les valeurs manquantes par une catégorie prise aléatoirement selon les proportions étudiées."
   ]
  },
  {
   "cell_type": "markdown",
   "id": "deec06f3",
   "metadata": {},
   "source": [
    "### Traitement des données"
   ]
  },
  {
   "cell_type": "markdown",
   "id": "3b4717b7",
   "metadata": {},
   "source": [
    "Pour toutes les variables non numérique, je les convertis\n",
    "Ainsi, pour les colonnes :\n",
    "- **genre**: variable binaire **H** &rarr; 0 et **F** &rarr; 1.\n",
    "- **assurance_vie**: variable binaire **oui** &rarr; 0 ou **non** &rarr; 1.\n",
    "- **banque_principale**: variable binaire **oui** &rarr; 0 ou **non** &rarr; 1.\n",
    "- **compte_epargne**: variable binaire **oui** &rarr; 0 ou **non** &rarr; 1.\n",
    "- **type**: variable binaire **pro** &rarr; 0 ou **perso** &rarr; 1.\n",
    "- **compte_titres** variable binaire **oui** &rarr; 0 ou **non** &rarr; 1.\n",
    "\n",
    "Pour les variables ternaires:\n",
    "- **credit_autres**: variable ternaire  **bail** &rarr; 1, **permanent** &rarr; 2, **consommation** &rarr; 3.\n",
    "- **cartes_bancaires**: variable ternaire **basic** &rarr; 1, **medium** &rarr; 2, **premium** &rarr; 3.\n",
    "\n",
    "Pour les variables binaires + inconnu:\n",
    "- **compte_courant**\n",
    "- **compte_joint**\n",
    "- **PEA**\n",
    "- **assurance_auto**\n",
    "- **assurance_habitation**\n",
    "- **credit_immo** \n",
    "\n",
    "    Pour ces variables, les valeurs absentes seront remplacées par la valeur inconnu \n",
    "    \n",
    "    La valeur **inconnu** prendra la valeur &rarr; -1.\n",
    "    \n",
    "    La valeur **oui** prendra la valeur &rarr; 0.\n",
    "    \n",
    "    La valeur **non** prendra la valeur &rarr; 1.\n",
    "    \n",
    "Pour la variable à estimer: \n",
    "- **churn** variable binaire **oui** &rarr; 0 ou **non** &rarr; 1."
   ]
  },
  {
   "cell_type": "code",
   "execution_count": 13,
   "id": "02ed197b",
   "metadata": {
    "collapsed": true
   },
   "outputs": [
    {
     "data": {
      "text/markdown": [
       "For column **genre**:"
      ],
      "text/plain": [
       "<IPython.core.display.Markdown object>"
      ]
     },
     "metadata": {},
     "output_type": "display_data"
    },
    {
     "name": "stdout",
     "output_type": "stream",
     "text": [
      "H    50.600145\n",
      "F    49.399855\n",
      "Name: genre, dtype: float64\n"
     ]
    },
    {
     "data": {
      "text/markdown": [
       "For column **espace_client_web**:"
      ],
      "text/plain": [
       "<IPython.core.display.Markdown object>"
      ]
     },
     "metadata": {},
     "output_type": "display_data"
    },
    {
     "name": "stdout",
     "output_type": "stream",
     "text": [
      "0.0    83.733372\n",
      "1.0    16.266628\n",
      "Name: espace_client_web, dtype: float64\n"
     ]
    },
    {
     "data": {
      "text/markdown": [
       "For column **assurance_vie**:"
      ],
      "text/plain": [
       "<IPython.core.display.Markdown object>"
      ]
     },
     "metadata": {},
     "output_type": "display_data"
    },
    {
     "name": "stdout",
     "output_type": "stream",
     "text": [
      "non    51.765046\n",
      "oui    48.234954\n",
      "Name: assurance_vie, dtype: float64\n"
     ]
    },
    {
     "data": {
      "text/markdown": [
       "For column **banque_principale**:"
      ],
      "text/plain": [
       "<IPython.core.display.Markdown object>"
      ]
     },
     "metadata": {},
     "output_type": "display_data"
    },
    {
     "name": "stdout",
     "output_type": "stream",
     "text": [
      "non    70.134374\n",
      "oui    29.865626\n",
      "Name: banque_principale, dtype: float64\n"
     ]
    },
    {
     "data": {
      "text/markdown": [
       "For column **anciennete_mois**:"
      ],
      "text/plain": [
       "<IPython.core.display.Markdown object>"
      ]
     },
     "metadata": {},
     "output_type": "display_data"
    },
    {
     "name": "stdout",
     "output_type": "stream",
     "text": [
      "1.0     8.698799\n",
      "72.0    5.181647\n",
      "2.0     3.401361\n",
      "3.0     2.851353\n",
      "4.0     2.547402\n",
      "          ...   \n",
      "39.0    0.810537\n",
      "28.0    0.796063\n",
      "36.0    0.723694\n",
      "44.0    0.709220\n",
      "0.0     0.159213\n",
      "Name: anciennete_mois, Length: 73, dtype: float64\n"
     ]
    },
    {
     "data": {
      "text/markdown": [
       "For column **compte_epargne**:"
      ],
      "text/plain": [
       "<IPython.core.display.Markdown object>"
      ]
     },
     "metadata": {},
     "output_type": "display_data"
    },
    {
     "name": "stdout",
     "output_type": "stream",
     "text": [
      "oui    90.310415\n",
      "non     9.689585\n",
      "Name: compte_epargne, dtype: float64\n"
     ]
    },
    {
     "data": {
      "text/markdown": [
       "For column **credit_autres**:"
      ],
      "text/plain": [
       "<IPython.core.display.Markdown object>"
      ]
     },
     "metadata": {},
     "output_type": "display_data"
    },
    {
     "name": "stdout",
     "output_type": "stream",
     "text": [
      "permanent       48.149219\n",
      "consommation    42.163100\n",
      "bail             9.687681\n",
      "Name: credit_autres, dtype: float64\n"
     ]
    },
    {
     "data": {
      "text/markdown": [
       "For column **cartes_bancaires**:"
      ],
      "text/plain": [
       "<IPython.core.display.Markdown object>"
      ]
     },
     "metadata": {},
     "output_type": "display_data"
    },
    {
     "name": "stdout",
     "output_type": "stream",
     "text": [
      "medium     43.943131\n",
      "basic      34.455244\n",
      "premium    21.601625\n",
      "Name: cartes_bancaires, dtype: float64\n"
     ]
    },
    {
     "data": {
      "text/markdown": [
       "For column **compte_courant**:"
      ],
      "text/plain": [
       "<IPython.core.display.Markdown object>"
      ]
     },
     "metadata": {},
     "output_type": "display_data"
    },
    {
     "name": "stdout",
     "output_type": "stream",
     "text": [
      "non        49.651972\n",
      "oui        28.726798\n",
      "inconnu    21.621230\n",
      "Name: compte_courant, dtype: float64\n"
     ]
    },
    {
     "data": {
      "text/markdown": [
       "For column **compte_joint**:"
      ],
      "text/plain": [
       "<IPython.core.display.Markdown object>"
      ]
     },
     "metadata": {},
     "output_type": "display_data"
    },
    {
     "name": "stdout",
     "output_type": "stream",
     "text": [
      "non        43.793403\n",
      "oui        34.606481\n",
      "inconnu    21.600116\n",
      "Name: compte_joint, dtype: float64\n"
     ]
    },
    {
     "data": {
      "text/markdown": [
       "For column **PEA**:"
      ],
      "text/plain": [
       "<IPython.core.display.Markdown object>"
      ]
     },
     "metadata": {},
     "output_type": "display_data"
    },
    {
     "name": "stdout",
     "output_type": "stream",
     "text": [
      "non        43.990141\n",
      "oui        34.464260\n",
      "inconnu    21.545600\n",
      "Name: PEA, dtype: float64\n"
     ]
    },
    {
     "data": {
      "text/markdown": [
       "For column **assurance_auto**:"
      ],
      "text/plain": [
       "<IPython.core.display.Markdown object>"
      ]
     },
     "metadata": {},
     "output_type": "display_data"
    },
    {
     "name": "stdout",
     "output_type": "stream",
     "text": [
      "non        49.254380\n",
      "oui        28.985088\n",
      "inconnu    21.760533\n",
      "Name: assurance_auto, dtype: float64\n"
     ]
    },
    {
     "data": {
      "text/markdown": [
       "For column **assurance_habitation**:"
      ],
      "text/plain": [
       "<IPython.core.display.Markdown object>"
      ]
     },
     "metadata": {},
     "output_type": "display_data"
    },
    {
     "name": "stdout",
     "output_type": "stream",
     "text": [
      "non        39.860950\n",
      "oui        38.441483\n",
      "inconnu    21.697567\n",
      "Name: assurance_habitation, dtype: float64\n"
     ]
    },
    {
     "data": {
      "text/markdown": [
       "For column **credit_immo**:"
      ],
      "text/plain": [
       "<IPython.core.display.Markdown object>"
      ]
     },
     "metadata": {},
     "output_type": "display_data"
    },
    {
     "name": "stdout",
     "output_type": "stream",
     "text": [
      "non        39.357081\n",
      "oui        38.879235\n",
      "inconnu    21.763684\n",
      "Name: credit_immo, dtype: float64\n"
     ]
    },
    {
     "data": {
      "text/markdown": [
       "For column **type**:"
      ],
      "text/plain": [
       "<IPython.core.display.Markdown object>"
      ]
     },
     "metadata": {},
     "output_type": "display_data"
    },
    {
     "name": "stdout",
     "output_type": "stream",
     "text": [
      "pro      72.459893\n",
      "perso    27.540107\n",
      "Name: type, dtype: float64\n"
     ]
    },
    {
     "data": {
      "text/markdown": [
       "For column **compte_titres**:"
      ],
      "text/plain": [
       "<IPython.core.display.Markdown object>"
      ]
     },
     "metadata": {},
     "output_type": "display_data"
    },
    {
     "name": "stdout",
     "output_type": "stream",
     "text": [
      "oui    59.279618\n",
      "non    40.720382\n",
      "Name: compte_titres, dtype: float64\n"
     ]
    },
    {
     "data": {
      "text/markdown": [
       "For column **methode_contact**:"
      ],
      "text/plain": [
       "<IPython.core.display.Markdown object>"
      ]
     },
     "metadata": {},
     "output_type": "display_data"
    },
    {
     "name": "stdout",
     "output_type": "stream",
     "text": [
      "mail         33.575054\n",
      "courrier     23.031182\n",
      "telephone    21.856418\n",
      "sms          21.537346\n",
      "Name: methode_contact, dtype: float64\n"
     ]
    },
    {
     "data": {
      "text/markdown": [
       "For column **agios_6mois**:"
      ],
      "text/plain": [
       "<IPython.core.display.Markdown object>"
      ]
     },
     "metadata": {},
     "output_type": "display_data"
    },
    {
     "name": "stdout",
     "output_type": "stream",
     "text": [
      "20.05     0.870070\n",
      "19.85     0.652552\n",
      "19.95     0.638051\n",
      "19.90     0.623550\n",
      "20.00     0.609049\n",
      "            ...   \n",
      "107.60    0.014501\n",
      "58.65     0.014501\n",
      "57.45     0.014501\n",
      "57.50     0.014501\n",
      "78.70     0.014501\n",
      "Name: agios_6mois, Length: 1577, dtype: float64\n"
     ]
    },
    {
     "data": {
      "text/markdown": [
       "For column **interet_compte_epargne_total**:"
      ],
      "text/plain": [
       "<IPython.core.display.Markdown object>"
      ]
     },
     "metadata": {},
     "output_type": "display_data"
    },
    {
     "name": "stdout",
     "output_type": "stream",
     "text": [
      "20.2       0.159120\n",
      "           0.159120\n",
      "19.75      0.130189\n",
      "20.05      0.115724\n",
      "19.9       0.115724\n",
      "             ...   \n",
      "424.75     0.014465\n",
      "6565.85    0.014465\n",
      "2117.2     0.014465\n",
      "203.95     0.014465\n",
      "6844.5     0.014465\n",
      "Name: interet_compte_epargne_total, Length: 6411, dtype: float64\n"
     ]
    },
    {
     "data": {
      "text/markdown": [
       "For column **age**:"
      ],
      "text/plain": [
       "<IPython.core.display.Markdown object>"
      ]
     },
     "metadata": {},
     "output_type": "display_data"
    },
    {
     "name": "stdout",
     "output_type": "stream",
     "text": [
      "39.0     3.382204\n",
      "38.0     3.324140\n",
      "36.0     2.888663\n",
      "37.0     2.830600\n",
      "34.0     2.830600\n",
      "           ...   \n",
      "107.0    0.014516\n",
      "100.0    0.014516\n",
      "103.0    0.014516\n",
      "101.0    0.014516\n",
      "104.0    0.014516\n",
      "Name: age, Length: 88, dtype: float64\n"
     ]
    },
    {
     "data": {
      "text/markdown": [
       "For column **segment_client**:"
      ],
      "text/plain": [
       "<IPython.core.display.Markdown object>"
      ]
     },
     "metadata": {},
     "output_type": "display_data"
    },
    {
     "name": "stdout",
     "output_type": "stream",
     "text": [
      "B2    10.455998\n",
      "A1    10.354342\n",
      "D1    10.325298\n",
      "C1    10.281731\n",
      "B1     9.889631\n",
      "C4     9.802498\n",
      "C2     9.453965\n",
      "A4     9.366831\n",
      "C3     9.265176\n",
      "B4     1.858844\n",
      "A3     1.829800\n",
      "A2     1.786233\n",
      "B3     1.786233\n",
      "D2     1.786233\n",
      "D3     1.757188\n",
      "Name: segment_client, dtype: float64\n"
     ]
    },
    {
     "data": {
      "text/markdown": [
       "For column **var_0**:"
      ],
      "text/plain": [
       "<IPython.core.display.Markdown object>"
      ]
     },
     "metadata": {},
     "output_type": "display_data"
    },
    {
     "name": "stdout",
     "output_type": "stream",
     "text": [
      "10544.540575    0.014507\n",
      "18098.987640    0.014507\n",
      "5134.292528     0.014507\n",
      "9881.980173     0.014507\n",
      "5042.184632     0.014507\n",
      "                  ...   \n",
      "3744.040815     0.014507\n",
      "182.956847      0.014507\n",
      "942.896631      0.014507\n",
      "16955.131025    0.014507\n",
      "6692.333004     0.014507\n",
      "Name: var_0, Length: 6893, dtype: float64\n"
     ]
    },
    {
     "data": {
      "text/markdown": [
       "For column **var_1**:"
      ],
      "text/plain": [
       "<IPython.core.display.Markdown object>"
      ]
     },
     "metadata": {},
     "output_type": "display_data"
    },
    {
     "name": "stdout",
     "output_type": "stream",
     "text": [
      "11840.843921    0.014482\n",
      "5197.010145     0.014482\n",
      "8215.296012     0.014482\n",
      "200.452618      0.014482\n",
      "15867.945419    0.014482\n",
      "                  ...   \n",
      "9424.850406     0.014482\n",
      "5394.404285     0.014482\n",
      "3128.785556     0.014482\n",
      "1783.515895     0.014482\n",
      "12521.341580    0.014482\n",
      "Name: var_1, Length: 6905, dtype: float64\n"
     ]
    },
    {
     "data": {
      "text/markdown": [
       "For column **var_2**:"
      ],
      "text/plain": [
       "<IPython.core.display.Markdown object>"
      ]
     },
     "metadata": {},
     "output_type": "display_data"
    },
    {
     "name": "stdout",
     "output_type": "stream",
     "text": [
      "12101.253966    0.014524\n",
      "8437.056762     0.014524\n",
      "5736.316856     0.014524\n",
      "17875.288980    0.014524\n",
      "10163.266740    0.014524\n",
      "                  ...   \n",
      "7684.432854     0.014524\n",
      "1711.226387     0.014524\n",
      "24970.177883    0.014524\n",
      "20141.348732    0.014524\n",
      "19310.720148    0.014524\n",
      "Name: var_2, Length: 6885, dtype: float64\n"
     ]
    },
    {
     "data": {
      "text/markdown": [
       "For column **var_3**:"
      ],
      "text/plain": [
       "<IPython.core.display.Markdown object>"
      ]
     },
     "metadata": {},
     "output_type": "display_data"
    },
    {
     "name": "stdout",
     "output_type": "stream",
     "text": [
      "16138.583847    0.014501\n",
      "12748.687673    0.014501\n",
      "9807.604569     0.014501\n",
      "9078.150366     0.014501\n",
      "15815.812774    0.014501\n",
      "                  ...   \n",
      "21759.035909    0.014501\n",
      "5871.523947     0.014501\n",
      "32279.214783    0.014501\n",
      "16909.791047    0.014501\n",
      "21889.496449    0.014501\n",
      "Name: var_3, Length: 6896, dtype: float64\n"
     ]
    },
    {
     "data": {
      "text/markdown": [
       "For column **var_4**:"
      ],
      "text/plain": [
       "<IPython.core.display.Markdown object>"
      ]
     },
     "metadata": {},
     "output_type": "display_data"
    },
    {
     "name": "stdout",
     "output_type": "stream",
     "text": [
      "19256.148929    0.014482\n",
      "19710.512011    0.014482\n",
      "19180.004344    0.014482\n",
      "21001.204882    0.014482\n",
      "14621.411201    0.014482\n",
      "                  ...   \n",
      "33159.790044    0.014482\n",
      "29220.436026    0.014482\n",
      "14772.212901    0.014482\n",
      "10812.585262    0.014482\n",
      "25079.075450    0.014482\n",
      "Name: var_4, Length: 6905, dtype: float64\n"
     ]
    },
    {
     "data": {
      "text/markdown": [
       "For column **var_5**:"
      ],
      "text/plain": [
       "<IPython.core.display.Markdown object>"
      ]
     },
     "metadata": {},
     "output_type": "display_data"
    },
    {
     "name": "stdout",
     "output_type": "stream",
     "text": [
      "22711.198138    0.014491\n",
      "15275.051985    0.014491\n",
      "7222.828206     0.014491\n",
      "21080.753076    0.014491\n",
      "17701.472015    0.014491\n",
      "                  ...   \n",
      "13082.768862    0.014491\n",
      "37719.386469    0.014491\n",
      "19270.072618    0.014491\n",
      "7860.959752     0.014491\n",
      "26674.731426    0.014491\n",
      "Name: var_5, Length: 6901, dtype: float64\n"
     ]
    },
    {
     "data": {
      "text/markdown": [
       "For column **var_6**:"
      ],
      "text/plain": [
       "<IPython.core.display.Markdown object>"
      ]
     },
     "metadata": {},
     "output_type": "display_data"
    },
    {
     "name": "stdout",
     "output_type": "stream",
     "text": [
      "27090.223280    0.014457\n",
      "16799.840611    0.014457\n",
      "19748.835976    0.014457\n",
      "18112.525516    0.014457\n",
      "14747.163448    0.014457\n",
      "                  ...   \n",
      "16479.931042    0.014457\n",
      "5903.414236     0.014457\n",
      "35952.878941    0.014457\n",
      "33601.522267    0.014457\n",
      "32344.477366    0.014457\n",
      "Name: var_6, Length: 6917, dtype: float64\n"
     ]
    },
    {
     "data": {
      "text/markdown": [
       "For column **var_7**:"
      ],
      "text/plain": [
       "<IPython.core.display.Markdown object>"
      ]
     },
     "metadata": {},
     "output_type": "display_data"
    },
    {
     "name": "stdout",
     "output_type": "stream",
     "text": [
      "26271.001607    0.014478\n",
      "16796.625281    0.014478\n",
      "13287.935094    0.014478\n",
      "19775.153388    0.014478\n",
      "32030.603500    0.014478\n",
      "                  ...   \n",
      "8977.196116     0.014478\n",
      "41056.144028    0.014478\n",
      "32570.690221    0.014478\n",
      "21040.045566    0.014478\n",
      "36004.761141    0.014478\n",
      "Name: var_7, Length: 6907, dtype: float64\n"
     ]
    },
    {
     "data": {
      "text/markdown": [
       "For column **var_8**:"
      ],
      "text/plain": [
       "<IPython.core.display.Markdown object>"
      ]
     },
     "metadata": {},
     "output_type": "display_data"
    },
    {
     "name": "stdout",
     "output_type": "stream",
     "text": [
      "29031.463215    0.014457\n",
      "11274.363772    0.014457\n",
      "17132.222263    0.014457\n",
      "36486.889332    0.014457\n",
      "26112.249986    0.014457\n",
      "                  ...   \n",
      "22076.076727    0.014457\n",
      "9633.330791     0.014457\n",
      "26950.727931    0.014457\n",
      "17180.570585    0.014457\n",
      "37988.249638    0.014457\n",
      "Name: var_8, Length: 6917, dtype: float64\n"
     ]
    },
    {
     "data": {
      "text/markdown": [
       "For column **var_9**:"
      ],
      "text/plain": [
       "<IPython.core.display.Markdown object>"
      ]
     },
     "metadata": {},
     "output_type": "display_data"
    },
    {
     "name": "stdout",
     "output_type": "stream",
     "text": [
      "29517.776316    0.014484\n",
      "28481.198712    0.014484\n",
      "17016.153395    0.014484\n",
      "19667.564758    0.014484\n",
      "29670.723836    0.014484\n",
      "                  ...   \n",
      "11179.872744    0.014484\n",
      "27793.240346    0.014484\n",
      "17910.796336    0.014484\n",
      "31871.017749    0.014484\n",
      "41458.627509    0.014484\n",
      "Name: var_9, Length: 6904, dtype: float64\n"
     ]
    },
    {
     "data": {
      "text/markdown": [
       "For column **var_10**:"
      ],
      "text/plain": [
       "<IPython.core.display.Markdown object>"
      ]
     },
     "metadata": {},
     "output_type": "display_data"
    },
    {
     "name": "stdout",
     "output_type": "stream",
     "text": [
      "31132.297422    0.01448\n",
      "27608.460366    0.01448\n",
      "26685.848484    0.01448\n",
      "18634.689405    0.01448\n",
      "46966.632320    0.01448\n",
      "                 ...   \n",
      "47341.466052    0.01448\n",
      "36819.447393    0.01448\n",
      "29580.965680    0.01448\n",
      "25526.429348    0.01448\n",
      "47022.600171    0.01448\n",
      "Name: var_10, Length: 6906, dtype: float64\n"
     ]
    },
    {
     "data": {
      "text/markdown": [
       "For column **var_11**:"
      ],
      "text/plain": [
       "<IPython.core.display.Markdown object>"
      ]
     },
     "metadata": {},
     "output_type": "display_data"
    },
    {
     "name": "stdout",
     "output_type": "stream",
     "text": [
      "30341.417587    0.014474\n",
      "22473.442351    0.014474\n",
      "18969.065102    0.014474\n",
      "27127.538090    0.014474\n",
      "39561.458089    0.014474\n",
      "                  ...   \n",
      "16787.667878    0.014474\n",
      "30725.788392    0.014474\n",
      "20074.966121    0.014474\n",
      "43951.276909    0.014474\n",
      "47568.950503    0.014474\n",
      "Name: var_11, Length: 6909, dtype: float64\n"
     ]
    },
    {
     "data": {
      "text/markdown": [
       "For column **var_12**:"
      ],
      "text/plain": [
       "<IPython.core.display.Markdown object>"
      ]
     },
     "metadata": {},
     "output_type": "display_data"
    },
    {
     "name": "stdout",
     "output_type": "stream",
     "text": [
      "30079.873831    0.014463\n",
      "32059.509375    0.014463\n",
      "30832.288984    0.014463\n",
      "22133.891539    0.014463\n",
      "43969.974920    0.014463\n",
      "                  ...   \n",
      "20677.212226    0.014463\n",
      "30710.276700    0.014463\n",
      "18453.215068    0.014463\n",
      "46930.774364    0.014463\n",
      "49379.919168    0.014463\n",
      "Name: var_12, Length: 6914, dtype: float64\n"
     ]
    },
    {
     "data": {
      "text/markdown": [
       "For column **var_13**:"
      ],
      "text/plain": [
       "<IPython.core.display.Markdown object>"
      ]
     },
     "metadata": {},
     "output_type": "display_data"
    },
    {
     "name": "stdout",
     "output_type": "stream",
     "text": [
      "34618.044773    0.014474\n",
      "31220.011732    0.014474\n",
      "22143.799278    0.014474\n",
      "27373.125731    0.014474\n",
      "24122.500665    0.014474\n",
      "                  ...   \n",
      "24842.929401    0.014474\n",
      "34820.663912    0.014474\n",
      "46102.600564    0.014474\n",
      "31478.657727    0.014474\n",
      "53365.779900    0.014474\n",
      "Name: var_13, Length: 6909, dtype: float64\n"
     ]
    },
    {
     "data": {
      "text/markdown": [
       "For column **var_14**:"
      ],
      "text/plain": [
       "<IPython.core.display.Markdown object>"
      ]
     },
     "metadata": {},
     "output_type": "display_data"
    },
    {
     "name": "stdout",
     "output_type": "stream",
     "text": [
      "31134.681481    0.014514\n",
      "34340.603766    0.014514\n",
      "32969.216523    0.014514\n",
      "23674.970741    0.014514\n",
      "31253.427884    0.014514\n",
      "                  ...   \n",
      "34943.366100    0.014514\n",
      "19647.353973    0.014514\n",
      "61083.689267    0.014514\n",
      "37005.540022    0.014514\n",
      "58175.864176    0.014514\n",
      "Name: var_14, Length: 6890, dtype: float64\n"
     ]
    },
    {
     "data": {
      "text/markdown": [
       "For column **var_15**:"
      ],
      "text/plain": [
       "<IPython.core.display.Markdown object>"
      ]
     },
     "metadata": {},
     "output_type": "display_data"
    },
    {
     "name": "stdout",
     "output_type": "stream",
     "text": [
      "29277.523246    0.014531\n",
      "47787.063131    0.014531\n",
      "32209.159449    0.014531\n",
      "51663.636999    0.014531\n",
      "49008.538570    0.014531\n",
      "                  ...   \n",
      "19870.102678    0.014531\n",
      "51164.312152    0.014531\n",
      "41237.895485    0.014531\n",
      "38181.286120    0.014531\n",
      "58234.991967    0.014531\n",
      "Name: var_15, Length: 6882, dtype: float64\n"
     ]
    },
    {
     "data": {
      "text/markdown": [
       "For column **var_16**:"
      ],
      "text/plain": [
       "<IPython.core.display.Markdown object>"
      ]
     },
     "metadata": {},
     "output_type": "display_data"
    },
    {
     "name": "stdout",
     "output_type": "stream",
     "text": [
      "32589.020571    0.014507\n",
      "29052.304525    0.014507\n",
      "35859.873961    0.014507\n",
      "28579.091234    0.014507\n",
      "38974.893592    0.014507\n",
      "                  ...   \n",
      "69190.137661    0.014507\n",
      "43513.859482    0.014507\n",
      "43800.333007    0.014507\n",
      "42265.028577    0.014507\n",
      "60101.694166    0.014507\n",
      "Name: var_16, Length: 6893, dtype: float64\n"
     ]
    },
    {
     "data": {
      "text/markdown": [
       "For column **var_17**:"
      ],
      "text/plain": [
       "<IPython.core.display.Markdown object>"
      ]
     },
     "metadata": {},
     "output_type": "display_data"
    },
    {
     "name": "stdout",
     "output_type": "stream",
     "text": [
      "34717.224941    0.014445\n",
      "55577.265744    0.014445\n",
      "39923.700214    0.014445\n",
      "36552.061997    0.014445\n",
      "32111.610099    0.014445\n",
      "                  ...   \n",
      "69587.601320    0.014445\n",
      "46841.553079    0.014445\n",
      "45368.443240    0.014445\n",
      "46761.631193    0.014445\n",
      "63003.750914    0.014445\n",
      "Name: var_17, Length: 6923, dtype: float64\n"
     ]
    },
    {
     "data": {
      "text/markdown": [
       "For column **var_18**:"
      ],
      "text/plain": [
       "<IPython.core.display.Markdown object>"
      ]
     },
     "metadata": {},
     "output_type": "display_data"
    },
    {
     "name": "stdout",
     "output_type": "stream",
     "text": [
      "36343.671553    0.014556\n",
      "47814.540774    0.014556\n",
      "35581.455207    0.014556\n",
      "40610.645194    0.014556\n",
      "38815.364308    0.014556\n",
      "                  ...   \n",
      "54775.362895    0.014556\n",
      "44493.065876    0.014556\n",
      "46313.539361    0.014556\n",
      "47058.292917    0.014556\n",
      "65194.770708    0.014556\n",
      "Name: var_18, Length: 6870, dtype: float64\n"
     ]
    },
    {
     "data": {
      "text/markdown": [
       "For column **var_19**:"
      ],
      "text/plain": [
       "<IPython.core.display.Markdown object>"
      ]
     },
     "metadata": {},
     "output_type": "display_data"
    },
    {
     "name": "stdout",
     "output_type": "stream",
     "text": [
      "39073.727190    0.014484\n",
      "35485.536965    0.014484\n",
      "42834.312332    0.014484\n",
      "42621.806525    0.014484\n",
      "29616.022238    0.014484\n",
      "                  ...   \n",
      "75689.520687    0.014484\n",
      "52638.344939    0.014484\n",
      "51389.466036    0.014484\n",
      "54312.943444    0.014484\n",
      "66861.605229    0.014484\n",
      "Name: var_19, Length: 6904, dtype: float64\n"
     ]
    },
    {
     "data": {
      "text/markdown": [
       "For column **var_20**:"
      ],
      "text/plain": [
       "<IPython.core.display.Markdown object>"
      ]
     },
     "metadata": {},
     "output_type": "display_data"
    },
    {
     "name": "stdout",
     "output_type": "stream",
     "text": [
      "1950.182027    0.014493\n",
      "1492.220362    0.014493\n",
      "2706.088344    0.014493\n",
      "2451.345822    0.014493\n",
      "2205.892656    0.014493\n",
      "                 ...   \n",
      "1598.343027    0.014493\n",
      "685.872724     0.014493\n",
      "7893.003626    0.014493\n",
      "1897.422202    0.014493\n",
      "1384.976822    0.014493\n",
      "Name: var_20, Length: 6900, dtype: float64\n"
     ]
    },
    {
     "data": {
      "text/markdown": [
       "For column **var_21**:"
      ],
      "text/plain": [
       "<IPython.core.display.Markdown object>"
      ]
     },
     "metadata": {},
     "output_type": "display_data"
    },
    {
     "name": "stdout",
     "output_type": "stream",
     "text": [
      "4552.434964    0.014482\n",
      "357.970502     0.014482\n",
      "1840.302578    0.014482\n",
      "2713.419441    0.014482\n",
      "1810.994281    0.014482\n",
      "                 ...   \n",
      "2239.455086    0.014482\n",
      "2132.485457    0.014482\n",
      "2102.347892    0.014482\n",
      "450.386867     0.014482\n",
      "2765.221304    0.014482\n",
      "Name: var_21, Length: 6905, dtype: float64\n"
     ]
    },
    {
     "data": {
      "text/markdown": [
       "For column **var_22**:"
      ],
      "text/plain": [
       "<IPython.core.display.Markdown object>"
      ]
     },
     "metadata": {},
     "output_type": "display_data"
    },
    {
     "name": "stdout",
     "output_type": "stream",
     "text": [
      "3912.290589    0.014507\n",
      "1068.833374    0.014507\n",
      "1402.169132    0.014507\n",
      "6142.221364    0.014507\n",
      "3726.048254    0.014507\n",
      "                 ...   \n",
      "529.504167     0.014507\n",
      "2574.333717    0.014507\n",
      "1002.003011    0.014507\n",
      "7162.458440    0.014507\n",
      "6114.024403    0.014507\n",
      "Name: var_22, Length: 6893, dtype: float64\n"
     ]
    },
    {
     "data": {
      "text/markdown": [
       "For column **var_23**:"
      ],
      "text/plain": [
       "<IPython.core.display.Markdown object>"
      ]
     },
     "metadata": {},
     "output_type": "display_data"
    },
    {
     "name": "stdout",
     "output_type": "stream",
     "text": [
      "3983.018990    0.014493\n",
      "2601.992636    0.014493\n",
      "2861.797788    0.014493\n",
      "4074.283780    0.014493\n",
      "1457.837614    0.014493\n",
      "                 ...   \n",
      "2213.190845    0.014493\n",
      "2215.199858    0.014493\n",
      "2907.716022    0.014493\n",
      "804.472952     0.014493\n",
      "5871.117201    0.014493\n",
      "Name: var_23, Length: 6900, dtype: float64\n"
     ]
    },
    {
     "data": {
      "text/markdown": [
       "For column **var_24**:"
      ],
      "text/plain": [
       "<IPython.core.display.Markdown object>"
      ]
     },
     "metadata": {},
     "output_type": "display_data"
    },
    {
     "name": "stdout",
     "output_type": "stream",
     "text": [
      "5672.722393    0.014493\n",
      "4052.493818    0.014493\n",
      "2405.805647    0.014493\n",
      "2649.063981    0.014493\n",
      "5910.312054    0.014493\n",
      "                 ...   \n",
      "1107.539335    0.014493\n",
      "3938.878341    0.014493\n",
      "7600.230932    0.014493\n",
      "7441.662987    0.014493\n",
      "7240.216167    0.014493\n",
      "Name: var_24, Length: 6900, dtype: float64\n"
     ]
    },
    {
     "data": {
      "text/markdown": [
       "For column **var_25**:"
      ],
      "text/plain": [
       "<IPython.core.display.Markdown object>"
      ]
     },
     "metadata": {},
     "output_type": "display_data"
    },
    {
     "name": "stdout",
     "output_type": "stream",
     "text": [
      "7266.727854     0.014476\n",
      "4432.410122     0.014476\n",
      "4730.233310     0.014476\n",
      "3385.703177     0.014476\n",
      "3829.087882     0.014476\n",
      "                  ...   \n",
      "4136.918644     0.014476\n",
      "5863.090802     0.014476\n",
      "7342.506264     0.014476\n",
      "1255.066803     0.014476\n",
      "10095.324510    0.014476\n",
      "Name: var_25, Length: 6908, dtype: float64\n"
     ]
    },
    {
     "data": {
      "text/markdown": [
       "For column **var_26**:"
      ],
      "text/plain": [
       "<IPython.core.display.Markdown object>"
      ]
     },
     "metadata": {},
     "output_type": "display_data"
    },
    {
     "name": "stdout",
     "output_type": "stream",
     "text": [
      "10224.977243    0.014486\n",
      "3571.513804     0.014486\n",
      "7030.825869     0.014486\n",
      "4990.983256     0.014486\n",
      "4998.636861     0.014486\n",
      "                  ...   \n",
      "11647.174908    0.014486\n",
      "4504.212651     0.014486\n",
      "18444.238368    0.014486\n",
      "4419.353477     0.014486\n",
      "13937.881120    0.014486\n",
      "Name: var_26, Length: 6903, dtype: float64\n"
     ]
    },
    {
     "data": {
      "text/markdown": [
       "For column **var_27**:"
      ],
      "text/plain": [
       "<IPython.core.display.Markdown object>"
      ]
     },
     "metadata": {},
     "output_type": "display_data"
    },
    {
     "name": "stdout",
     "output_type": "stream",
     "text": [
      "8102.840360     0.014505\n",
      "2018.183134     0.014505\n",
      "7283.068140     0.014505\n",
      "7433.653802     0.014505\n",
      "3533.334658     0.014505\n",
      "                  ...   \n",
      "5334.671183     0.014505\n",
      "12483.342805    0.014505\n",
      "4770.977734     0.014505\n",
      "5180.633096     0.014505\n",
      "13043.277299    0.014505\n",
      "Name: var_27, Length: 6894, dtype: float64\n"
     ]
    },
    {
     "data": {
      "text/markdown": [
       "For column **var_28**:"
      ],
      "text/plain": [
       "<IPython.core.display.Markdown object>"
      ]
     },
     "metadata": {},
     "output_type": "display_data"
    },
    {
     "name": "stdout",
     "output_type": "stream",
     "text": [
      "13049.604142    0.01448\n",
      "6223.449068     0.01448\n",
      "3850.185228     0.01448\n",
      "8135.226178     0.01448\n",
      "15292.563518    0.01448\n",
      "                 ...   \n",
      "10371.655487    0.01448\n",
      "1385.028338     0.01448\n",
      "20183.366191    0.01448\n",
      "17205.891323    0.01448\n",
      "18854.222560    0.01448\n",
      "Name: var_28, Length: 6906, dtype: float64\n"
     ]
    },
    {
     "data": {
      "text/markdown": [
       "For column **var_29**:"
      ],
      "text/plain": [
       "<IPython.core.display.Markdown object>"
      ]
     },
     "metadata": {},
     "output_type": "display_data"
    },
    {
     "name": "stdout",
     "output_type": "stream",
     "text": [
      "11972.559170    0.014495\n",
      "7775.229656     0.014495\n",
      "3529.722495     0.014495\n",
      "11954.715950    0.014495\n",
      "15486.287179    0.014495\n",
      "                  ...   \n",
      "3210.270428     0.014495\n",
      "20358.879069    0.014495\n",
      "14322.554049    0.014495\n",
      "9193.859915     0.014495\n",
      "21726.154539    0.014495\n",
      "Name: var_29, Length: 6899, dtype: float64\n"
     ]
    },
    {
     "data": {
      "text/markdown": [
       "For column **var_30**:"
      ],
      "text/plain": [
       "<IPython.core.display.Markdown object>"
      ]
     },
     "metadata": {},
     "output_type": "display_data"
    },
    {
     "name": "stdout",
     "output_type": "stream",
     "text": [
      "13506.978144    0.01452\n",
      "14850.341929    0.01452\n",
      "4160.912224     0.01452\n",
      "9232.595149     0.01452\n",
      "14781.525535    0.01452\n",
      "                 ...   \n",
      "4875.684221     0.01452\n",
      "21407.833370    0.01452\n",
      "17956.744920    0.01452\n",
      "8271.589238     0.01452\n",
      "26458.307207    0.01452\n",
      "Name: var_30, Length: 6887, dtype: float64\n"
     ]
    },
    {
     "data": {
      "text/markdown": [
       "For column **var_31**:"
      ],
      "text/plain": [
       "<IPython.core.display.Markdown object>"
      ]
     },
     "metadata": {},
     "output_type": "display_data"
    },
    {
     "name": "stdout",
     "output_type": "stream",
     "text": [
      "13216.762683    0.014512\n",
      "21165.321007    0.014512\n",
      "7392.513770     0.014512\n",
      "8263.231913     0.014512\n",
      "13540.322729    0.014512\n",
      "                  ...   \n",
      "34857.974305    0.014512\n",
      "4060.122533     0.014512\n",
      "2578.836137     0.014512\n",
      "14097.403039    0.014512\n",
      "24256.165851    0.014512\n",
      "Name: var_31, Length: 6891, dtype: float64\n"
     ]
    },
    {
     "data": {
      "text/markdown": [
       "For column **var_32**:"
      ],
      "text/plain": [
       "<IPython.core.display.Markdown object>"
      ]
     },
     "metadata": {},
     "output_type": "display_data"
    },
    {
     "name": "stdout",
     "output_type": "stream",
     "text": [
      "13859.206348    0.014501\n",
      "21702.912626    0.014501\n",
      "16368.001517    0.014501\n",
      "17796.013220    0.014501\n",
      "9260.279232     0.014501\n",
      "                  ...   \n",
      "17075.180304    0.014501\n",
      "11539.411942    0.014501\n",
      "12773.769312    0.014501\n",
      "4603.946948     0.014501\n",
      "29454.090944    0.014501\n",
      "Name: var_32, Length: 6896, dtype: float64\n"
     ]
    },
    {
     "data": {
      "text/markdown": [
       "For column **var_33**:"
      ],
      "text/plain": [
       "<IPython.core.display.Markdown object>"
      ]
     },
     "metadata": {},
     "output_type": "display_data"
    },
    {
     "name": "stdout",
     "output_type": "stream",
     "text": [
      "14679.466563    0.014474\n",
      "15199.179947    0.014474\n",
      "5403.045969     0.014474\n",
      "19282.920595    0.014474\n",
      "19146.348515    0.014474\n",
      "                  ...   \n",
      "24298.279251    0.014474\n",
      "6909.055406     0.014474\n",
      "49298.583254    0.014474\n",
      "5742.250214     0.014474\n",
      "33741.737369    0.014474\n",
      "Name: var_33, Length: 6909, dtype: float64\n"
     ]
    },
    {
     "data": {
      "text/markdown": [
       "For column **var_34**:"
      ],
      "text/plain": [
       "<IPython.core.display.Markdown object>"
      ]
     },
     "metadata": {},
     "output_type": "display_data"
    },
    {
     "name": "stdout",
     "output_type": "stream",
     "text": [
      "13231.780818    0.014491\n",
      "15487.135896    0.014491\n",
      "12278.621849    0.014491\n",
      "7317.365917     0.014491\n",
      "13963.119395    0.014491\n",
      "                  ...   \n",
      "35862.664709    0.014491\n",
      "9919.073248     0.014491\n",
      "6999.004187     0.014491\n",
      "18614.373543    0.014491\n",
      "37080.827424    0.014491\n",
      "Name: var_34, Length: 6901, dtype: float64\n"
     ]
    },
    {
     "data": {
      "text/markdown": [
       "For column **var_35**:"
      ],
      "text/plain": [
       "<IPython.core.display.Markdown object>"
      ]
     },
     "metadata": {},
     "output_type": "display_data"
    },
    {
     "name": "stdout",
     "output_type": "stream",
     "text": [
      "9072.502501     0.014468\n",
      "19418.361800    0.014468\n",
      "13481.890270    0.014468\n",
      "14742.528029    0.014468\n",
      "17903.268712    0.014468\n",
      "                  ...   \n",
      "19079.907124    0.014468\n",
      "22624.606175    0.014468\n",
      "26003.032802    0.014468\n",
      "10326.371344    0.014468\n",
      "43478.189786    0.014468\n",
      "Name: var_35, Length: 6912, dtype: float64\n"
     ]
    },
    {
     "data": {
      "text/markdown": [
       "For column **var_36**:"
      ],
      "text/plain": [
       "<IPython.core.display.Markdown object>"
      ]
     },
     "metadata": {},
     "output_type": "display_data"
    },
    {
     "name": "stdout",
     "output_type": "stream",
     "text": [
      "14730.850501    0.014476\n",
      "16708.260510    0.014476\n",
      "18608.471848    0.014476\n",
      "30517.668641    0.014476\n",
      "19161.401508    0.014476\n",
      "                  ...   \n",
      "30001.165990    0.014476\n",
      "18655.815856    0.014476\n",
      "21073.685921    0.014476\n",
      "23264.432273    0.014476\n",
      "46567.327389    0.014476\n",
      "Name: var_36, Length: 6908, dtype: float64\n"
     ]
    },
    {
     "data": {
      "text/markdown": [
       "For column **var_37**:"
      ],
      "text/plain": [
       "<IPython.core.display.Markdown object>"
      ]
     },
     "metadata": {},
     "output_type": "display_data"
    },
    {
     "name": "stdout",
     "output_type": "stream",
     "text": [
      "12920.861540    0.014503\n",
      "16202.831290    0.014503\n",
      "17754.325246    0.014503\n",
      "13080.595654    0.014503\n",
      "24392.504071    0.014503\n",
      "                  ...   \n",
      "11131.974945    0.014503\n",
      "22547.513083    0.014503\n",
      "7124.666479     0.014503\n",
      "34977.330272    0.014503\n",
      "47669.727274    0.014503\n",
      "Name: var_37, Length: 6895, dtype: float64\n"
     ]
    },
    {
     "data": {
      "text/markdown": [
       "For column **var_38**:"
      ],
      "text/plain": [
       "<IPython.core.display.Markdown object>"
      ]
     },
     "metadata": {},
     "output_type": "display_data"
    },
    {
     "name": "stdout",
     "output_type": "stream",
     "text": [
      "18742.551182    0.014518\n",
      "17605.850015    0.014518\n",
      "19819.568213    0.014518\n",
      "22152.485392    0.014518\n",
      "29760.320962    0.014518\n",
      "                  ...   \n",
      "34858.592062    0.014518\n",
      "24933.693623    0.014518\n",
      "28939.277687    0.014518\n",
      "10612.575553    0.014518\n",
      "49881.205600    0.014518\n",
      "Name: var_38, Length: 6888, dtype: float64\n"
     ]
    },
    {
     "data": {
      "text/markdown": [
       "For column **branche**:"
      ],
      "text/plain": [
       "<IPython.core.display.Markdown object>"
      ]
     },
     "metadata": {},
     "output_type": "display_data"
    },
    {
     "name": "stdout",
     "output_type": "stream",
     "text": [
      "NORD-EST      17.775528\n",
      "OUTRE-MER     17.746601\n",
      "SUD-EST       17.385016\n",
      "CENTRE        17.182528\n",
      "SUD-OUEST     16.792016\n",
      "NORD-OUEST    13.118311\n",
      "Name: branche, dtype: float64\n"
     ]
    },
    {
     "data": {
      "text/markdown": [
       "For column **churn**:"
      ],
      "text/plain": [
       "<IPython.core.display.Markdown object>"
      ]
     },
     "metadata": {},
     "output_type": "display_data"
    },
    {
     "name": "stdout",
     "output_type": "stream",
     "text": [
      "non    73.463013\n",
      "oui    26.536987\n",
      "Name: churn, dtype: float64\n"
     ]
    }
   ],
   "source": [
    "for col in dataset.columns:\n",
    "    # Get value count for each unique value in the column\n",
    "    value_counts = dataset[col].value_counts(normalize=True)\n",
    "    # Convert the value counts to percentages\n",
    "    value_counts = value_counts * 100\n",
    "    # Print the column name and percentage of each unique value\n",
    "    display(Markdown(f\"For column **{col}**:\"))\n",
    "    print(value_counts)"
   ]
  },
  {
   "cell_type": "markdown",
   "id": "9fa21ac9",
   "metadata": {},
   "source": [
    "Evaluation de la répartition des valeurs: \n",
    "\n",
    "Pour la variable **genre**, il y a une quasi équivalence entre hommes et femmes. \n",
    "\n",
    "Pour la variable **banque_principale**, il y a une différence significative entre le rapport des 2 valeurs. "
   ]
  },
  {
   "cell_type": "code",
   "execution_count": 14,
   "id": "ab3d8a4b",
   "metadata": {},
   "outputs": [],
   "source": [
    "# Création de sous listes: \n",
    "list_A = ['assurance_vie', 'banque_principale', 'compte_epargne', 'compte_titres', 'churn']\n",
    "list_B = ['compte_courant', 'compte_joint', 'PEA', 'assurance_auto', 'assurance_habitation', 'credit_immo']\n",
    "list_C = ['anciennete_mois', 'agios_6mois','age', 'var_0', 'var_1', 'var_2', 'var_3', 'var_4', 'var_5', 'var_6', 'var_7', 'var_8', \n",
    "          'var_9', 'var_10', 'var_11', 'var_12', 'var_13', 'var_14', 'var_15', 'var_16', 'var_17', \n",
    "          'var_18', 'var_19', 'var_20', 'var_21', 'var_22', 'var_23', 'var_24', 'var_25', 'var_26', \n",
    "          'var_27', 'var_28', 'var_29', 'var_30', 'var_31', 'var_32', 'var_33', 'var_34', 'var_35', \n",
    "          'var_36', 'var_37', 'var_38']"
   ]
  },
  {
   "cell_type": "markdown",
   "id": "cab96e4a",
   "metadata": {},
   "source": [
    "## Modification du dataset selon les règles précédentes "
   ]
  },
  {
   "cell_type": "code",
   "execution_count": 36,
   "id": "521fdaaf",
   "metadata": {
    "scrolled": true
   },
   "outputs": [],
   "source": [
    "# Modification des données en valeurs numériques:\n",
    "dataset['genre'] = dataset['genre'].replace({'F': 0, 'H': 1})\n",
    "dataset['type'] = dataset['type'].replace({'pro':0, 'perso':1})\n",
    "\n",
    "dataset['credit_autres'] = dataset['credit_autres'].replace({'permanent':0, 'consommation':1, 'bail':2})\n",
    "dataset['cartes_bancaires'] = dataset['cartes_bancaires'].replace({'medium':0, 'basic':1, 'premium':2})\n",
    "\n",
    "dataset['methode_contact'] = dataset['methode_contact'].replace({'mail':0, 'courrier':1, 'telephone':2, 'sms':3})\n",
    "\n",
    "\n",
    "\n",
    "for col in list_A:\n",
    "    dataset[col] = dataset[col].replace({'oui':0, 'non':1})\n",
    "\n",
    "for col in list_B:\n",
    "    dataset[col].fillna('inconnu', inplace=True)\n",
    "    dataset[col] = dataset[col].replace({'oui': 0, 'non': 1, 'inconnu':-1})\n",
    "\n",
    "# Remplacement des valeurs manquantes par une valeur choisi aléatoirement en respectant la répartition. \n",
    "# Genre => repartition 50/50. \n",
    "dataset['genre'].fillna(random.choice([0, 1]), inplace=True)\n",
    "# Espace client web => repartition 0: 83%, 1: 17%.\n",
    "dataset['espace_client_web'] = dataset['espace_client_web'].apply(lambda x: np.random.choice([0,1], p=[0.83,0.17]) if pd.isna(x) else x)\n",
    "# Assurance vie => repartition oui: 48%, non: 52%.\n",
    "dataset['assurance_vie'] = dataset['assurance_vie'].apply(lambda x: np.random.choice([0,1], p=[0.48,0.52]) if pd.isna(x) else x)\n",
    "# Banque principal => repartition non: 70%, oui: 30%.\n",
    "dataset['banque_principale'] = dataset['banque_principale'].apply(lambda x: np.random.choice([0,1], p=[0.73,0.27]) if pd.isna(x) else x)\n",
    "# Compte_epargne => repartition oui: 90%, non: 10%.\n",
    "dataset['compte_epargne'] = dataset['compte_epargne'].apply(lambda x: np.random.choice([0,1], p=[0.9,0.1]) if pd.isna(x) else x)\n",
    "# Compte_titres => repartition oui: 60%, non: 40%.\n",
    "dataset['compte_titres'] = dataset['compte_titres'].apply(lambda x: np.random.choice([0,1], p=[0.6,0.4]) if pd.isna(x) else x)\n",
    "# Type => repartition pro: 73%, perso: 27%.\n",
    "dataset['type'] = dataset['type'].apply(lambda x: np.random.choice([0,1], p=[0.73,0.27]) if pd.isna(x) else x)\n",
    "\n",
    "# Credit_autres => repartition perma: 48%, conso: 42%, bail: 10%.\n",
    "dataset['credit_autres'] = dataset['credit_autres'].apply(lambda x: np.random.choice([0,1,2], p=[0.48,0.42,0.10]) if pd.isna(x) else x)\n",
    "# Cartes_bancaires => repartition medium: 44%, basic: 34%, premium: 22%\n",
    "dataset['cartes_bancaires'] = dataset['cartes_bancaires'].apply(lambda x: np.random.choice([0,1,2], p=[0.48,0.42,0.10]) if pd.isna(x) else x)\n",
    "# methode_contact => repartition mail: 34%, courrier: 23%, telephone: 22%, sms: 21%\n",
    "dataset['methode_contact'] = dataset['methode_contact'].apply(lambda x: np.random.choice([0,1,2,3], p=[0.34,0.23,0.22,0.21]) if pd.isna(x) else x)\n",
    "\n",
    "# Pour les données numériques, il suffit de remplacer les valeurs manquantes par la moyenne.\n",
    "for i in list_C:\n",
    "    mean = dataset[i].mean()\n",
    "    dataset[i].fillna(mean, inplace=True)"
   ]
  },
  {
   "cell_type": "code",
   "execution_count": 35,
   "id": "63fc0361",
   "metadata": {},
   "outputs": [],
   "source": [
    "# Traitement de la colonne interet_compte_epargne_total\n",
    "dataset['interet_compte_epargne_total'] = pd.to_numeric(dataset['interet_compte_epargne_total'], errors='coerce')\n",
    "mean = dataset['interet_compte_epargne_total'].mean()\n",
    "dataset['interet_compte_epargne_total'].fillna(mean, inplace=True)"
   ]
  },
  {
   "cell_type": "code",
   "execution_count": null,
   "id": "a829837f",
   "metadata": {},
   "outputs": [],
   "source": [
    "# Traitement de la colonne segement_client \n",
    "# Traitement de la colonne branche \n",
    "dataset = pd.get_dummies(dataset, columns=['segment_client'])\n",
    "dataset = pd.get_dummies(dataset, columns=['branche'])\n",
    "\n",
    "# Démarche hot one pour ces variables de catégorielles. "
   ]
  },
  {
   "cell_type": "markdown",
   "id": "2946edf0",
   "metadata": {
    "scrolled": true
   },
   "source": [
    "## Visualisation des données "
   ]
  },
  {
   "cell_type": "code",
   "execution_count": null,
   "id": "6c4603d7",
   "metadata": {},
   "outputs": [],
   "source": []
  }
 ],
 "metadata": {
  "kernelspec": {
   "display_name": "Python 3 (ipykernel)",
   "language": "python",
   "name": "python3"
  },
  "language_info": {
   "codemirror_mode": {
    "name": "ipython",
    "version": 3
   },
   "file_extension": ".py",
   "mimetype": "text/x-python",
   "name": "python",
   "nbconvert_exporter": "python",
   "pygments_lexer": "ipython3",
   "version": "3.10.6"
  }
 },
 "nbformat": 4,
 "nbformat_minor": 5
}
