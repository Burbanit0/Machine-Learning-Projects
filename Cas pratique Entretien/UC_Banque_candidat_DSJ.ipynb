{
 "cells": [
  {
   "cell_type": "markdown",
   "id": "c54e3092",
   "metadata": {},
   "source": [
    "# USE CASE: Etude du problème d'attrition d'une banque de détail"
   ]
  },
  {
   "cell_type": "markdown",
   "id": "3a9cb4c4",
   "metadata": {},
   "source": [
    "## Objectif de cette étude: \n",
    "-\tEffectuer les analyses statistiques qui s’imposent \n",
    "-\tRéaliser un modèle de scoring permettant d’identifier les clients churners\n",
    "-\tDonner des éléments permettant d’expliquer et de comprendre les prédictions du modèle"
   ]
  },
  {
   "cell_type": "markdown",
   "id": "a4a4d639",
   "metadata": {},
   "source": [
    "## Contexte: \n",
    "\n",
    "-\tL’objectif est de produire un système permettant de générer un score de churn afin de fournir aux conseillers une liste de clients à traiter en priorité. \n",
    "-\tLes conseillers bancaires, lorsqu’ils reçoivent un client à traiter souhaiterait également comprendre les raisons qui l’amène à quitter la banque afin d’adapter leur discours commercial\n",
    "-\tLa banque est divisée en 6 branches, dont les processus de traitement de clients et les approches commerciales peuvent varier."
   ]
  },
  {
   "cell_type": "markdown",
   "id": "760b4b5d",
   "metadata": {},
   "source": [
    "### Bibliothèques Python utilisées "
   ]
  },
  {
   "cell_type": "code",
   "execution_count": 11,
   "id": "4c140b70",
   "metadata": {
    "scrolled": true
   },
   "outputs": [],
   "source": [
    "import pandas as pd \n",
    "import matplotlib.pyplot as plt\n",
    "import random\n",
    "import numpy as np\n",
    "\n",
    "import seaborn as sn\n",
    "\n",
    "from IPython.display import Markdown, display\n",
    "\n",
    "# sklearn modules for data preprocessing:\n",
    "from sklearn.impute import SimpleImputer\n",
    "from sklearn.preprocessing import LabelEncoder, OneHotEncoder\n",
    "from sklearn.compose import ColumnTransformer\n",
    "from sklearn.preprocessing import OneHotEncoder\n",
    "from sklearn.model_selection import train_test_split\n",
    "from sklearn.preprocessing import StandardScaler\n",
    "\n",
    "from statsmodels.stats.outliers_influence import variance_inflation_factor\n",
    "\n",
    "#sklearn modules for Model Evaluation & Improvement:\n",
    "    \n",
    "from sklearn.metrics import confusion_matrix, accuracy_score \n",
    "from sklearn.metrics import f1_score, precision_score, recall_score, fbeta_score\n",
    "from statsmodels.stats.outliers_influence import variance_inflation_factor\n",
    "from sklearn.model_selection import cross_val_score\n",
    "from sklearn.model_selection import GridSearchCV\n",
    "from sklearn.model_selection import ShuffleSplit\n",
    "from sklearn.model_selection import KFold\n",
    "from sklearn import feature_selection\n",
    "from sklearn import model_selection\n",
    "from sklearn import metrics\n",
    "from sklearn.metrics import classification_report, precision_recall_curve\n",
    "from sklearn.metrics import auc, roc_auc_score, roc_curve\n",
    "from sklearn.metrics import make_scorer, recall_score, log_loss\n",
    "from sklearn.metrics import average_precision_score\n",
    "\n",
    "#sklearn modules for Model Selection:\n",
    "from sklearn import svm, tree, linear_model, neighbors\n",
    "from sklearn import naive_bayes, ensemble, discriminant_analysis, gaussian_process\n",
    "from sklearn.neighbors import KNeighborsClassifier\n",
    "from sklearn.discriminant_analysis import LinearDiscriminantAnalysis\n",
    "from xgboost import XGBClassifier\n",
    "from sklearn.linear_model import LogisticRegression\n",
    "from sklearn.svm import SVC\n",
    "from sklearn.neighbors import KNeighborsClassifier\n",
    "from sklearn.naive_bayes import GaussianNB\n",
    "from sklearn.tree import DecisionTreeClassifier\n",
    "from sklearn.ensemble import RandomForestClassifier"
   ]
  },
  {
   "cell_type": "markdown",
   "id": "3a7e91f7",
   "metadata": {},
   "source": [
    "### Importation des données"
   ]
  },
  {
   "cell_type": "code",
   "execution_count": 12,
   "id": "816bb2bd",
   "metadata": {},
   "outputs": [
    {
     "data": {
      "text/html": [
       "<div>\n",
       "<style scoped>\n",
       "    .dataframe tbody tr th:only-of-type {\n",
       "        vertical-align: middle;\n",
       "    }\n",
       "\n",
       "    .dataframe tbody tr th {\n",
       "        vertical-align: top;\n",
       "    }\n",
       "\n",
       "    .dataframe thead th {\n",
       "        text-align: right;\n",
       "    }\n",
       "</style>\n",
       "<table border=\"1\" class=\"dataframe\">\n",
       "  <thead>\n",
       "    <tr style=\"text-align: right;\">\n",
       "      <th></th>\n",
       "      <th>genre</th>\n",
       "      <th>espace_client_web</th>\n",
       "      <th>assurance_vie</th>\n",
       "      <th>banque_principale</th>\n",
       "      <th>anciennete_mois</th>\n",
       "      <th>compte_epargne</th>\n",
       "      <th>credit_autres</th>\n",
       "      <th>cartes_bancaires</th>\n",
       "      <th>compte_courant</th>\n",
       "      <th>compte_joint</th>\n",
       "      <th>...</th>\n",
       "      <th>var_31</th>\n",
       "      <th>var_32</th>\n",
       "      <th>var_33</th>\n",
       "      <th>var_34</th>\n",
       "      <th>var_35</th>\n",
       "      <th>var_36</th>\n",
       "      <th>var_37</th>\n",
       "      <th>var_38</th>\n",
       "      <th>branche</th>\n",
       "      <th>churn</th>\n",
       "    </tr>\n",
       "    <tr>\n",
       "      <th>id_client</th>\n",
       "      <th></th>\n",
       "      <th></th>\n",
       "      <th></th>\n",
       "      <th></th>\n",
       "      <th></th>\n",
       "      <th></th>\n",
       "      <th></th>\n",
       "      <th></th>\n",
       "      <th></th>\n",
       "      <th></th>\n",
       "      <th></th>\n",
       "      <th></th>\n",
       "      <th></th>\n",
       "      <th></th>\n",
       "      <th></th>\n",
       "      <th></th>\n",
       "      <th></th>\n",
       "      <th></th>\n",
       "      <th></th>\n",
       "      <th></th>\n",
       "      <th></th>\n",
       "    </tr>\n",
       "  </thead>\n",
       "  <tbody>\n",
       "    <tr>\n",
       "      <th>0</th>\n",
       "      <td>F</td>\n",
       "      <td>0.0</td>\n",
       "      <td>oui</td>\n",
       "      <td>non</td>\n",
       "      <td>1.0</td>\n",
       "      <td>non</td>\n",
       "      <td>bail</td>\n",
       "      <td>basic</td>\n",
       "      <td>non</td>\n",
       "      <td>oui</td>\n",
       "      <td>...</td>\n",
       "      <td>13216.762683</td>\n",
       "      <td>13859.206348</td>\n",
       "      <td>14679.466563</td>\n",
       "      <td>13231.780818</td>\n",
       "      <td>9072.502501</td>\n",
       "      <td>14730.850501</td>\n",
       "      <td>12920.861540</td>\n",
       "      <td>18742.551182</td>\n",
       "      <td>CENTRE</td>\n",
       "      <td>non</td>\n",
       "    </tr>\n",
       "    <tr>\n",
       "      <th>1</th>\n",
       "      <td>H</td>\n",
       "      <td>0.0</td>\n",
       "      <td>non</td>\n",
       "      <td>non</td>\n",
       "      <td>34.0</td>\n",
       "      <td>oui</td>\n",
       "      <td>permanent</td>\n",
       "      <td>basic</td>\n",
       "      <td>oui</td>\n",
       "      <td>non</td>\n",
       "      <td>...</td>\n",
       "      <td>8449.275069</td>\n",
       "      <td>15565.521380</td>\n",
       "      <td>13227.847825</td>\n",
       "      <td>19622.902605</td>\n",
       "      <td>16384.195278</td>\n",
       "      <td>19191.523166</td>\n",
       "      <td>19569.901065</td>\n",
       "      <td>27659.692989</td>\n",
       "      <td>NORD-OUEST</td>\n",
       "      <td>non</td>\n",
       "    </tr>\n",
       "    <tr>\n",
       "      <th>2</th>\n",
       "      <td>H</td>\n",
       "      <td>0.0</td>\n",
       "      <td>non</td>\n",
       "      <td>non</td>\n",
       "      <td>2.0</td>\n",
       "      <td>oui</td>\n",
       "      <td>permanent</td>\n",
       "      <td>basic</td>\n",
       "      <td>oui</td>\n",
       "      <td>NaN</td>\n",
       "      <td>...</td>\n",
       "      <td>16206.280478</td>\n",
       "      <td>19034.429135</td>\n",
       "      <td>23235.482709</td>\n",
       "      <td>22215.732325</td>\n",
       "      <td>24669.049563</td>\n",
       "      <td>26697.532271</td>\n",
       "      <td>32391.470014</td>\n",
       "      <td>26714.148725</td>\n",
       "      <td>SUD-OUEST</td>\n",
       "      <td>oui</td>\n",
       "    </tr>\n",
       "    <tr>\n",
       "      <th>3</th>\n",
       "      <td>H</td>\n",
       "      <td>0.0</td>\n",
       "      <td>non</td>\n",
       "      <td>non</td>\n",
       "      <td>45.0</td>\n",
       "      <td>non</td>\n",
       "      <td>bail</td>\n",
       "      <td>basic</td>\n",
       "      <td>oui</td>\n",
       "      <td>non</td>\n",
       "      <td>...</td>\n",
       "      <td>NaN</td>\n",
       "      <td>17632.635995</td>\n",
       "      <td>15620.487281</td>\n",
       "      <td>20787.992352</td>\n",
       "      <td>17710.886386</td>\n",
       "      <td>20745.284745</td>\n",
       "      <td>NaN</td>\n",
       "      <td>22871.768205</td>\n",
       "      <td>SUD-EST</td>\n",
       "      <td>non</td>\n",
       "    </tr>\n",
       "    <tr>\n",
       "      <th>4</th>\n",
       "      <td>F</td>\n",
       "      <td>0.0</td>\n",
       "      <td>non</td>\n",
       "      <td>non</td>\n",
       "      <td>2.0</td>\n",
       "      <td>oui</td>\n",
       "      <td>permanent</td>\n",
       "      <td>medium</td>\n",
       "      <td>non</td>\n",
       "      <td>non</td>\n",
       "      <td>...</td>\n",
       "      <td>11527.410647</td>\n",
       "      <td>9523.672653</td>\n",
       "      <td>8535.781042</td>\n",
       "      <td>13901.204569</td>\n",
       "      <td>13607.338517</td>\n",
       "      <td>15628.137128</td>\n",
       "      <td>17286.251614</td>\n",
       "      <td>18611.461589</td>\n",
       "      <td>SUD-OUEST</td>\n",
       "      <td>oui</td>\n",
       "    </tr>\n",
       "  </tbody>\n",
       "</table>\n",
       "<p>5 rows × 62 columns</p>\n",
       "</div>"
      ],
      "text/plain": [
       "          genre  espace_client_web assurance_vie banque_principale  \\\n",
       "id_client                                                            \n",
       "0             F                0.0           oui               non   \n",
       "1             H                0.0           non               non   \n",
       "2             H                0.0           non               non   \n",
       "3             H                0.0           non               non   \n",
       "4             F                0.0           non               non   \n",
       "\n",
       "           anciennete_mois compte_epargne credit_autres cartes_bancaires  \\\n",
       "id_client                                                                  \n",
       "0                      1.0            non          bail            basic   \n",
       "1                     34.0            oui     permanent            basic   \n",
       "2                      2.0            oui     permanent            basic   \n",
       "3                     45.0            non          bail            basic   \n",
       "4                      2.0            oui     permanent           medium   \n",
       "\n",
       "          compte_courant compte_joint  ...        var_31        var_32  \\\n",
       "id_client                              ...                               \n",
       "0                    non          oui  ...  13216.762683  13859.206348   \n",
       "1                    oui          non  ...   8449.275069  15565.521380   \n",
       "2                    oui          NaN  ...  16206.280478  19034.429135   \n",
       "3                    oui          non  ...           NaN  17632.635995   \n",
       "4                    non          non  ...  11527.410647   9523.672653   \n",
       "\n",
       "                 var_33        var_34        var_35        var_36  \\\n",
       "id_client                                                           \n",
       "0          14679.466563  13231.780818   9072.502501  14730.850501   \n",
       "1          13227.847825  19622.902605  16384.195278  19191.523166   \n",
       "2          23235.482709  22215.732325  24669.049563  26697.532271   \n",
       "3          15620.487281  20787.992352  17710.886386  20745.284745   \n",
       "4           8535.781042  13901.204569  13607.338517  15628.137128   \n",
       "\n",
       "                 var_37        var_38     branche  churn  \n",
       "id_client                                                 \n",
       "0          12920.861540  18742.551182      CENTRE    non  \n",
       "1          19569.901065  27659.692989  NORD-OUEST    non  \n",
       "2          32391.470014  26714.148725   SUD-OUEST    oui  \n",
       "3                   NaN  22871.768205     SUD-EST    non  \n",
       "4          17286.251614  18611.461589   SUD-OUEST    oui  \n",
       "\n",
       "[5 rows x 62 columns]"
      ]
     },
     "execution_count": 12,
     "metadata": {},
     "output_type": "execute_result"
    }
   ],
   "source": [
    "dataset = pd.read_csv('dataset.csv', sep=\";\", index_col=0)\n",
    "dataset.sort_values(by='id_client', ascending=True, inplace=True)\n",
    "dataset.head()"
   ]
  },
  {
   "cell_type": "code",
   "execution_count": 13,
   "id": "bcee1444",
   "metadata": {},
   "outputs": [
    {
     "data": {
      "text/plain": [
       "Index(['genre', 'espace_client_web', 'assurance_vie', 'banque_principale',\n",
       "       'anciennete_mois', 'compte_epargne', 'credit_autres',\n",
       "       'cartes_bancaires', 'compte_courant', 'compte_joint', 'PEA',\n",
       "       'assurance_auto', 'assurance_habitation', 'credit_immo', 'type',\n",
       "       'compte_titres', 'methode_contact', 'agios_6mois',\n",
       "       'interet_compte_epargne_total', 'age', 'segment_client', 'var_0',\n",
       "       'var_1', 'var_2', 'var_3', 'var_4', 'var_5', 'var_6', 'var_7', 'var_8',\n",
       "       'var_9', 'var_10', 'var_11', 'var_12', 'var_13', 'var_14', 'var_15',\n",
       "       'var_16', 'var_17', 'var_18', 'var_19', 'var_20', 'var_21', 'var_22',\n",
       "       'var_23', 'var_24', 'var_25', 'var_26', 'var_27', 'var_28', 'var_29',\n",
       "       'var_30', 'var_31', 'var_32', 'var_33', 'var_34', 'var_35', 'var_36',\n",
       "       'var_37', 'var_38', 'branche', 'churn'],\n",
       "      dtype='object')"
      ]
     },
     "execution_count": 13,
     "metadata": {},
     "output_type": "execute_result"
    }
   ],
   "source": [
    "dataset.columns"
   ]
  },
  {
   "cell_type": "code",
   "execution_count": 53,
   "id": "dc2beb50",
   "metadata": {},
   "outputs": [
    {
     "name": "stdout",
     "output_type": "stream",
     "text": [
      "<class 'pandas.core.frame.DataFrame'>\n",
      "Int64Index: 6631 entries, 0 to 7042\n",
      "Data columns (total 81 columns):\n",
      " #   Column                        Non-Null Count  Dtype  \n",
      "---  ------                        --------------  -----  \n",
      " 0   genre                         6631 non-null   int64  \n",
      " 1   espace_client_web             6631 non-null   float64\n",
      " 2   assurance_vie                 6631 non-null   int64  \n",
      " 3   banque_principale             6631 non-null   int64  \n",
      " 4   anciennete_mois               6631 non-null   float64\n",
      " 5   compte_epargne                6631 non-null   int64  \n",
      " 6   credit_autres                 6631 non-null   int64  \n",
      " 7   cartes_bancaires              6631 non-null   int64  \n",
      " 8   compte_courant                6631 non-null   int64  \n",
      " 9   compte_joint                  6631 non-null   int64  \n",
      " 10  PEA                           6631 non-null   int64  \n",
      " 11  assurance_auto                6631 non-null   int64  \n",
      " 12  assurance_habitation          6631 non-null   int64  \n",
      " 13  credit_immo                   6631 non-null   int64  \n",
      " 14  type                          6631 non-null   int64  \n",
      " 15  compte_titres                 6631 non-null   int64  \n",
      " 16  methode_contact               6631 non-null   int64  \n",
      " 17  agios_6mois                   6631 non-null   float64\n",
      " 18  interet_compte_epargne_total  6631 non-null   float64\n",
      " 19  age                           6631 non-null   float64\n",
      " 20  var_0                         6631 non-null   float64\n",
      " 21  var_1                         6631 non-null   float64\n",
      " 22  var_2                         6631 non-null   float64\n",
      " 23  var_3                         6631 non-null   float64\n",
      " 24  var_4                         6631 non-null   float64\n",
      " 25  var_5                         6631 non-null   float64\n",
      " 26  var_6                         6631 non-null   float64\n",
      " 27  var_7                         6631 non-null   float64\n",
      " 28  var_8                         6631 non-null   float64\n",
      " 29  var_9                         6631 non-null   float64\n",
      " 30  var_10                        6631 non-null   float64\n",
      " 31  var_11                        6631 non-null   float64\n",
      " 32  var_12                        6631 non-null   float64\n",
      " 33  var_13                        6631 non-null   float64\n",
      " 34  var_14                        6631 non-null   float64\n",
      " 35  var_15                        6631 non-null   float64\n",
      " 36  var_16                        6631 non-null   float64\n",
      " 37  var_17                        6631 non-null   float64\n",
      " 38  var_18                        6631 non-null   float64\n",
      " 39  var_19                        6631 non-null   float64\n",
      " 40  var_20                        6631 non-null   float64\n",
      " 41  var_21                        6631 non-null   float64\n",
      " 42  var_22                        6631 non-null   float64\n",
      " 43  var_23                        6631 non-null   float64\n",
      " 44  var_24                        6631 non-null   float64\n",
      " 45  var_25                        6631 non-null   float64\n",
      " 46  var_26                        6631 non-null   float64\n",
      " 47  var_27                        6631 non-null   float64\n",
      " 48  var_28                        6631 non-null   float64\n",
      " 49  var_29                        6631 non-null   float64\n",
      " 50  var_30                        6631 non-null   float64\n",
      " 51  var_31                        6631 non-null   float64\n",
      " 52  var_32                        6631 non-null   float64\n",
      " 53  var_33                        6631 non-null   float64\n",
      " 54  var_34                        6631 non-null   float64\n",
      " 55  var_35                        6631 non-null   float64\n",
      " 56  var_36                        6631 non-null   float64\n",
      " 57  var_37                        6631 non-null   float64\n",
      " 58  var_38                        6631 non-null   float64\n",
      " 59  churn                         6631 non-null   int64  \n",
      " 60  segment_client_A1             6631 non-null   uint8  \n",
      " 61  segment_client_A2             6631 non-null   uint8  \n",
      " 62  segment_client_A3             6631 non-null   uint8  \n",
      " 63  segment_client_A4             6631 non-null   uint8  \n",
      " 64  segment_client_B1             6631 non-null   uint8  \n",
      " 65  segment_client_B2             6631 non-null   uint8  \n",
      " 66  segment_client_B3             6631 non-null   uint8  \n",
      " 67  segment_client_B4             6631 non-null   uint8  \n",
      " 68  segment_client_C1             6631 non-null   uint8  \n",
      " 69  segment_client_C2             6631 non-null   uint8  \n",
      " 70  segment_client_C3             6631 non-null   uint8  \n",
      " 71  segment_client_C4             6631 non-null   uint8  \n",
      " 72  segment_client_D1             6631 non-null   uint8  \n",
      " 73  segment_client_D2             6631 non-null   uint8  \n",
      " 74  segment_client_D3             6631 non-null   uint8  \n",
      " 75  branche_CENTRE                6631 non-null   uint8  \n",
      " 76  branche_NORD-EST              6631 non-null   uint8  \n",
      " 77  branche_NORD-OUEST            6631 non-null   uint8  \n",
      " 78  branche_OUTRE-MER             6631 non-null   uint8  \n",
      " 79  branche_SUD-EST               6631 non-null   uint8  \n",
      " 80  branche_SUD-OUEST             6631 non-null   uint8  \n",
      "dtypes: float64(44), int64(16), uint8(21)\n",
      "memory usage: 3.2 MB\n"
     ]
    }
   ],
   "source": [
    "dataset.info()"
   ]
  },
  {
   "cell_type": "code",
   "execution_count": 15,
   "id": "a2340421",
   "metadata": {},
   "outputs": [
    {
     "data": {
      "text/html": [
       "<div>\n",
       "<style scoped>\n",
       "    .dataframe tbody tr th:only-of-type {\n",
       "        vertical-align: middle;\n",
       "    }\n",
       "\n",
       "    .dataframe tbody tr th {\n",
       "        vertical-align: top;\n",
       "    }\n",
       "\n",
       "    .dataframe thead th {\n",
       "        text-align: right;\n",
       "    }\n",
       "</style>\n",
       "<table border=\"1\" class=\"dataframe\">\n",
       "  <thead>\n",
       "    <tr style=\"text-align: right;\">\n",
       "      <th></th>\n",
       "      <th>espace_client_web</th>\n",
       "      <th>anciennete_mois</th>\n",
       "      <th>agios_6mois</th>\n",
       "      <th>age</th>\n",
       "      <th>var_0</th>\n",
       "      <th>var_1</th>\n",
       "      <th>var_2</th>\n",
       "      <th>var_3</th>\n",
       "      <th>var_4</th>\n",
       "      <th>var_5</th>\n",
       "      <th>...</th>\n",
       "      <th>var_29</th>\n",
       "      <th>var_30</th>\n",
       "      <th>var_31</th>\n",
       "      <th>var_32</th>\n",
       "      <th>var_33</th>\n",
       "      <th>var_34</th>\n",
       "      <th>var_35</th>\n",
       "      <th>var_36</th>\n",
       "      <th>var_37</th>\n",
       "      <th>var_38</th>\n",
       "    </tr>\n",
       "  </thead>\n",
       "  <tbody>\n",
       "    <tr>\n",
       "      <th>count</th>\n",
       "      <td>6916.000000</td>\n",
       "      <td>6909.000000</td>\n",
       "      <td>6896.000000</td>\n",
       "      <td>6889.000000</td>\n",
       "      <td>6893.000000</td>\n",
       "      <td>6905.000000</td>\n",
       "      <td>6885.000000</td>\n",
       "      <td>6896.000000</td>\n",
       "      <td>6905.000000</td>\n",
       "      <td>6901.000000</td>\n",
       "      <td>...</td>\n",
       "      <td>6899.000000</td>\n",
       "      <td>6887.000000</td>\n",
       "      <td>6891.000000</td>\n",
       "      <td>6896.000000</td>\n",
       "      <td>6909.000000</td>\n",
       "      <td>6901.000000</td>\n",
       "      <td>6912.000000</td>\n",
       "      <td>6908.000000</td>\n",
       "      <td>6895.000000</td>\n",
       "      <td>6888.000000</td>\n",
       "    </tr>\n",
       "    <tr>\n",
       "      <th>mean</th>\n",
       "      <td>0.162666</td>\n",
       "      <td>32.378926</td>\n",
       "      <td>64.761615</td>\n",
       "      <td>43.608506</td>\n",
       "      <td>7179.987046</td>\n",
       "      <td>9181.184842</td>\n",
       "      <td>11216.801336</td>\n",
       "      <td>13181.565491</td>\n",
       "      <td>15226.615127</td>\n",
       "      <td>17203.245908</td>\n",
       "      <td>...</td>\n",
       "      <td>9785.838628</td>\n",
       "      <td>11068.392722</td>\n",
       "      <td>12451.917950</td>\n",
       "      <td>13847.487586</td>\n",
       "      <td>15330.769094</td>\n",
       "      <td>16951.694375</td>\n",
       "      <td>18658.079824</td>\n",
       "      <td>20385.900574</td>\n",
       "      <td>22273.316999</td>\n",
       "      <td>24236.491341</td>\n",
       "    </tr>\n",
       "    <tr>\n",
       "      <th>std</th>\n",
       "      <td>0.369088</td>\n",
       "      <td>24.572971</td>\n",
       "      <td>30.101904</td>\n",
       "      <td>16.215077</td>\n",
       "      <td>5810.200728</td>\n",
       "      <td>6146.097003</td>\n",
       "      <td>6473.621085</td>\n",
       "      <td>6755.778274</td>\n",
       "      <td>7027.169215</td>\n",
       "      <td>7292.260550</td>\n",
       "      <td>...</td>\n",
       "      <td>5557.064049</td>\n",
       "      <td>6048.259593</td>\n",
       "      <td>6548.008325</td>\n",
       "      <td>7052.226589</td>\n",
       "      <td>7588.094743</td>\n",
       "      <td>8077.431652</td>\n",
       "      <td>8687.004053</td>\n",
       "      <td>9186.926461</td>\n",
       "      <td>9830.595029</td>\n",
       "      <td>10422.086601</td>\n",
       "    </tr>\n",
       "    <tr>\n",
       "      <th>min</th>\n",
       "      <td>0.000000</td>\n",
       "      <td>0.000000</td>\n",
       "      <td>18.250000</td>\n",
       "      <td>20.000000</td>\n",
       "      <td>0.767658</td>\n",
       "      <td>-4241.785944</td>\n",
       "      <td>-3519.347763</td>\n",
       "      <td>-3913.768064</td>\n",
       "      <td>-5409.713059</td>\n",
       "      <td>-3465.351758</td>\n",
       "      <td>...</td>\n",
       "      <td>-11.430930</td>\n",
       "      <td>31.496118</td>\n",
       "      <td>51.786562</td>\n",
       "      <td>258.614091</td>\n",
       "      <td>474.166678</td>\n",
       "      <td>1050.553067</td>\n",
       "      <td>1401.075175</td>\n",
       "      <td>1704.972375</td>\n",
       "      <td>1924.631757</td>\n",
       "      <td>2703.861155</td>\n",
       "    </tr>\n",
       "    <tr>\n",
       "      <th>25%</th>\n",
       "      <td>0.000000</td>\n",
       "      <td>9.000000</td>\n",
       "      <td>35.500000</td>\n",
       "      <td>31.000000</td>\n",
       "      <td>2711.797553</td>\n",
       "      <td>4684.731756</td>\n",
       "      <td>6636.687807</td>\n",
       "      <td>8445.162191</td>\n",
       "      <td>10366.064325</td>\n",
       "      <td>12137.799285</td>\n",
       "      <td>...</td>\n",
       "      <td>5863.700722</td>\n",
       "      <td>6822.771605</td>\n",
       "      <td>7808.787487</td>\n",
       "      <td>8856.463378</td>\n",
       "      <td>9925.688827</td>\n",
       "      <td>11192.255014</td>\n",
       "      <td>12495.574275</td>\n",
       "      <td>13819.139453</td>\n",
       "      <td>15285.970426</td>\n",
       "      <td>16756.046193</td>\n",
       "    </tr>\n",
       "    <tr>\n",
       "      <th>50%</th>\n",
       "      <td>0.000000</td>\n",
       "      <td>29.000000</td>\n",
       "      <td>70.325000</td>\n",
       "      <td>40.000000</td>\n",
       "      <td>5761.948333</td>\n",
       "      <td>7932.505258</td>\n",
       "      <td>10077.513755</td>\n",
       "      <td>12216.321177</td>\n",
       "      <td>14357.736653</td>\n",
       "      <td>16323.371152</td>\n",
       "      <td>...</td>\n",
       "      <td>8795.690408</td>\n",
       "      <td>9991.322358</td>\n",
       "      <td>11349.583083</td>\n",
       "      <td>12688.437278</td>\n",
       "      <td>14165.118676</td>\n",
       "      <td>15661.366988</td>\n",
       "      <td>17348.631325</td>\n",
       "      <td>19163.547474</td>\n",
       "      <td>20858.094755</td>\n",
       "      <td>22798.226057</td>\n",
       "    </tr>\n",
       "    <tr>\n",
       "      <th>75%</th>\n",
       "      <td>0.000000</td>\n",
       "      <td>55.000000</td>\n",
       "      <td>89.900000</td>\n",
       "      <td>54.000000</td>\n",
       "      <td>10136.583353</td>\n",
       "      <td>12472.797039</td>\n",
       "      <td>14815.834866</td>\n",
       "      <td>16987.139371</td>\n",
       "      <td>19319.195330</td>\n",
       "      <td>21591.663391</td>\n",
       "      <td>...</td>\n",
       "      <td>12498.175513</td>\n",
       "      <td>14106.366808</td>\n",
       "      <td>15778.954065</td>\n",
       "      <td>17538.748692</td>\n",
       "      <td>19411.026782</td>\n",
       "      <td>21410.796020</td>\n",
       "      <td>23378.954041</td>\n",
       "      <td>25524.326086</td>\n",
       "      <td>27639.687915</td>\n",
       "      <td>30000.951224</td>\n",
       "    </tr>\n",
       "    <tr>\n",
       "      <th>max</th>\n",
       "      <td>1.000000</td>\n",
       "      <td>72.000000</td>\n",
       "      <td>118.750000</td>\n",
       "      <td>121.000000</td>\n",
       "      <td>41438.097046</td>\n",
       "      <td>46912.076512</td>\n",
       "      <td>51594.948678</td>\n",
       "      <td>54555.922640</td>\n",
       "      <td>58810.829646</td>\n",
       "      <td>61873.729354</td>\n",
       "      <td>...</td>\n",
       "      <td>63031.464743</td>\n",
       "      <td>65002.617141</td>\n",
       "      <td>70562.371244</td>\n",
       "      <td>68887.212623</td>\n",
       "      <td>72692.134039</td>\n",
       "      <td>83405.277234</td>\n",
       "      <td>80492.250287</td>\n",
       "      <td>90443.667291</td>\n",
       "      <td>86499.286501</td>\n",
       "      <td>91176.277613</td>\n",
       "    </tr>\n",
       "  </tbody>\n",
       "</table>\n",
       "<p>8 rows × 43 columns</p>\n",
       "</div>"
      ],
      "text/plain": [
       "       espace_client_web  anciennete_mois  agios_6mois          age  \\\n",
       "count        6916.000000      6909.000000  6896.000000  6889.000000   \n",
       "mean            0.162666        32.378926    64.761615    43.608506   \n",
       "std             0.369088        24.572971    30.101904    16.215077   \n",
       "min             0.000000         0.000000    18.250000    20.000000   \n",
       "25%             0.000000         9.000000    35.500000    31.000000   \n",
       "50%             0.000000        29.000000    70.325000    40.000000   \n",
       "75%             0.000000        55.000000    89.900000    54.000000   \n",
       "max             1.000000        72.000000   118.750000   121.000000   \n",
       "\n",
       "              var_0         var_1         var_2         var_3         var_4  \\\n",
       "count   6893.000000   6905.000000   6885.000000   6896.000000   6905.000000   \n",
       "mean    7179.987046   9181.184842  11216.801336  13181.565491  15226.615127   \n",
       "std     5810.200728   6146.097003   6473.621085   6755.778274   7027.169215   \n",
       "min        0.767658  -4241.785944  -3519.347763  -3913.768064  -5409.713059   \n",
       "25%     2711.797553   4684.731756   6636.687807   8445.162191  10366.064325   \n",
       "50%     5761.948333   7932.505258  10077.513755  12216.321177  14357.736653   \n",
       "75%    10136.583353  12472.797039  14815.834866  16987.139371  19319.195330   \n",
       "max    41438.097046  46912.076512  51594.948678  54555.922640  58810.829646   \n",
       "\n",
       "              var_5  ...        var_29        var_30        var_31  \\\n",
       "count   6901.000000  ...   6899.000000   6887.000000   6891.000000   \n",
       "mean   17203.245908  ...   9785.838628  11068.392722  12451.917950   \n",
       "std     7292.260550  ...   5557.064049   6048.259593   6548.008325   \n",
       "min    -3465.351758  ...    -11.430930     31.496118     51.786562   \n",
       "25%    12137.799285  ...   5863.700722   6822.771605   7808.787487   \n",
       "50%    16323.371152  ...   8795.690408   9991.322358  11349.583083   \n",
       "75%    21591.663391  ...  12498.175513  14106.366808  15778.954065   \n",
       "max    61873.729354  ...  63031.464743  65002.617141  70562.371244   \n",
       "\n",
       "             var_32        var_33        var_34        var_35        var_36  \\\n",
       "count   6896.000000   6909.000000   6901.000000   6912.000000   6908.000000   \n",
       "mean   13847.487586  15330.769094  16951.694375  18658.079824  20385.900574   \n",
       "std     7052.226589   7588.094743   8077.431652   8687.004053   9186.926461   \n",
       "min      258.614091    474.166678   1050.553067   1401.075175   1704.972375   \n",
       "25%     8856.463378   9925.688827  11192.255014  12495.574275  13819.139453   \n",
       "50%    12688.437278  14165.118676  15661.366988  17348.631325  19163.547474   \n",
       "75%    17538.748692  19411.026782  21410.796020  23378.954041  25524.326086   \n",
       "max    68887.212623  72692.134039  83405.277234  80492.250287  90443.667291   \n",
       "\n",
       "             var_37        var_38  \n",
       "count   6895.000000   6888.000000  \n",
       "mean   22273.316999  24236.491341  \n",
       "std     9830.595029  10422.086601  \n",
       "min     1924.631757   2703.861155  \n",
       "25%    15285.970426  16756.046193  \n",
       "50%    20858.094755  22798.226057  \n",
       "75%    27639.687915  30000.951224  \n",
       "max    86499.286501  91176.277613  \n",
       "\n",
       "[8 rows x 43 columns]"
      ]
     },
     "execution_count": 15,
     "metadata": {},
     "output_type": "execute_result"
    }
   ],
   "source": [
    "dataset.describe()"
   ]
  },
  {
   "cell_type": "code",
   "execution_count": 16,
   "id": "478c1ce5",
   "metadata": {},
   "outputs": [
    {
     "data": {
      "text/plain": [
       "genre                 object\n",
       "espace_client_web    float64\n",
       "assurance_vie         object\n",
       "banque_principale     object\n",
       "anciennete_mois      float64\n",
       "                      ...   \n",
       "var_36               float64\n",
       "var_37               float64\n",
       "var_38               float64\n",
       "branche               object\n",
       "churn                 object\n",
       "Length: 62, dtype: object"
      ]
     },
     "execution_count": 16,
     "metadata": {},
     "output_type": "execute_result"
    }
   ],
   "source": [
    "dataset.dtypes"
   ]
  },
  {
   "cell_type": "code",
   "execution_count": 17,
   "id": "434f5486",
   "metadata": {},
   "outputs": [
    {
     "data": {
      "text/plain": [
       "{float64: ['espace_client_web', 'anciennete_mois', 'agios_6mois', 'age', 'var_0', 'var_1', 'var_2', 'var_3', 'var_4', 'var_5', 'var_6', 'var_7', 'var_8', 'var_9', 'var_10', 'var_11', 'var_12', 'var_13', 'var_14', 'var_15', 'var_16', 'var_17', 'var_18', 'var_19', 'var_20', 'var_21', 'var_22', 'var_23', 'var_24', 'var_25', 'var_26', 'var_27', 'var_28', 'var_29', 'var_30', 'var_31', 'var_32', 'var_33', 'var_34', 'var_35', 'var_36', 'var_37', 'var_38'], object: ['genre', 'assurance_vie', 'banque_principale', 'compte_epargne', 'credit_autres', 'cartes_bancaires', 'compte_courant', 'compte_joint', 'PEA', 'assurance_auto', 'assurance_habitation', 'credit_immo', 'type', 'compte_titres', 'methode_contact', 'interet_compte_epargne_total', 'segment_client', 'branche', 'churn']}"
      ]
     },
     "execution_count": 17,
     "metadata": {},
     "output_type": "execute_result"
    }
   ],
   "source": [
    "dataset.columns.to_series().groupby(dataset.dtypes).groups"
   ]
  },
  {
   "cell_type": "markdown",
   "id": "79daef99",
   "metadata": {},
   "source": [
    "### Observation des différentes valeurs présentes dans chaque colonne "
   ]
  },
  {
   "cell_type": "code",
   "execution_count": 18,
   "id": "c19ccd92",
   "metadata": {
    "collapsed": true
   },
   "outputs": [
    {
     "data": {
      "text/markdown": [
       "Les valeurs uniques de la colonne **genre** sont : ['F' 'H' nan]"
      ],
      "text/plain": [
       "<IPython.core.display.Markdown object>"
      ]
     },
     "metadata": {},
     "output_type": "display_data"
    },
    {
     "data": {
      "text/markdown": [
       "Les valeurs uniques de la colonne **espace_client_web** sont : [ 0.  1. nan]"
      ],
      "text/plain": [
       "<IPython.core.display.Markdown object>"
      ]
     },
     "metadata": {},
     "output_type": "display_data"
    },
    {
     "data": {
      "text/markdown": [
       "Les valeurs uniques de la colonne **assurance_vie** sont : ['oui' 'non' nan]"
      ],
      "text/plain": [
       "<IPython.core.display.Markdown object>"
      ]
     },
     "metadata": {},
     "output_type": "display_data"
    },
    {
     "data": {
      "text/markdown": [
       "Les valeurs uniques de la colonne **banque_principale** sont : ['non' 'oui' nan]"
      ],
      "text/plain": [
       "<IPython.core.display.Markdown object>"
      ]
     },
     "metadata": {},
     "output_type": "display_data"
    },
    {
     "data": {
      "text/markdown": [
       "Les valeurs uniques de la colonne **anciennete_mois** sont : [ 1. 34.  2. 45.  8. 22. 10. 28. 62. 13. 16. 58. 49. 25. 69. 52. 71. 21.\n",
       " 12. nan 30. 47. 72. 17. 27.  5. 46. 11. 70. 63. 43. 15. 60. 18. 66.  9.\n",
       "  3. 31. 50. 64. 56.  7. 42. 35. 48. 29. 65. 38. 68. 32. 55. 37. 36. 41.\n",
       "  6.  4. 33. 67. 23. 57. 61. 14. 20. 53. 40. 59. 24. 44. 19. 54. 51. 26.\n",
       "  0. 39.]"
      ],
      "text/plain": [
       "<IPython.core.display.Markdown object>"
      ]
     },
     "metadata": {},
     "output_type": "display_data"
    },
    {
     "data": {
      "text/markdown": [
       "Les valeurs uniques de la colonne **compte_epargne** sont : ['non' 'oui' nan]"
      ],
      "text/plain": [
       "<IPython.core.display.Markdown object>"
      ]
     },
     "metadata": {},
     "output_type": "display_data"
    },
    {
     "data": {
      "text/markdown": [
       "Les valeurs uniques de la colonne **credit_autres** sont : ['bail' 'permanent' 'consommation' nan]"
      ],
      "text/plain": [
       "<IPython.core.display.Markdown object>"
      ]
     },
     "metadata": {},
     "output_type": "display_data"
    },
    {
     "data": {
      "text/markdown": [
       "Les valeurs uniques de la colonne **cartes_bancaires** sont : ['basic' 'medium' 'premium' nan]"
      ],
      "text/plain": [
       "<IPython.core.display.Markdown object>"
      ]
     },
     "metadata": {},
     "output_type": "display_data"
    },
    {
     "data": {
      "text/markdown": [
       "Les valeurs uniques de la colonne **compte_courant** sont : ['non' 'oui' 'inconnu' nan]"
      ],
      "text/plain": [
       "<IPython.core.display.Markdown object>"
      ]
     },
     "metadata": {},
     "output_type": "display_data"
    },
    {
     "data": {
      "text/markdown": [
       "Les valeurs uniques de la colonne **compte_joint** sont : ['oui' 'non' nan 'inconnu']"
      ],
      "text/plain": [
       "<IPython.core.display.Markdown object>"
      ]
     },
     "metadata": {},
     "output_type": "display_data"
    },
    {
     "data": {
      "text/markdown": [
       "Les valeurs uniques de la colonne **PEA** sont : ['non' 'oui' 'inconnu' nan]"
      ],
      "text/plain": [
       "<IPython.core.display.Markdown object>"
      ]
     },
     "metadata": {},
     "output_type": "display_data"
    },
    {
     "data": {
      "text/markdown": [
       "Les valeurs uniques de la colonne **assurance_auto** sont : ['non' 'oui' 'inconnu' nan]"
      ],
      "text/plain": [
       "<IPython.core.display.Markdown object>"
      ]
     },
     "metadata": {},
     "output_type": "display_data"
    },
    {
     "data": {
      "text/markdown": [
       "Les valeurs uniques de la colonne **assurance_habitation** sont : ['non' 'oui' nan 'inconnu']"
      ],
      "text/plain": [
       "<IPython.core.display.Markdown object>"
      ]
     },
     "metadata": {},
     "output_type": "display_data"
    },
    {
     "data": {
      "text/markdown": [
       "Les valeurs uniques de la colonne **credit_immo** sont : ['non' 'oui' 'inconnu' nan]"
      ],
      "text/plain": [
       "<IPython.core.display.Markdown object>"
      ]
     },
     "metadata": {},
     "output_type": "display_data"
    },
    {
     "data": {
      "text/markdown": [
       "Les valeurs uniques de la colonne **type** sont : ['pro' 'perso' nan]"
      ],
      "text/plain": [
       "<IPython.core.display.Markdown object>"
      ]
     },
     "metadata": {},
     "output_type": "display_data"
    },
    {
     "data": {
      "text/markdown": [
       "Les valeurs uniques de la colonne **compte_titres** sont : ['oui' 'non' nan]"
      ],
      "text/plain": [
       "<IPython.core.display.Markdown object>"
      ]
     },
     "metadata": {},
     "output_type": "display_data"
    },
    {
     "data": {
      "text/markdown": [
       "Les valeurs uniques de la colonne **methode_contact** sont : ['mail' 'courrier' 'telephone' 'sms' nan]"
      ],
      "text/plain": [
       "<IPython.core.display.Markdown object>"
      ]
     },
     "metadata": {},
     "output_type": "display_data"
    },
    {
     "data": {
      "text/markdown": [
       "Les valeurs uniques de la colonne **agios_6mois** sont : [29.85 56.95 53.85 ... 63.1  44.2  78.7 ]"
      ],
      "text/plain": [
       "<IPython.core.display.Markdown object>"
      ]
     },
     "metadata": {},
     "output_type": "display_data"
    },
    {
     "data": {
      "text/markdown": [
       "Les valeurs uniques de la colonne **interet_compte_epargne_total** sont : ['29.85' '1889.5' '108.15' ... '346.45' '306.6' '6844.5']"
      ],
      "text/plain": [
       "<IPython.core.display.Markdown object>"
      ]
     },
     "metadata": {},
     "output_type": "display_data"
    },
    {
     "data": {
      "text/markdown": [
       "Les valeurs uniques de la colonne **age** sont : [ 97.  30.  26.  40.  20.  56.  87.  80.  28.  35.  33.  43.  25.  36.\n",
       "  52.  38.  21.  24.  45.  82.  32.  44.  59.  41.  58.  69.  49.  23.\n",
       "  34.  61.  72.  55.  89.  60.  29.  93.  nan  48.  50.  39.  27.  42.\n",
       "  84.  75.  76.  54.  53.  31.  22.  51.  77.  65.  46.  81.  37.  64.\n",
       "  47.  71.  73.  86.  79.  78.  57.  62.  67.  74.  63.  85.  70.  66.\n",
       "  68.  94.  91.  83.  98.  92.  96. 121.  95.  90. 108.  88. 112. 107.\n",
       "  99. 100. 103. 101. 104.]"
      ],
      "text/plain": [
       "<IPython.core.display.Markdown object>"
      ]
     },
     "metadata": {},
     "output_type": "display_data"
    },
    {
     "data": {
      "text/markdown": [
       "Les valeurs uniques de la colonne **segment_client** sont : ['C4' 'B1' 'A2' 'A1' 'D3' 'D1' 'C3' 'C1' 'B4' 'A4' 'C2' 'A3' nan 'B2' 'B3'\n",
       " 'D2']"
      ],
      "text/plain": [
       "<IPython.core.display.Markdown object>"
      ]
     },
     "metadata": {},
     "output_type": "display_data"
    },
    {
     "data": {
      "text/markdown": [
       "Les valeurs uniques de la colonne **var_0** sont : [10544.54057498  6098.8386066   5564.5048745  ... 24494.10348552\n",
       "  9653.77935819  6692.33300426]"
      ],
      "text/plain": [
       "<IPython.core.display.Markdown object>"
      ]
     },
     "metadata": {},
     "output_type": "display_data"
    },
    {
     "data": {
      "text/markdown": [
       "Les valeurs uniques de la colonne **var_1** sont : [11840.84392116  7509.87114577 10149.2170228  ... 28208.77395214\n",
       " 10963.32064312 12521.34158049]"
      ],
      "text/plain": [
       "<IPython.core.display.Markdown object>"
      ]
     },
     "metadata": {},
     "output_type": "display_data"
    },
    {
     "data": {
      "text/markdown": [
       "Les valeurs uniques de la colonne **var_2** sont : [12101.25396605  9411.43513181 12132.3940807  ... 30625.00983201\n",
       " 10933.49940825 19310.72014794]"
      ],
      "text/plain": [
       "<IPython.core.display.Markdown object>"
      ]
     },
     "metadata": {},
     "output_type": "display_data"
    },
    {
     "data": {
      "text/markdown": [
       "Les valeurs uniques de la colonne **var_3** sont : [16138.58384687 12128.85595669 15965.7489854  ... 34090.28677803\n",
       " 11315.13329545 21889.49644929]"
      ],
      "text/plain": [
       "<IPython.core.display.Markdown object>"
      ]
     },
     "metadata": {},
     "output_type": "display_data"
    },
    {
     "data": {
      "text/markdown": [
       "Les valeurs uniques de la colonne **var_4** sont : [19256.14892925 12417.6870163  15532.4694874  ... 34270.95061788\n",
       " 11731.91029051 25079.07545015]"
      ],
      "text/plain": [
       "<IPython.core.display.Markdown object>"
      ]
     },
     "metadata": {},
     "output_type": "display_data"
    },
    {
     "data": {
      "text/markdown": [
       "Les valeurs uniques de la colonne **var_5** sont : [22711.19813804 13899.77575918 18011.84673982 ... 35469.78179941\n",
       " 14231.24028586 26674.73142552]"
      ],
      "text/plain": [
       "<IPython.core.display.Markdown object>"
      ]
     },
     "metadata": {},
     "output_type": "display_data"
    },
    {
     "data": {
      "text/markdown": [
       "Les valeurs uniques de la colonne **var_6** sont : [27090.22328045 17004.80958532 25140.88251687 ... 36492.39380791\n",
       " 15682.8938489  32344.47736639]"
      ],
      "text/plain": [
       "<IPython.core.display.Markdown object>"
      ]
     },
     "metadata": {},
     "output_type": "display_data"
    },
    {
     "data": {
      "text/markdown": [
       "Les valeurs uniques de la colonne **var_7** sont : [26271.00160665 20172.17019145 24200.10981534 ... 35915.61818159\n",
       " 20199.28205753 36004.76114141]"
      ],
      "text/plain": [
       "<IPython.core.display.Markdown object>"
      ]
     },
     "metadata": {},
     "output_type": "display_data"
    },
    {
     "data": {
      "text/markdown": [
       "Les valeurs uniques de la colonne **var_8** sont : [29031.46321488 23648.47902925 24708.30013525 ... 34307.04935314\n",
       " 30114.01966765 37988.24963839]"
      ],
      "text/plain": [
       "<IPython.core.display.Markdown object>"
      ]
     },
     "metadata": {},
     "output_type": "display_data"
    },
    {
     "data": {
      "text/markdown": [
       "Les valeurs uniques de la colonne **var_9** sont : [29517.77631599 25149.39113382 28416.23654399 ... 34810.08010851\n",
       " 34109.06165683 41458.62750937]"
      ],
      "text/plain": [
       "<IPython.core.display.Markdown object>"
      ]
     },
     "metadata": {},
     "output_type": "display_data"
    },
    {
     "data": {
      "text/markdown": [
       "Les valeurs uniques de la colonne **var_10** sont : [31132.29742153 27536.10595738 31940.63324065 ... 33213.2469494\n",
       " 37382.25428173 47022.60017144]"
      ],
      "text/plain": [
       "<IPython.core.display.Markdown object>"
      ]
     },
     "metadata": {},
     "output_type": "display_data"
    },
    {
     "data": {
      "text/markdown": [
       "Les valeurs uniques de la colonne **var_11** sont : [30341.41758676 27997.41585325 35380.41682641 ... 36066.96186766\n",
       " 40161.10749083 47568.95050307]"
      ],
      "text/plain": [
       "<IPython.core.display.Markdown object>"
      ]
     },
     "metadata": {},
     "output_type": "display_data"
    },
    {
     "data": {
      "text/markdown": [
       "Les valeurs uniques de la colonne **var_12** sont : [30079.87383118 30377.76100723 37303.42167644 ... 38043.03554351\n",
       " 41656.76457629 49379.91916824]"
      ],
      "text/plain": [
       "<IPython.core.display.Markdown object>"
      ]
     },
     "metadata": {},
     "output_type": "display_data"
    },
    {
     "data": {
      "text/markdown": [
       "Les valeurs uniques de la colonne **var_13** sont : [34618.0447732  33584.62128589 42070.02704508 ... 33360.7440428\n",
       " 48099.83982266 53365.77989953]"
      ],
      "text/plain": [
       "<IPython.core.display.Markdown object>"
      ]
     },
     "metadata": {},
     "output_type": "display_data"
    },
    {
     "data": {
      "text/markdown": [
       "Les valeurs uniques de la colonne **var_14** sont : [31134.68148138 38424.75023941 44395.83894436 ... 37228.17695931\n",
       " 46444.96643147 58175.86417579]"
      ],
      "text/plain": [
       "<IPython.core.display.Markdown object>"
      ]
     },
     "metadata": {},
     "output_type": "display_data"
    },
    {
     "data": {
      "text/markdown": [
       "Les valeurs uniques de la colonne **var_15** sont : [29277.52324609 38276.04308704            nan ... 47085.71815218\n",
       " 50892.32178979 58234.99196722]"
      ],
      "text/plain": [
       "<IPython.core.display.Markdown object>"
      ]
     },
     "metadata": {},
     "output_type": "display_data"
    },
    {
     "data": {
      "text/markdown": [
       "Les valeurs uniques de la colonne **var_16** sont : [32589.02057069 39632.64004688            nan ... 49620.03753516\n",
       " 54233.36916602 60101.69416635]"
      ],
      "text/plain": [
       "<IPython.core.display.Markdown object>"
      ]
     },
     "metadata": {},
     "output_type": "display_data"
    },
    {
     "data": {
      "text/markdown": [
       "Les valeurs uniques de la colonne **var_17** sont : [34717.22494068 40341.92173629 48733.90480659 ... 55038.271698\n",
       " 55067.66806868 63003.75091434]"
      ],
      "text/plain": [
       "<IPython.core.display.Markdown object>"
      ]
     },
     "metadata": {},
     "output_type": "display_data"
    },
    {
     "data": {
      "text/markdown": [
       "Les valeurs uniques de la colonne **var_18** sont : [36343.67155272 45619.17519934 47414.90011191 ... 57598.54865183\n",
       " 56426.16358299 65194.77070757]"
      ],
      "text/plain": [
       "<IPython.core.display.Markdown object>"
      ]
     },
     "metadata": {},
     "output_type": "display_data"
    },
    {
     "data": {
      "text/markdown": [
       "Les valeurs uniques de la colonne **var_19** sont : [39073.72719049 46131.13518024 50740.3721661  ... 62831.75799706\n",
       " 57942.67318864 66861.60522869]"
      ],
      "text/plain": [
       "<IPython.core.display.Markdown object>"
      ]
     },
     "metadata": {},
     "output_type": "display_data"
    },
    {
     "data": {
      "text/markdown": [
       "Les valeurs uniques de la colonne **var_20** sont : [ 1950.18202696  1635.9606438   1875.98982416 ... 10441.77155169\n",
       "  3353.64647627  1384.97682157]"
      ],
      "text/plain": [
       "<IPython.core.display.Markdown object>"
      ]
     },
     "metadata": {},
     "output_type": "display_data"
    },
    {
     "data": {
      "text/markdown": [
       "Les valeurs uniques de la colonne **var_21** sont : [ 4552.43496423  2044.59432417  2417.27589588 ... 12508.62312514\n",
       "  4032.32485981  2765.22130447]"
      ],
      "text/plain": [
       "<IPython.core.display.Markdown object>"
      ]
     },
     "metadata": {},
     "output_type": "display_data"
    },
    {
     "data": {
      "text/markdown": [
       "Les valeurs uniques de la colonne **var_22** sont : [ 3912.29058888            nan  2510.60742172 ... 12999.92649323\n",
       "  2072.65969005  6114.02440301]"
      ],
      "text/plain": [
       "<IPython.core.display.Markdown object>"
      ]
     },
     "metadata": {},
     "output_type": "display_data"
    },
    {
     "data": {
      "text/markdown": [
       "Les valeurs uniques de la colonne **var_23** sont : [ 3983.01898986  4145.9107448   3144.79517175 ... 16564.00920223\n",
       "  2248.47930401  5871.11720134]"
      ],
      "text/plain": [
       "<IPython.core.display.Markdown object>"
      ]
     },
     "metadata": {},
     "output_type": "display_data"
    },
    {
     "data": {
      "text/markdown": [
       "Les valeurs uniques de la colonne **var_24** sont : [ 5672.72239299  4414.69869041  3670.91946961 ... 15483.04514118\n",
       "  3574.38341267  7240.21616654]"
      ],
      "text/plain": [
       "<IPython.core.display.Markdown object>"
      ]
     },
     "metadata": {},
     "output_type": "display_data"
    },
    {
     "data": {
      "text/markdown": [
       "Les valeurs uniques de la colonne **var_25** sont : [ 7266.72785419  3489.18948227  4766.68958598 ... 14453.11151172\n",
       "  3599.97142304 10095.3245103 ]"
      ],
      "text/plain": [
       "<IPython.core.display.Markdown object>"
      ]
     },
     "metadata": {},
     "output_type": "display_data"
    },
    {
     "data": {
      "text/markdown": [
       "Les valeurs uniques de la colonne **var_26** sont : [10224.9772427   4457.73483234  7042.69734714 ... 17951.02317677\n",
       "  4371.77058576 13937.88111979]"
      ],
      "text/plain": [
       "<IPython.core.display.Markdown object>"
      ]
     },
     "metadata": {},
     "output_type": "display_data"
    },
    {
     "data": {
      "text/markdown": [
       "Les valeurs uniques de la colonne **var_27** sont : [ 8102.84036006  7802.79354578  7090.29224782 ... 15092.3814499\n",
       "  7553.79137014 13043.27729861]"
      ],
      "text/plain": [
       "<IPython.core.display.Markdown object>"
      ]
     },
     "metadata": {},
     "output_type": "display_data"
    },
    {
     "data": {
      "text/markdown": [
       "Les valeurs uniques de la colonne **var_28** sont : [13049.60414184  8647.95310783  7589.64150269 ... 16841.86112829\n",
       " 13182.81525385 18854.22255998]"
      ],
      "text/plain": [
       "<IPython.core.display.Markdown object>"
      ]
     },
     "metadata": {},
     "output_type": "display_data"
    },
    {
     "data": {
      "text/markdown": [
       "Les valeurs uniques de la colonne **var_29** sont : [11972.55916952  9628.05011406 10142.8821615  ... 18073.34399283\n",
       " 16859.95532592 21726.15453908]"
      ],
      "text/plain": [
       "<IPython.core.display.Markdown object>"
      ]
     },
     "metadata": {},
     "output_type": "display_data"
    },
    {
     "data": {
      "text/markdown": [
       "Les valeurs uniques de la colonne **var_30** sont : [13506.97814375 12738.0922617  14111.52285347 ... 12381.6360833\n",
       " 18128.4605295  26458.3072071 ]"
      ],
      "text/plain": [
       "<IPython.core.display.Markdown object>"
      ]
     },
     "metadata": {},
     "output_type": "display_data"
    },
    {
     "data": {
      "text/markdown": [
       "Les valeurs uniques de la colonne **var_31** sont : [13216.76268322  8449.27506924 16206.28047818 ... 16122.01008703\n",
       " 18556.67119561 24256.16585144]"
      ],
      "text/plain": [
       "<IPython.core.display.Markdown object>"
      ]
     },
     "metadata": {},
     "output_type": "display_data"
    },
    {
     "data": {
      "text/markdown": [
       "Les valeurs uniques de la colonne **var_32** sont : [13859.20634796 15565.52137991 19034.42913464 ... 12714.17173952\n",
       " 22687.53212754 29454.09094376]"
      ],
      "text/plain": [
       "<IPython.core.display.Markdown object>"
      ]
     },
     "metadata": {},
     "output_type": "display_data"
    },
    {
     "data": {
      "text/markdown": [
       "Les valeurs uniques de la colonne **var_33** sont : [14679.46656261 13227.84782464 23235.48270919 ... 24407.43273767\n",
       " 28177.10356875 33741.73736944]"
      ],
      "text/plain": [
       "<IPython.core.display.Markdown object>"
      ]
     },
     "metadata": {},
     "output_type": "display_data"
    },
    {
     "data": {
      "text/markdown": [
       "Les valeurs uniques de la colonne **var_34** sont : [13231.78081775 19622.90260509 22215.73232528 ... 25146.7039782\n",
       " 25925.11205085 37080.82742416]"
      ],
      "text/plain": [
       "<IPython.core.display.Markdown object>"
      ]
     },
     "metadata": {},
     "output_type": "display_data"
    },
    {
     "data": {
      "text/markdown": [
       "Les valeurs uniques de la colonne **var_35** sont : [ 9072.50250072 16384.19527798 24669.04956348 ... 27860.32964639\n",
       " 32454.2905494  43478.18978612]"
      ],
      "text/plain": [
       "<IPython.core.display.Markdown object>"
      ]
     },
     "metadata": {},
     "output_type": "display_data"
    },
    {
     "data": {
      "text/markdown": [
       "Les valeurs uniques de la colonne **var_36** sont : [14730.85050083 19191.52316605 26697.53227075 ... 27570.55858246\n",
       " 32157.3078846  46567.32738854]"
      ],
      "text/plain": [
       "<IPython.core.display.Markdown object>"
      ]
     },
     "metadata": {},
     "output_type": "display_data"
    },
    {
     "data": {
      "text/markdown": [
       "Les valeurs uniques de la colonne **var_37** sont : [12920.86154049 19569.90106491 32391.47001389 ... 33447.96637921\n",
       " 35705.85876391 47669.72727365]"
      ],
      "text/plain": [
       "<IPython.core.display.Markdown object>"
      ]
     },
     "metadata": {},
     "output_type": "display_data"
    },
    {
     "data": {
      "text/markdown": [
       "Les valeurs uniques de la colonne **var_38** sont : [18742.55118217 27659.69298873 26714.14872468 ... 40442.93164405\n",
       " 35014.33969767 49881.20559997]"
      ],
      "text/plain": [
       "<IPython.core.display.Markdown object>"
      ]
     },
     "metadata": {},
     "output_type": "display_data"
    },
    {
     "data": {
      "text/markdown": [
       "Les valeurs uniques de la colonne **branche** sont : ['CENTRE' 'NORD-OUEST' 'SUD-OUEST' 'SUD-EST' 'OUTRE-MER' 'NORD-EST' nan]"
      ],
      "text/plain": [
       "<IPython.core.display.Markdown object>"
      ]
     },
     "metadata": {},
     "output_type": "display_data"
    },
    {
     "data": {
      "text/markdown": [
       "Les valeurs uniques de la colonne **churn** sont : ['non' 'oui']"
      ],
      "text/plain": [
       "<IPython.core.display.Markdown object>"
      ]
     },
     "metadata": {},
     "output_type": "display_data"
    }
   ],
   "source": [
    "for col in dataset.columns:\n",
    "    display(Markdown(f\"Les valeurs uniques de la colonne **{col}** sont : {dataset[col].unique()}\"))"
   ]
  },
  {
   "cell_type": "code",
   "execution_count": 19,
   "id": "ba27cc73",
   "metadata": {
    "scrolled": true
   },
   "outputs": [],
   "source": [
    "#liste des colonnes \n",
    "list_col = ['genre','espace_client_web','assurance_vie','banque_principale',\n",
    "            'compte_epargne','credit_autres','cartes_bancaires','compte_courant',\n",
    "            'compte_joint','PEA','assurance_auto','assurance_habitation','credit_immo','type',\n",
    "            'compte_titres','methode_contact','branche']"
   ]
  },
  {
   "cell_type": "markdown",
   "id": "69f7bb8e",
   "metadata": {},
   "source": [
    "### Observation des valeurs absentes dans le jeu de données"
   ]
  },
  {
   "cell_type": "code",
   "execution_count": 20,
   "id": "2ab29e2e",
   "metadata": {},
   "outputs": [
    {
     "name": "stdout",
     "output_type": "stream",
     "text": [
      "Nombre de valeurs NaN par colonne :\n",
      " genre                128\n",
      "espace_client_web    127\n",
      "assurance_vie        131\n",
      "banque_principale    122\n",
      "anciennete_mois      134\n",
      "                    ... \n",
      "var_36               135\n",
      "var_37               148\n",
      "var_38               155\n",
      "branche              129\n",
      "churn                  0\n",
      "Length: 62, dtype: int64\n"
     ]
    }
   ],
   "source": [
    "missing_values_col = dataset.isna().sum()\n",
    "print(\"Nombre de valeurs NaN par colonne :\\n\", missing_values_col)"
   ]
  },
  {
   "cell_type": "code",
   "execution_count": 21,
   "id": "ba7d006f",
   "metadata": {},
   "outputs": [
    {
     "name": "stdout",
     "output_type": "stream",
     "text": [
      "Nombre de valeurs NaN pour chaque ligne :\n",
      " id_client\n",
      "0       0\n",
      "1       1\n",
      "2       3\n",
      "3       2\n",
      "4       2\n",
      "       ..\n",
      "7038    1\n",
      "7039    0\n",
      "7040    2\n",
      "7041    1\n",
      "7042    1\n",
      "Length: 7043, dtype: int64\n"
     ]
    }
   ],
   "source": [
    "missing_values_row = dataset.isna().sum(axis=1)\n",
    "print(\"Nombre de valeurs NaN pour chaque ligne :\\n\", missing_values_row)"
   ]
  },
  {
   "cell_type": "code",
   "execution_count": 22,
   "id": "8f5b6fe2",
   "metadata": {},
   "outputs": [],
   "source": [
    "# Il faut remplacer toutes les valeurs absentes: \n",
    "# Création de sous listes: \n",
    "\n",
    "list_A = ['assurance_vie', 'banque_principale', 'compte_epargne', 'compte_titres', 'churn']\n",
    "\n",
    "list_B = ['compte_courant', 'compte_joint', 'PEA', 'assurance_auto', 'assurance_habitation', 'credit_immo']\n",
    "\n",
    "list_C = ['age', 'var_0', 'var_1', 'var_2', 'var_3', 'var_4', 'var_5', 'var_6', 'var_7', 'var_8', 'var_9', \n",
    "          'var_10', 'var_11', 'var_12', 'var_13', 'var_14', 'var_15', 'var_16','var_17', 'var_18', 'var_19', \n",
    "          'var_20', 'var_21', 'var_22', 'var_23', 'var_24', 'var_25', 'var_26', 'var_27', 'var_28', 'var_29', \n",
    "          'var_30', 'var_31', 'var_32', 'var_33', 'var_34', 'var_35', 'var_36','var_37', 'var_38']\n",
    "\n",
    "list_D = ['anciennete_mois', 'agios_6mois']"
   ]
  },
  {
   "cell_type": "code",
   "execution_count": 23,
   "id": "9187b00d",
   "metadata": {},
   "outputs": [],
   "source": [
    "# Traitement de la colonne interet_compte_epargne_total\n",
    "dataset['interet_compte_epargne_total'] = pd.to_numeric(dataset['interet_compte_epargne_total'], errors='coerce')\n",
    "\n",
    "\n",
    "# Remplacement des valeurs manquantes par une valeur choisi aléatoirement en respectant la répartition. \n",
    "# Genre => repartition 50/50. \n",
    "dataset['genre'].fillna(random.choice(['F', 'H']), inplace=True)\n",
    "# Espace client web => repartition 0: 83%, 1: 17%.\n",
    "dataset['espace_client_web'] = dataset['espace_client_web'].apply(lambda x: np.random.choice([0,1], p=[0.83,0.17]) if pd.isna(x) else x)\n",
    "# Assurance vie => repartition oui: 48%, non: 52%.\n",
    "dataset['assurance_vie'] = dataset['assurance_vie'].apply(lambda x: np.random.choice(['oui','non'], p=[0.48,0.52]) if pd.isna(x) else x)\n",
    "# Banque principal => repartition non: 70%, oui: 30%.\n",
    "dataset['banque_principale'] = dataset['banque_principale'].apply(lambda x: np.random.choice(['non','oui'], p=[0.73,0.27]) if pd.isna(x) else x)\n",
    "# Compte_epargne => repartition oui: 90%, non: 10%.\n",
    "dataset['compte_epargne'] = dataset['compte_epargne'].apply(lambda x: np.random.choice(['oui','non'], p=[0.9,0.1]) if pd.isna(x) else x)\n",
    "# Compte_titres => repartition oui: 60%, non: 40%.\n",
    "dataset['compte_titres'] = dataset['compte_titres'].apply(lambda x: np.random.choice(['oui','non'], p=[0.6,0.4]) if pd.isna(x) else x)\n",
    "# Type => repartition pro: 73%, perso: 27%.\n",
    "dataset['type'] = dataset['type'].apply(lambda x: np.random.choice(['pro','perso'], p=[0.73,0.27]) if pd.isna(x) else x)\n",
    "\n",
    "# Credit_autres => repartition perma: 48%, conso: 42%, bail: 10%.\n",
    "dataset['credit_autres'] = dataset['credit_autres'].apply(lambda x: np.random.choice(['permanent','consommation','bail'], \n",
    "    p=[0.48,0.42,0.10]) if pd.isna(x) else x)\n",
    "# Cartes_bancaires => repartition medium: 44%, basic: 34%, premium: 22%\n",
    "dataset['cartes_bancaires'] = dataset['cartes_bancaires'].apply(lambda x: np.random.choice(['medium','basic','premium'], \n",
    "    p=[0.44,0.34,0.22]) if pd.isna(x) else x)\n",
    "# methode_contact => repartition mail: 34%, courrier: 23%, telephone: 22%, sms: 21%\n",
    "dataset['methode_contact'] = dataset['methode_contact'].apply(lambda x: np.random.choice(['mail','courrier','telephone','sms'], \n",
    "    p=[0.34,0.23,0.22,0.21]) if pd.isna(x) else x)\n",
    "\n",
    "for col in list_B:\n",
    "    dataset[col].fillna('inconnu', inplace=True)\n",
    "\n",
    "# Pour les données numériques, il suffit de remplacer les valeurs manquantes par la moyenne.\n",
    "for i in list_C:\n",
    "    mean = dataset[i].mean()\n",
    "    dataset[i].fillna(mean, inplace=True)"
   ]
  },
  {
   "cell_type": "code",
   "execution_count": 24,
   "id": "a27a254d",
   "metadata": {},
   "outputs": [],
   "source": [
    "dataset.dropna(subset=['anciennete_mois', 'agios_6mois', 'interet_compte_epargne_total'], inplace=True)"
   ]
  },
  {
   "cell_type": "code",
   "execution_count": 47,
   "id": "873a01b9",
   "metadata": {},
   "outputs": [],
   "source": [
    "dataset.to_csv('datasheetNoNan.csv', index=True)"
   ]
  },
  {
   "cell_type": "markdown",
   "id": "0888798d",
   "metadata": {},
   "source": [
    "### Bilan \n",
    "Le dataset contient 7043 clients différents et 60 variables. \n",
    "Parmis ces variables, il y a des données manquantes, cependant hormis dans la colonne \"type\" aucune colonne ne contient un grand nombre de données manquantes. \n",
    "Pour les individus de même, le nombre de données manquantes reste faible. \n",
    "\n",
    "Dans le cas de données binaire il est important de remplacer les valeurs manquantes par une des deux valeurs. \n",
    "\n",
    "Pour cela, je choisis d'attribuer aléatoirement une valeur en suivant la répartition observée avec les données présentes. \n",
    "\n",
    "Dans le cas de données numérique, je choisi de remplacer les valeurs manquantes par la moyenne des autres valeurs. \n",
    "\n",
    "Dans le cas de données catégorique, je choisi de remplacer les valeurs manquantes par une catégorie prise aléatoirement selon les proportions étudiées."
   ]
  },
  {
   "cell_type": "markdown",
   "id": "deec06f3",
   "metadata": {},
   "source": [
    "### Traitement des données"
   ]
  },
  {
   "cell_type": "markdown",
   "id": "3b4717b7",
   "metadata": {},
   "source": [
    "Pour toutes les variables non numérique, je les convertis\n",
    "Ainsi, pour les colonnes :\n",
    "- **genre**: variable binaire **H** &rarr; 0 et **F** &rarr; 1.\n",
    "- **assurance_vie**: variable binaire **oui** &rarr; 0 ou **non** &rarr; 1.\n",
    "- **banque_principale**: variable binaire **oui** &rarr; 0 ou **non** &rarr; 1.\n",
    "- **compte_epargne**: variable binaire **oui** &rarr; 0 ou **non** &rarr; 1.\n",
    "- **type**: variable binaire **pro** &rarr; 0 ou **perso** &rarr; 1.\n",
    "- **compte_titres** variable binaire **oui** &rarr; 0 ou **non** &rarr; 1.\n",
    "\n",
    "Pour les variables ternaires:\n",
    "- **credit_autres**: variable ternaire  **bail** &rarr; 1, **permanent** &rarr; 2, **consommation** &rarr; 3.\n",
    "- **cartes_bancaires**: variable ternaire **basic** &rarr; 1, **medium** &rarr; 2, **premium** &rarr; 3.\n",
    "\n",
    "Pour les variables binaires + inconnu:\n",
    "- **compte_courant**\n",
    "- **compte_joint**\n",
    "- **PEA**\n",
    "- **assurance_auto**\n",
    "- **assurance_habitation**\n",
    "- **credit_immo** \n",
    "\n",
    "    Pour ces variables, les valeurs absentes seront remplacées par la valeur inconnu \n",
    "    \n",
    "    La valeur **inconnu** prendra la valeur &rarr; -1.\n",
    "    \n",
    "    La valeur **oui** prendra la valeur &rarr; 0.\n",
    "    \n",
    "    La valeur **non** prendra la valeur &rarr; 1.\n",
    "    \n",
    "Pour la variable à estimer: \n",
    "- **churn** variable binaire **oui** &rarr; 0 ou **non** &rarr; 1."
   ]
  },
  {
   "cell_type": "code",
   "execution_count": 25,
   "id": "02ed197b",
   "metadata": {},
   "outputs": [
    {
     "data": {
      "text/markdown": [
       "For column **genre**:"
      ],
      "text/plain": [
       "<IPython.core.display.Markdown object>"
      ]
     },
     "metadata": {},
     "output_type": "display_data"
    },
    {
     "name": "stdout",
     "output_type": "stream",
     "text": [
      "F    50.369477\n",
      "H    49.630523\n",
      "Name: genre, dtype: float64\n"
     ]
    },
    {
     "data": {
      "text/markdown": [
       "For column **espace_client_web**:"
      ],
      "text/plain": [
       "<IPython.core.display.Markdown object>"
      ]
     },
     "metadata": {},
     "output_type": "display_data"
    },
    {
     "name": "stdout",
     "output_type": "stream",
     "text": [
      "0.0    83.697783\n",
      "1.0    16.302217\n",
      "Name: espace_client_web, dtype: float64\n"
     ]
    },
    {
     "data": {
      "text/markdown": [
       "For column **assurance_vie**:"
      ],
      "text/plain": [
       "<IPython.core.display.Markdown object>"
      ]
     },
     "metadata": {},
     "output_type": "display_data"
    },
    {
     "name": "stdout",
     "output_type": "stream",
     "text": [
      "non    51.937868\n",
      "oui    48.062132\n",
      "Name: assurance_vie, dtype: float64\n"
     ]
    },
    {
     "data": {
      "text/markdown": [
       "For column **banque_principale**:"
      ],
      "text/plain": [
       "<IPython.core.display.Markdown object>"
      ]
     },
     "metadata": {},
     "output_type": "display_data"
    },
    {
     "name": "stdout",
     "output_type": "stream",
     "text": [
      "non    70.245815\n",
      "oui    29.754185\n",
      "Name: banque_principale, dtype: float64\n"
     ]
    },
    {
     "data": {
      "text/markdown": [
       "For column **anciennete_mois**:"
      ],
      "text/plain": [
       "<IPython.core.display.Markdown object>"
      ]
     },
     "metadata": {},
     "output_type": "display_data"
    },
    {
     "name": "stdout",
     "output_type": "stream",
     "text": [
      "1.0     8.641231\n",
      "72.0    5.232997\n",
      "2.0     3.362992\n",
      "3.0     2.880410\n",
      "4.0     2.563716\n",
      "          ...   \n",
      "59.0    0.859599\n",
      "28.0    0.829437\n",
      "39.0    0.829437\n",
      "44.0    0.723873\n",
      "36.0    0.678631\n",
      "Name: anciennete_mois, Length: 72, dtype: float64\n"
     ]
    },
    {
     "data": {
      "text/markdown": [
       "For column **compte_epargne**:"
      ],
      "text/plain": [
       "<IPython.core.display.Markdown object>"
      ]
     },
     "metadata": {},
     "output_type": "display_data"
    },
    {
     "name": "stdout",
     "output_type": "stream",
     "text": [
      "oui    90.378525\n",
      "non     9.621475\n",
      "Name: compte_epargne, dtype: float64\n"
     ]
    },
    {
     "data": {
      "text/markdown": [
       "For column **credit_autres**:"
      ],
      "text/plain": [
       "<IPython.core.display.Markdown object>"
      ]
     },
     "metadata": {},
     "output_type": "display_data"
    },
    {
     "name": "stdout",
     "output_type": "stream",
     "text": [
      "permanent       48.363746\n",
      "consommation    41.954456\n",
      "bail             9.681798\n",
      "Name: credit_autres, dtype: float64\n"
     ]
    },
    {
     "data": {
      "text/markdown": [
       "For column **cartes_bancaires**:"
      ],
      "text/plain": [
       "<IPython.core.display.Markdown object>"
      ]
     },
     "metadata": {},
     "output_type": "display_data"
    },
    {
     "name": "stdout",
     "output_type": "stream",
     "text": [
      "medium     44.020510\n",
      "basic      34.504600\n",
      "premium    21.474891\n",
      "Name: cartes_bancaires, dtype: float64\n"
     ]
    },
    {
     "data": {
      "text/markdown": [
       "For column **compte_courant**:"
      ],
      "text/plain": [
       "<IPython.core.display.Markdown object>"
      ]
     },
     "metadata": {},
     "output_type": "display_data"
    },
    {
     "name": "stdout",
     "output_type": "stream",
     "text": [
      "non        48.725682\n",
      "oui        28.034987\n",
      "inconnu    23.239330\n",
      "Name: compte_courant, dtype: float64\n"
     ]
    },
    {
     "data": {
      "text/markdown": [
       "For column **compte_joint**:"
      ],
      "text/plain": [
       "<IPython.core.display.Markdown object>"
      ]
     },
     "metadata": {},
     "output_type": "display_data"
    },
    {
     "name": "stdout",
     "output_type": "stream",
     "text": [
      "non        42.874378\n",
      "oui        34.082341\n",
      "inconnu    23.043282\n",
      "Name: compte_joint, dtype: float64\n"
     ]
    },
    {
     "data": {
      "text/markdown": [
       "For column **PEA**:"
      ],
      "text/plain": [
       "<IPython.core.display.Markdown object>"
      ]
     },
     "metadata": {},
     "output_type": "display_data"
    },
    {
     "name": "stdout",
     "output_type": "stream",
     "text": [
      "non        43.040265\n",
      "oui        33.780727\n",
      "inconnu    23.179008\n",
      "Name: PEA, dtype: float64\n"
     ]
    },
    {
     "data": {
      "text/markdown": [
       "For column **assurance_auto**:"
      ],
      "text/plain": [
       "<IPython.core.display.Markdown object>"
      ]
     },
     "metadata": {},
     "output_type": "display_data"
    },
    {
     "name": "stdout",
     "output_type": "stream",
     "text": [
      "non        48.243101\n",
      "oui        28.517569\n",
      "inconnu    23.239330\n",
      "Name: assurance_auto, dtype: float64\n"
     ]
    },
    {
     "data": {
      "text/markdown": [
       "For column **assurance_habitation**:"
      ],
      "text/plain": [
       "<IPython.core.display.Markdown object>"
      ]
     },
     "metadata": {},
     "output_type": "display_data"
    },
    {
     "name": "stdout",
     "output_type": "stream",
     "text": [
      "non        39.058965\n",
      "oui        37.731865\n",
      "inconnu    23.209169\n",
      "Name: assurance_habitation, dtype: float64\n"
     ]
    },
    {
     "data": {
      "text/markdown": [
       "For column **credit_immo**:"
      ],
      "text/plain": [
       "<IPython.core.display.Markdown object>"
      ]
     },
     "metadata": {},
     "output_type": "display_data"
    },
    {
     "name": "stdout",
     "output_type": "stream",
     "text": [
      "non        38.651787\n",
      "oui        38.078721\n",
      "inconnu    23.269492\n",
      "Name: credit_immo, dtype: float64\n"
     ]
    },
    {
     "data": {
      "text/markdown": [
       "For column **type**:"
      ],
      "text/plain": [
       "<IPython.core.display.Markdown object>"
      ]
     },
     "metadata": {},
     "output_type": "display_data"
    },
    {
     "name": "stdout",
     "output_type": "stream",
     "text": [
      "pro      73.246871\n",
      "perso    26.753129\n",
      "Name: type, dtype: float64\n"
     ]
    },
    {
     "data": {
      "text/markdown": [
       "For column **compte_titres**:"
      ],
      "text/plain": [
       "<IPython.core.display.Markdown object>"
      ]
     },
     "metadata": {},
     "output_type": "display_data"
    },
    {
     "name": "stdout",
     "output_type": "stream",
     "text": [
      "oui    59.101191\n",
      "non    40.898809\n",
      "Name: compte_titres, dtype: float64\n"
     ]
    },
    {
     "data": {
      "text/markdown": [
       "For column **methode_contact**:"
      ],
      "text/plain": [
       "<IPython.core.display.Markdown object>"
      ]
     },
     "metadata": {},
     "output_type": "display_data"
    },
    {
     "name": "stdout",
     "output_type": "stream",
     "text": [
      "mail         33.614839\n",
      "courrier     23.043282\n",
      "sms          21.716182\n",
      "telephone    21.625697\n",
      "Name: methode_contact, dtype: float64\n"
     ]
    },
    {
     "data": {
      "text/markdown": [
       "For column **agios_6mois**:"
      ],
      "text/plain": [
       "<IPython.core.display.Markdown object>"
      ]
     },
     "metadata": {},
     "output_type": "display_data"
    },
    {
     "name": "stdout",
     "output_type": "stream",
     "text": [
      "20.05    0.874680\n",
      "19.90    0.648469\n",
      "19.95    0.633389\n",
      "19.85    0.633389\n",
      "19.65    0.618308\n",
      "           ...   \n",
      "57.45    0.015081\n",
      "53.90    0.015081\n",
      "92.10    0.015081\n",
      "23.65    0.015081\n",
      "78.70    0.015081\n",
      "Name: agios_6mois, Length: 1561, dtype: float64\n"
     ]
    },
    {
     "data": {
      "text/markdown": [
       "For column **interet_compte_epargne_total**:"
      ],
      "text/plain": [
       "<IPython.core.display.Markdown object>"
      ]
     },
     "metadata": {},
     "output_type": "display_data"
    },
    {
     "name": "stdout",
     "output_type": "stream",
     "text": [
      "20.20      0.165887\n",
      "19.75      0.135726\n",
      "19.65      0.120645\n",
      "20.05      0.120645\n",
      "19.55      0.105565\n",
      "             ...   \n",
      "692.35     0.015081\n",
      "130.15     0.015081\n",
      "3211.90    0.015081\n",
      "7843.55    0.015081\n",
      "6844.50    0.015081\n",
      "Name: interet_compte_epargne_total, Length: 6181, dtype: float64\n"
     ]
    },
    {
     "data": {
      "text/markdown": [
       "For column **age**:"
      ],
      "text/plain": [
       "<IPython.core.display.Markdown object>"
      ]
     },
     "metadata": {},
     "output_type": "display_data"
    },
    {
     "name": "stdout",
     "output_type": "stream",
     "text": [
      "38.0     3.287589\n",
      "39.0     3.272508\n",
      "36.0     2.759765\n",
      "35.0     2.729603\n",
      "37.0     2.714523\n",
      "           ...   \n",
      "107.0    0.015081\n",
      "100.0    0.015081\n",
      "103.0    0.015081\n",
      "101.0    0.015081\n",
      "104.0    0.015081\n",
      "Name: age, Length: 89, dtype: float64\n"
     ]
    },
    {
     "data": {
      "text/markdown": [
       "For column **segment_client**:"
      ],
      "text/plain": [
       "<IPython.core.display.Markdown object>"
      ]
     },
     "metadata": {},
     "output_type": "display_data"
    },
    {
     "name": "stdout",
     "output_type": "stream",
     "text": [
      "D1    10.442696\n",
      "B2    10.396421\n",
      "A1    10.319297\n",
      "C1    10.319297\n",
      "B1     9.979948\n",
      "C4     9.763998\n",
      "C2     9.548049\n",
      "A4     9.440074\n",
      "C3     9.208700\n",
      "B4     1.835570\n",
      "D2     1.773870\n",
      "D3     1.758445\n",
      "A3     1.743020\n",
      "B3     1.743020\n",
      "A2     1.727595\n",
      "Name: segment_client, dtype: float64\n"
     ]
    },
    {
     "data": {
      "text/markdown": [
       "For column **var_0**:"
      ],
      "text/plain": [
       "<IPython.core.display.Markdown object>"
      ]
     },
     "metadata": {},
     "output_type": "display_data"
    },
    {
     "name": "stdout",
     "output_type": "stream",
     "text": [
      "7179.987046     2.111295\n",
      "10544.540575    0.015081\n",
      "5134.292528     0.015081\n",
      "2462.843692     0.015081\n",
      "175.712756      0.015081\n",
      "                  ...   \n",
      "4361.106447     0.015081\n",
      "9116.684370     0.015081\n",
      "11096.222342    0.015081\n",
      "9448.278045     0.015081\n",
      "6692.333004     0.015081\n",
      "Name: var_0, Length: 6492, dtype: float64\n"
     ]
    },
    {
     "data": {
      "text/markdown": [
       "For column **var_1**:"
      ],
      "text/plain": [
       "<IPython.core.display.Markdown object>"
      ]
     },
     "metadata": {},
     "output_type": "display_data"
    },
    {
     "name": "stdout",
     "output_type": "stream",
     "text": [
      "9181.184842     1.915247\n",
      "11840.843921    0.015081\n",
      "5418.295102     0.015081\n",
      "3036.505748     0.015081\n",
      "11186.575761    0.015081\n",
      "                  ...   \n",
      "16664.898295    0.015081\n",
      "5441.281608     0.015081\n",
      "9057.007272     0.015081\n",
      "11692.516369    0.015081\n",
      "12521.341580    0.015081\n",
      "Name: var_1, Length: 6505, dtype: float64\n"
     ]
    },
    {
     "data": {
      "text/markdown": [
       "For column **var_2**:"
      ],
      "text/plain": [
       "<IPython.core.display.Markdown object>"
      ]
     },
     "metadata": {},
     "output_type": "display_data"
    },
    {
     "name": "stdout",
     "output_type": "stream",
     "text": [
      "11216.801336    2.186699\n",
      "12101.253966    0.015081\n",
      "7495.684856     0.015081\n",
      "14859.405444    0.015081\n",
      "7560.826275     0.015081\n",
      "                  ...   \n",
      "3960.786953     0.015081\n",
      "7684.432854     0.015081\n",
      "1711.226387     0.015081\n",
      "24970.177883    0.015081\n",
      "19310.720148    0.015081\n",
      "Name: var_2, Length: 6487, dtype: float64\n"
     ]
    },
    {
     "data": {
      "text/markdown": [
       "For column **var_3**:"
      ],
      "text/plain": [
       "<IPython.core.display.Markdown object>"
      ]
     },
     "metadata": {},
     "output_type": "display_data"
    },
    {
     "name": "stdout",
     "output_type": "stream",
     "text": [
      "13181.565491    2.096215\n",
      "16138.583847    0.015081\n",
      "28069.772598    0.015081\n",
      "16783.412854    0.015081\n",
      "10581.358269    0.015081\n",
      "                  ...   \n",
      "8477.038200     0.015081\n",
      "10707.987847    0.015081\n",
      "21759.035909    0.015081\n",
      "5871.523947     0.015081\n",
      "21889.496449    0.015081\n",
      "Name: var_3, Length: 6493, dtype: float64\n"
     ]
    },
    {
     "data": {
      "text/markdown": [
       "For column **var_4**:"
      ],
      "text/plain": [
       "<IPython.core.display.Markdown object>"
      ]
     },
     "metadata": {},
     "output_type": "display_data"
    },
    {
     "name": "stdout",
     "output_type": "stream",
     "text": [
      "15226.615127    1.885085\n",
      "19256.148929    0.015081\n",
      "14621.411201    0.015081\n",
      "19782.442504    0.015081\n",
      "10420.954323    0.015081\n",
      "                  ...   \n",
      "3600.493178     0.015081\n",
      "11822.980123    0.015081\n",
      "1028.578862     0.015081\n",
      "33159.790044    0.015081\n",
      "25079.075450    0.015081\n",
      "Name: var_4, Length: 6507, dtype: float64\n"
     ]
    },
    {
     "data": {
      "text/markdown": [
       "For column **var_5**:"
      ],
      "text/plain": [
       "<IPython.core.display.Markdown object>"
      ]
     },
     "metadata": {},
     "output_type": "display_data"
    },
    {
     "name": "stdout",
     "output_type": "stream",
     "text": [
      "17203.245908    2.066053\n",
      "22711.198138    0.015081\n",
      "7222.828206     0.015081\n",
      "15036.999450    0.015081\n",
      "27655.998846    0.015081\n",
      "                  ...   \n",
      "14162.055507    0.015081\n",
      "15309.314003    0.015081\n",
      "23265.387886    0.015081\n",
      "13082.768862    0.015081\n",
      "26674.731426    0.015081\n",
      "Name: var_5, Length: 6495, dtype: float64\n"
     ]
    },
    {
     "data": {
      "text/markdown": [
       "For column **var_6**:"
      ],
      "text/plain": [
       "<IPython.core.display.Markdown object>"
      ]
     },
     "metadata": {},
     "output_type": "display_data"
    },
    {
     "name": "stdout",
     "output_type": "stream",
     "text": [
      "19153.174193    1.749359\n",
      "27090.223280    0.015081\n",
      "19748.835976    0.015081\n",
      "30807.322193    0.015081\n",
      "13331.190734    0.015081\n",
      "                  ...   \n",
      "14860.141464    0.015081\n",
      "26546.731905    0.015081\n",
      "23011.698064    0.015081\n",
      "7351.162178     0.015081\n",
      "32344.477366    0.015081\n",
      "Name: var_6, Length: 6516, dtype: float64\n"
     ]
    },
    {
     "data": {
      "text/markdown": [
       "For column **var_7**:"
      ],
      "text/plain": [
       "<IPython.core.display.Markdown object>"
      ]
     },
     "metadata": {},
     "output_type": "display_data"
    },
    {
     "name": "stdout",
     "output_type": "stream",
     "text": [
      "21140.626041    1.960489\n",
      "26271.001607    0.015081\n",
      "11579.252719    0.015081\n",
      "24545.861463    0.015081\n",
      "22107.278601    0.015081\n",
      "                  ...   \n",
      "27119.681134    0.015081\n",
      "12288.163121    0.015081\n",
      "20557.831714    0.015081\n",
      "8977.196116     0.015081\n",
      "36004.761141    0.015081\n",
      "Name: var_7, Length: 6502, dtype: float64\n"
     ]
    },
    {
     "data": {
      "text/markdown": [
       "For column **var_8**:"
      ],
      "text/plain": [
       "<IPython.core.display.Markdown object>"
      ]
     },
     "metadata": {},
     "output_type": "display_data"
    },
    {
     "name": "stdout",
     "output_type": "stream",
     "text": [
      "23168.689721    1.794601\n",
      "29031.463215    0.015081\n",
      "36486.889332    0.015081\n",
      "21592.147694    0.015081\n",
      "16478.638541    0.015081\n",
      "                  ...   \n",
      "33558.111536    0.015081\n",
      "20124.175929    0.015081\n",
      "44401.330226    0.015081\n",
      "22076.076727    0.015081\n",
      "37988.249638    0.015081\n",
      "Name: var_8, Length: 6513, dtype: float64\n"
     ]
    },
    {
     "data": {
      "text/markdown": [
       "For column **var_9**:"
      ],
      "text/plain": [
       "<IPython.core.display.Markdown object>"
      ]
     },
     "metadata": {},
     "output_type": "display_data"
    },
    {
     "name": "stdout",
     "output_type": "stream",
     "text": [
      "25129.685065    1.960489\n",
      "29517.776316    0.015081\n",
      "14156.612453    0.015081\n",
      "43889.074010    0.015081\n",
      "18697.801221    0.015081\n",
      "                  ...   \n",
      "24723.117602    0.015081\n",
      "32829.290268    0.015081\n",
      "20274.721776    0.015081\n",
      "48157.599998    0.015081\n",
      "41458.627509    0.015081\n",
      "Name: var_9, Length: 6502, dtype: float64\n"
     ]
    },
    {
     "data": {
      "text/markdown": [
       "For column **var_10**:"
      ],
      "text/plain": [
       "<IPython.core.display.Markdown object>"
      ]
     },
     "metadata": {},
     "output_type": "display_data"
    },
    {
     "name": "stdout",
     "output_type": "stream",
     "text": [
      "27152.790413    1.900166\n",
      "31132.297422    0.015081\n",
      "17720.225279    0.015081\n",
      "22604.377552    0.015081\n",
      "26423.886821    0.015081\n",
      "                  ...   \n",
      "29696.285380    0.015081\n",
      "18287.719041    0.015081\n",
      "38765.838786    0.015081\n",
      "38413.273516    0.015081\n",
      "47022.600171    0.015081\n",
      "Name: var_10, Length: 6506, dtype: float64\n"
     ]
    },
    {
     "data": {
      "text/markdown": [
       "For column **var_11**:"
      ],
      "text/plain": [
       "<IPython.core.display.Markdown object>"
      ]
     },
     "metadata": {},
     "output_type": "display_data"
    },
    {
     "name": "stdout",
     "output_type": "stream",
     "text": [
      "29149.664388    1.885085\n",
      "30341.417587    0.015081\n",
      "18969.065102    0.015081\n",
      "31538.245745    0.015081\n",
      "23269.824069    0.015081\n",
      "                  ...   \n",
      "50105.889196    0.015081\n",
      "26563.539163    0.015081\n",
      "16787.667878    0.015081\n",
      "30725.788392    0.015081\n",
      "47568.950503    0.015081\n",
      "Name: var_11, Length: 6507, dtype: float64\n"
     ]
    },
    {
     "data": {
      "text/markdown": [
       "For column **var_12**:"
      ],
      "text/plain": [
       "<IPython.core.display.Markdown object>"
      ]
     },
     "metadata": {},
     "output_type": "display_data"
    },
    {
     "name": "stdout",
     "output_type": "stream",
     "text": [
      "31131.285760    1.854924\n",
      "30079.873831    0.015081\n",
      "41726.367594    0.015081\n",
      "29418.240501    0.015081\n",
      "31321.365154    0.015081\n",
      "                  ...   \n",
      "43315.807688    0.015081\n",
      "27226.339394    0.015081\n",
      "52729.784266    0.015081\n",
      "26630.222462    0.015081\n",
      "49379.919168    0.015081\n",
      "Name: var_12, Length: 6509, dtype: float64\n"
     ]
    },
    {
     "data": {
      "text/markdown": [
       "For column **var_13**:"
      ],
      "text/plain": [
       "<IPython.core.display.Markdown object>"
      ]
     },
     "metadata": {},
     "output_type": "display_data"
    },
    {
     "name": "stdout",
     "output_type": "stream",
     "text": [
      "33082.709767    1.885085\n",
      "27373.125731    0.015081\n",
      "27066.321405    0.015081\n",
      "48175.138715    0.015081\n",
      "28913.974306    0.015081\n",
      "                  ...   \n",
      "37238.541171    0.015081\n",
      "20800.224214    0.015081\n",
      "49546.493223    0.015081\n",
      "24842.929401    0.015081\n",
      "53365.779900    0.015081\n",
      "Name: var_13, Length: 6507, dtype: float64\n"
     ]
    },
    {
     "data": {
      "text/markdown": [
       "For column **var_14**:"
      ],
      "text/plain": [
       "<IPython.core.display.Markdown object>"
      ]
     },
     "metadata": {},
     "output_type": "display_data"
    },
    {
     "name": "stdout",
     "output_type": "stream",
     "text": [
      "35116.480254    2.186699\n",
      "31134.681481    0.015081\n",
      "36049.401582    0.015081\n",
      "27177.043964    0.015081\n",
      "29622.080644    0.015081\n",
      "                  ...   \n",
      "40727.756385    0.015081\n",
      "34393.727653    0.015081\n",
      "34943.366100    0.015081\n",
      "19647.353973    0.015081\n",
      "58175.864176    0.015081\n",
      "Name: var_14, Length: 6487, dtype: float64\n"
     ]
    },
    {
     "data": {
      "text/markdown": [
       "For column **var_15**:"
      ],
      "text/plain": [
       "<IPython.core.display.Markdown object>"
      ]
     },
     "metadata": {},
     "output_type": "display_data"
    },
    {
     "name": "stdout",
     "output_type": "stream",
     "text": [
      "37092.498762    2.231941\n",
      "29277.523246    0.015081\n",
      "51663.636999    0.015081\n",
      "39731.026725    0.015081\n",
      "31520.798323    0.015081\n",
      "                  ...   \n",
      "21124.379376    0.015081\n",
      "41059.346993    0.015081\n",
      "19870.102678    0.015081\n",
      "51164.312152    0.015081\n",
      "58234.991967    0.015081\n",
      "Name: var_15, Length: 6484, dtype: float64\n"
     ]
    },
    {
     "data": {
      "text/markdown": [
       "For column **var_16**:"
      ],
      "text/plain": [
       "<IPython.core.display.Markdown object>"
      ]
     },
     "metadata": {},
     "output_type": "display_data"
    },
    {
     "name": "stdout",
     "output_type": "stream",
     "text": [
      "39062.675576    2.186699\n",
      "32589.020571    0.015081\n",
      "35859.873961    0.015081\n",
      "32208.109200    0.015081\n",
      "32895.114995    0.015081\n",
      "                  ...   \n",
      "42269.036240    0.015081\n",
      "39780.483835    0.015081\n",
      "19553.314015    0.015081\n",
      "69190.137661    0.015081\n",
      "60101.694166    0.015081\n",
      "Name: var_16, Length: 6487, dtype: float64\n"
     ]
    },
    {
     "data": {
      "text/markdown": [
       "For column **var_17**:"
      ],
      "text/plain": [
       "<IPython.core.display.Markdown object>"
      ]
     },
     "metadata": {},
     "output_type": "display_data"
    },
    {
     "name": "stdout",
     "output_type": "stream",
     "text": [
      "41108.330364    1.673956\n",
      "34717.224941    0.015081\n",
      "39923.700214    0.015081\n",
      "37390.563264    0.015081\n",
      "36572.045927    0.015081\n",
      "                  ...   \n",
      "41443.374578    0.015081\n",
      "22595.636158    0.015081\n",
      "54849.567774    0.015081\n",
      "44309.537043    0.015081\n",
      "63003.750914    0.015081\n",
      "Name: var_17, Length: 6521, dtype: float64\n"
     ]
    },
    {
     "data": {
      "text/markdown": [
       "For column **var_18**:"
      ],
      "text/plain": [
       "<IPython.core.display.Markdown object>"
      ]
     },
     "metadata": {},
     "output_type": "display_data"
    },
    {
     "name": "stdout",
     "output_type": "stream",
     "text": [
      "43137.077894    2.488312\n",
      "36343.671553    0.015081\n",
      "35581.455207    0.015081\n",
      "41503.471447    0.015081\n",
      "35447.257685    0.015081\n",
      "                  ...   \n",
      "65161.540768    0.015081\n",
      "37849.051401    0.015081\n",
      "27064.512743    0.015081\n",
      "42585.333210    0.015081\n",
      "65194.770708    0.015081\n",
      "Name: var_18, Length: 6467, dtype: float64\n"
     ]
    },
    {
     "data": {
      "text/markdown": [
       "For column **var_19**:"
      ],
      "text/plain": [
       "<IPython.core.display.Markdown object>"
      ]
     },
     "metadata": {},
     "output_type": "display_data"
    },
    {
     "name": "stdout",
     "output_type": "stream",
     "text": [
      "45114.458351    1.960489\n",
      "39073.727190    0.015081\n",
      "45084.536510    0.015081\n",
      "45080.255911    0.015081\n",
      "39734.513681    0.015081\n",
      "                  ...   \n",
      "22652.599352    0.015081\n",
      "75689.520687    0.015081\n",
      "52638.344939    0.015081\n",
      "51389.466036    0.015081\n",
      "66861.605229    0.015081\n",
      "Name: var_19, Length: 6502, dtype: float64\n"
     ]
    },
    {
     "data": {
      "text/markdown": [
       "For column **var_20**:"
      ],
      "text/plain": [
       "<IPython.core.display.Markdown object>"
      ]
     },
     "metadata": {},
     "output_type": "display_data"
    },
    {
     "name": "stdout",
     "output_type": "stream",
     "text": [
      "1831.056165    1.975569\n",
      "1950.182027    0.015081\n",
      "1325.467695    0.015081\n",
      "616.641969     0.015081\n",
      "184.266968     0.015081\n",
      "                 ...   \n",
      "578.862894     0.015081\n",
      "691.978731     0.015081\n",
      "5782.467008    0.015081\n",
      "3220.719506    0.015081\n",
      "1384.976822    0.015081\n",
      "Name: var_20, Length: 6501, dtype: float64\n"
     ]
    },
    {
     "data": {
      "text/markdown": [
       "For column **var_21**:"
      ],
      "text/plain": [
       "<IPython.core.display.Markdown object>"
      ]
     },
     "metadata": {},
     "output_type": "display_data"
    },
    {
     "name": "stdout",
     "output_type": "stream",
     "text": [
      "2392.217585    1.945408\n",
      "4034.134483    0.015081\n",
      "637.354838     0.015081\n",
      "409.881258     0.015081\n",
      "1995.472564    0.015081\n",
      "                 ...   \n",
      "3934.881000    0.015081\n",
      "1202.500530    0.015081\n",
      "1296.094157    0.015081\n",
      "2239.455086    0.015081\n",
      "2765.221304    0.015081\n",
      "Name: var_21, Length: 6503, dtype: float64\n"
     ]
    },
    {
     "data": {
      "text/markdown": [
       "For column **var_22**:"
      ],
      "text/plain": [
       "<IPython.core.display.Markdown object>"
      ]
     },
     "metadata": {},
     "output_type": "display_data"
    },
    {
     "name": "stdout",
     "output_type": "stream",
     "text": [
      "3046.721499    2.171618\n",
      "6142.221364    0.015081\n",
      "1617.571668    0.015081\n",
      "818.107725     0.015081\n",
      "3293.695317    0.015081\n",
      "                 ...   \n",
      "3718.046137    0.015081\n",
      "2024.589982    0.015081\n",
      "529.504167     0.015081\n",
      "2574.333717    0.015081\n",
      "6114.024403    0.015081\n",
      "Name: var_22, Length: 6488, dtype: float64\n"
     ]
    },
    {
     "data": {
      "text/markdown": [
       "For column **var_23**:"
      ],
      "text/plain": [
       "<IPython.core.display.Markdown object>"
      ]
     },
     "metadata": {},
     "output_type": "display_data"
    },
    {
     "name": "stdout",
     "output_type": "stream",
     "text": [
      "3751.171018     2.096215\n",
      "3983.018990     0.015081\n",
      "4074.283780     0.015081\n",
      "3047.986796     0.015081\n",
      "1051.425397     0.015081\n",
      "                  ...   \n",
      "1135.166530     0.015081\n",
      "3017.088821     0.015081\n",
      "363.071371      0.015081\n",
      "12851.733341    0.015081\n",
      "5871.117201     0.015081\n",
      "Name: var_23, Length: 6493, dtype: float64\n"
     ]
    },
    {
     "data": {
      "text/markdown": [
       "For column **var_24**:"
      ],
      "text/plain": [
       "<IPython.core.display.Markdown object>"
      ]
     },
     "metadata": {},
     "output_type": "display_data"
    },
    {
     "name": "stdout",
     "output_type": "stream",
     "text": [
      "4571.258256     2.081134\n",
      "5672.722393     0.015081\n",
      "2649.063981     0.015081\n",
      "4217.063163     0.015081\n",
      "1827.831907     0.015081\n",
      "                  ...   \n",
      "7213.334178     0.015081\n",
      "3597.073350     0.015081\n",
      "13490.255765    0.015081\n",
      "4804.301846     0.015081\n",
      "7240.216167     0.015081\n",
      "Name: var_24, Length: 6494, dtype: float64\n"
     ]
    },
    {
     "data": {
      "text/markdown": [
       "For column **var_25**:"
      ],
      "text/plain": [
       "<IPython.core.display.Markdown object>"
      ]
     },
     "metadata": {},
     "output_type": "display_data"
    },
    {
     "name": "stdout",
     "output_type": "stream",
     "text": [
      "5443.256338     1.945408\n",
      "7266.727854     0.015081\n",
      "3829.087882     0.015081\n",
      "5397.878757     0.015081\n",
      "1880.215073     0.015081\n",
      "                  ...   \n",
      "713.139953      0.015081\n",
      "5464.432822     0.015081\n",
      "4136.918644     0.015081\n",
      "5863.090802     0.015081\n",
      "10095.324510    0.015081\n",
      "Name: var_25, Length: 6503, dtype: float64\n"
     ]
    },
    {
     "data": {
      "text/markdown": [
       "For column **var_26**:"
      ],
      "text/plain": [
       "<IPython.core.display.Markdown object>"
      ]
     },
     "metadata": {},
     "output_type": "display_data"
    },
    {
     "name": "stdout",
     "output_type": "stream",
     "text": [
      "6388.922336     1.990650\n",
      "10224.977243    0.015081\n",
      "4998.636861     0.015081\n",
      "3517.915962     0.015081\n",
      "7913.277820     0.015081\n",
      "                  ...   \n",
      "5042.062064     0.015081\n",
      "11647.174908    0.015081\n",
      "4504.212651     0.015081\n",
      "18444.238368    0.015081\n",
      "13937.881120    0.015081\n",
      "Name: var_26, Length: 6500, dtype: float64\n"
     ]
    },
    {
     "data": {
      "text/markdown": [
       "For column **var_27**:"
      ],
      "text/plain": [
       "<IPython.core.display.Markdown object>"
      ]
     },
     "metadata": {},
     "output_type": "display_data"
    },
    {
     "name": "stdout",
     "output_type": "stream",
     "text": [
      "7466.224002     2.126376\n",
      "5191.208502     0.015081\n",
      "3810.508922     0.015081\n",
      "15097.759898    0.015081\n",
      "3890.645785     0.015081\n",
      "                  ...   \n",
      "14055.319811    0.015081\n",
      "7453.055676     0.015081\n",
      "5334.671183     0.015081\n",
      "12483.342805    0.015081\n",
      "13043.277299    0.015081\n",
      "Name: var_27, Length: 6491, dtype: float64\n"
     ]
    },
    {
     "data": {
      "text/markdown": [
       "For column **var_28**:"
      ],
      "text/plain": [
       "<IPython.core.display.Markdown object>"
      ]
     },
     "metadata": {},
     "output_type": "display_data"
    },
    {
     "name": "stdout",
     "output_type": "stream",
     "text": [
      "8579.794540     1.885085\n",
      "13049.604142    0.015081\n",
      "8135.226178     0.015081\n",
      "8184.322806     0.015081\n",
      "8340.651911     0.015081\n",
      "                  ...   \n",
      "13673.299228    0.015081\n",
      "12649.408263    0.015081\n",
      "4676.646408     0.015081\n",
      "10371.655487    0.015081\n",
      "18854.222560    0.015081\n",
      "Name: var_28, Length: 6507, dtype: float64\n"
     ]
    },
    {
     "data": {
      "text/markdown": [
       "For column **var_29**:"
      ],
      "text/plain": [
       "<IPython.core.display.Markdown object>"
      ]
     },
     "metadata": {},
     "output_type": "display_data"
    },
    {
     "name": "stdout",
     "output_type": "stream",
     "text": [
      "9785.838628     2.035892\n",
      "11972.559170    0.015081\n",
      "11954.715950    0.015081\n",
      "9824.051198     0.015081\n",
      "9065.518196     0.015081\n",
      "                  ...   \n",
      "12935.513397    0.015081\n",
      "17369.954495    0.015081\n",
      "5316.187079     0.015081\n",
      "10731.586591    0.015081\n",
      "21726.154539    0.015081\n",
      "Name: var_29, Length: 6497, dtype: float64\n"
     ]
    },
    {
     "data": {
      "text/markdown": [
       "For column **var_30**:"
      ],
      "text/plain": [
       "<IPython.core.display.Markdown object>"
      ]
     },
     "metadata": {},
     "output_type": "display_data"
    },
    {
     "name": "stdout",
     "output_type": "stream",
     "text": [
      "11068.392722    2.186699\n",
      "13506.978144    0.015081\n",
      "4160.912224     0.015081\n",
      "13631.840820    0.015081\n",
      "4002.371547     0.015081\n",
      "                  ...   \n",
      "10614.073290    0.015081\n",
      "4875.684221     0.015081\n",
      "21407.833370    0.015081\n",
      "17956.744920    0.015081\n",
      "26458.307207    0.015081\n",
      "Name: var_30, Length: 6487, dtype: float64\n"
     ]
    },
    {
     "data": {
      "text/markdown": [
       "For column **var_31**:"
      ],
      "text/plain": [
       "<IPython.core.display.Markdown object>"
      ]
     },
     "metadata": {},
     "output_type": "display_data"
    },
    {
     "name": "stdout",
     "output_type": "stream",
     "text": [
      "12451.917950    2.186699\n",
      "13216.762683    0.015081\n",
      "21165.321007    0.015081\n",
      "7435.504391     0.015081\n",
      "14935.298288    0.015081\n",
      "                  ...   \n",
      "12956.037868    0.015081\n",
      "9625.500251     0.015081\n",
      "16564.373540    0.015081\n",
      "7834.922446     0.015081\n",
      "24256.165851    0.015081\n",
      "Name: var_31, Length: 6487, dtype: float64\n"
     ]
    },
    {
     "data": {
      "text/markdown": [
       "For column **var_32**:"
      ],
      "text/plain": [
       "<IPython.core.display.Markdown object>"
      ]
     },
     "metadata": {},
     "output_type": "display_data"
    },
    {
     "name": "stdout",
     "output_type": "stream",
     "text": [
      "13847.487586    2.005731\n",
      "13859.206348    0.015081\n",
      "19943.182133    0.015081\n",
      "14747.699193    0.015081\n",
      "12279.265622    0.015081\n",
      "                  ...   \n",
      "7812.988888     0.015081\n",
      "6010.841608     0.015081\n",
      "12913.287084    0.015081\n",
      "4699.181381     0.015081\n",
      "29454.090944    0.015081\n",
      "Name: var_32, Length: 6499, dtype: float64\n"
     ]
    },
    {
     "data": {
      "text/markdown": [
       "For column **var_33**:"
      ],
      "text/plain": [
       "<IPython.core.display.Markdown object>"
      ]
     },
     "metadata": {},
     "output_type": "display_data"
    },
    {
     "name": "stdout",
     "output_type": "stream",
     "text": [
      "15330.769094    1.885085\n",
      "14679.466563    0.015081\n",
      "19146.348515    0.015081\n",
      "9578.548998     0.015081\n",
      "13387.567847    0.015081\n",
      "                  ...   \n",
      "14085.929900    0.015081\n",
      "6826.833082     0.015081\n",
      "39302.637297    0.015081\n",
      "15581.660574    0.015081\n",
      "33741.737369    0.015081\n",
      "Name: var_33, Length: 6507, dtype: float64\n"
     ]
    },
    {
     "data": {
      "text/markdown": [
       "For column **var_34**:"
      ],
      "text/plain": [
       "<IPython.core.display.Markdown object>"
      ]
     },
     "metadata": {},
     "output_type": "display_data"
    },
    {
     "name": "stdout",
     "output_type": "stream",
     "text": [
      "16951.694375    1.975569\n",
      "9940.975915     0.015081\n",
      "9305.343898     0.015081\n",
      "11071.779401    0.015081\n",
      "11568.775688    0.015081\n",
      "                  ...   \n",
      "35862.664709    0.015081\n",
      "9919.073248     0.015081\n",
      "6999.004187     0.015081\n",
      "18614.373543    0.015081\n",
      "37080.827424    0.015081\n",
      "Name: var_34, Length: 6501, dtype: float64\n"
     ]
    },
    {
     "data": {
      "text/markdown": [
       "For column **var_35**:"
      ],
      "text/plain": [
       "<IPython.core.display.Markdown object>"
      ]
     },
     "metadata": {},
     "output_type": "display_data"
    },
    {
     "name": "stdout",
     "output_type": "stream",
     "text": [
      "18658.079824    1.824762\n",
      "9072.502501     0.015081\n",
      "15417.861214    0.015081\n",
      "14628.282576    0.015081\n",
      "11780.831575    0.015081\n",
      "                  ...   \n",
      "14927.227922    0.015081\n",
      "5884.905633     0.015081\n",
      "44924.429144    0.015081\n",
      "25407.961529    0.015081\n",
      "43478.189786    0.015081\n",
      "Name: var_35, Length: 6511, dtype: float64\n"
     ]
    },
    {
     "data": {
      "text/markdown": [
       "For column **var_36**:"
      ],
      "text/plain": [
       "<IPython.core.display.Markdown object>"
      ]
     },
     "metadata": {},
     "output_type": "display_data"
    },
    {
     "name": "stdout",
     "output_type": "stream",
     "text": [
      "20385.900574    1.854924\n",
      "14299.265206    0.015081\n",
      "16785.651753    0.015081\n",
      "19509.346426    0.015081\n",
      "22234.939160    0.015081\n",
      "                  ...   \n",
      "5842.961262     0.015081\n",
      "30001.165990    0.015081\n",
      "18655.815856    0.015081\n",
      "21073.685921    0.015081\n",
      "46567.327389    0.015081\n",
      "Name: var_36, Length: 6509, dtype: float64\n"
     ]
    },
    {
     "data": {
      "text/markdown": [
       "For column **var_37**:"
      ],
      "text/plain": [
       "<IPython.core.display.Markdown object>"
      ]
     },
     "metadata": {},
     "output_type": "display_data"
    },
    {
     "name": "stdout",
     "output_type": "stream",
     "text": [
      "22273.316999    2.096215\n",
      "12920.861540    0.015081\n",
      "17353.724110    0.015081\n",
      "18720.574923    0.015081\n",
      "17293.829874    0.015081\n",
      "                  ...   \n",
      "20892.340969    0.015081\n",
      "52037.529188    0.015081\n",
      "14469.893856    0.015081\n",
      "11131.974945    0.015081\n",
      "47669.727274    0.015081\n",
      "Name: var_37, Length: 6493, dtype: float64\n"
     ]
    },
    {
     "data": {
      "text/markdown": [
       "For column **var_38**:"
      ],
      "text/plain": [
       "<IPython.core.display.Markdown object>"
      ]
     },
     "metadata": {},
     "output_type": "display_data"
    },
    {
     "name": "stdout",
     "output_type": "stream",
     "text": [
      "24236.491341    2.247022\n",
      "18742.551182    0.015081\n",
      "17605.850015    0.015081\n",
      "35878.878114    0.015081\n",
      "17134.236662    0.015081\n",
      "                  ...   \n",
      "9508.242202     0.015081\n",
      "23093.996682    0.015081\n",
      "8824.939666     0.015081\n",
      "34858.592062    0.015081\n",
      "49881.205600    0.015081\n",
      "Name: var_38, Length: 6483, dtype: float64\n"
     ]
    },
    {
     "data": {
      "text/markdown": [
       "For column **branche**:"
      ],
      "text/plain": [
       "<IPython.core.display.Markdown object>"
      ]
     },
     "metadata": {},
     "output_type": "display_data"
    },
    {
     "name": "stdout",
     "output_type": "stream",
     "text": [
      "NORD-EST      17.945963\n",
      "OUTRE-MER     17.899908\n",
      "SUD-EST       17.132330\n",
      "CENTRE        17.055573\n",
      "SUD-OUEST     16.840651\n",
      "NORD-OUEST    13.125576\n",
      "Name: branche, dtype: float64\n"
     ]
    },
    {
     "data": {
      "text/markdown": [
       "For column **churn**:"
      ],
      "text/plain": [
       "<IPython.core.display.Markdown object>"
      ]
     },
     "metadata": {},
     "output_type": "display_data"
    },
    {
     "name": "stdout",
     "output_type": "stream",
     "text": [
      "non    73.654049\n",
      "oui    26.345951\n",
      "Name: churn, dtype: float64\n"
     ]
    }
   ],
   "source": [
    "for col in dataset.columns:\n",
    "    # Get value count for each unique value in the column\n",
    "    value_counts = dataset[col].value_counts(normalize=True)\n",
    "    # Convert the value counts to percentages\n",
    "    value_counts = value_counts * 100\n",
    "    # Print the column name and percentage of each unique value\n",
    "    display(Markdown(f\"For column **{col}**:\"))\n",
    "    print(value_counts)"
   ]
  },
  {
   "cell_type": "markdown",
   "id": "9fa21ac9",
   "metadata": {},
   "source": [
    "Evaluation de la répartition des valeurs: \n",
    "\n",
    "Pour la variable **genre**, il y a une quasi équivalence entre hommes et femmes. \n",
    "\n",
    "Pour la variable **banque_principale**, il y a une différence significative entre le rapport des 2 valeurs. "
   ]
  },
  {
   "cell_type": "code",
   "execution_count": 26,
   "id": "ab3d8a4b",
   "metadata": {},
   "outputs": [],
   "source": [
    "# Création de sous listes: \n",
    "list_A = ['assurance_vie', 'banque_principale', 'compte_epargne', 'compte_titres', 'churn']\n",
    "list_B = ['compte_courant', 'compte_joint', 'PEA', 'assurance_auto', 'assurance_habitation', 'credit_immo']\n",
    "list_C = ['anciennete_mois', 'agios_6mois','age', 'var_0', 'var_1', 'var_2', 'var_3', 'var_4', 'var_5', 'var_6', \n",
    "          'var_7', 'var_8', 'var_9', 'var_10', 'var_11', 'var_12', 'var_13', 'var_14', 'var_15', 'var_16',\n",
    "          'var_17', 'var_18', 'var_19', 'var_20', 'var_21', 'var_22', 'var_23', 'var_24', 'var_25', 'var_26', \n",
    "          'var_27', 'var_28', 'var_29', 'var_30', 'var_31', 'var_32', 'var_33', 'var_34', 'var_35', 'var_36',\n",
    "          'var_37', 'var_38']"
   ]
  },
  {
   "cell_type": "markdown",
   "id": "cab96e4a",
   "metadata": {},
   "source": [
    "## Modification du dataset selon les règles précédentes "
   ]
  },
  {
   "cell_type": "code",
   "execution_count": 27,
   "id": "521fdaaf",
   "metadata": {
    "scrolled": true
   },
   "outputs": [],
   "source": [
    "# Modification des données en valeurs numériques:\n",
    "dataset['genre'] = dataset['genre'].replace({'F': 0, 'H': 1})\n",
    "dataset['type'] = dataset['type'].replace({'pro':0, 'perso':1})\n",
    "dataset['credit_autres'] = dataset['credit_autres'].replace({'permanent':0, 'consommation':1, 'bail':2})\n",
    "dataset['cartes_bancaires'] = dataset['cartes_bancaires'].replace({'medium':0, 'basic':1, 'premium':2})\n",
    "dataset['methode_contact'] = dataset['methode_contact'].replace({'mail':0, 'courrier':1, 'telephone':2, 'sms':3})\n",
    "\n",
    "for col in list_A:\n",
    "    dataset[col] = dataset[col].replace({'oui':0, 'non':1})\n",
    "\n",
    "for col in list_B:\n",
    "    dataset[col].fillna('inconnu', inplace=True)\n",
    "    dataset[col] = dataset[col].replace({'oui': 0, 'non': 1, 'inconnu':-1})\n",
    "\n",
    "# Remplacement des valeurs manquantes par une valeur choisi aléatoirement en respectant la répartition. \n",
    "# Genre => repartition 50/50. \n",
    "dataset['genre'].fillna(random.choice([0, 1]), inplace=True)\n",
    "# Espace client web => repartition 0: 83%, 1: 17%.\n",
    "dataset['espace_client_web'] = dataset['espace_client_web'].apply(lambda x: np.random.choice([0,1], p=[0.83,0.17]) if pd.isna(x) else x)\n",
    "# Assurance vie => repartition oui: 48%, non: 52%.\n",
    "dataset['assurance_vie'] = dataset['assurance_vie'].apply(lambda x: np.random.choice([0,1], p=[0.48,0.52]) if pd.isna(x) else x)\n",
    "# Banque principal => repartition non: 70%, oui: 30%.\n",
    "dataset['banque_principale'] = dataset['banque_principale'].apply(lambda x: np.random.choice([0,1], p=[0.73,0.27]) if pd.isna(x) else x)\n",
    "# Compte_epargne => repartition oui: 90%, non: 10%.\n",
    "dataset['compte_epargne'] = dataset['compte_epargne'].apply(lambda x: np.random.choice([0,1], p=[0.9,0.1]) if pd.isna(x) else x)\n",
    "# Compte_titres => repartition oui: 60%, non: 40%.\n",
    "dataset['compte_titres'] = dataset['compte_titres'].apply(lambda x: np.random.choice([0,1], p=[0.6,0.4]) if pd.isna(x) else x)\n",
    "# Type => repartition pro: 73%, perso: 27%.\n",
    "dataset['type'] = dataset['type'].apply(lambda x: np.random.choice([0,1], p=[0.73,0.27]) if pd.isna(x) else x)\n",
    "\n",
    "# Credit_autres => repartition perma: 48%, conso: 42%, bail: 10%.\n",
    "dataset['credit_autres'] = dataset['credit_autres'].apply(lambda x: np.random.choice([0,1,2], p=[0.48,0.42,0.10]) if pd.isna(x) else x)\n",
    "# Cartes_bancaires => repartition medium: 44%, basic: 34%, premium: 22%\n",
    "dataset['cartes_bancaires'] = dataset['cartes_bancaires'].apply(lambda x: np.random.choice([0,1,2], p=[0.48,0.42,0.10]) if pd.isna(x) else x)\n",
    "# methode_contact => repartition mail: 34%, courrier: 23%, telephone: 22%, sms: 21%\n",
    "dataset['methode_contact'] = dataset['methode_contact'].apply(lambda x: np.random.choice([0,1,2,3], p=[0.34,0.23,0.22,0.21]) if pd.isna(x) else x)\n",
    "\n",
    "# Pour les données numériques, il suffit de remplacer les valeurs manquantes par la moyenne.\n",
    "for i in list_C:\n",
    "    mean = dataset[i].mean()\n",
    "    dataset[i].fillna(mean, inplace=True)"
   ]
  },
  {
   "cell_type": "code",
   "execution_count": 28,
   "id": "63fc0361",
   "metadata": {},
   "outputs": [],
   "source": [
    "# Traitement de la colonne interet_compte_epargne_total\n",
    "dataset['interet_compte_epargne_total'] = pd.to_numeric(dataset['interet_compte_epargne_total'], errors='coerce')\n",
    "mean = dataset['interet_compte_epargne_total'].mean()\n",
    "dataset['interet_compte_epargne_total'].fillna(mean, inplace=True)"
   ]
  },
  {
   "cell_type": "code",
   "execution_count": 29,
   "id": "be737305",
   "metadata": {},
   "outputs": [],
   "source": [
    "# Traitement de la colonne segement_client \n",
    "# Traitement de la colonne branche \n",
    "dataset = pd.get_dummies(dataset, columns=['segment_client'])\n",
    "dataset = pd.get_dummies(dataset, columns=['branche'])\n",
    "\n",
    "# Démarche hot one pour ces variables de catégorielles."
   ]
  },
  {
   "cell_type": "code",
   "execution_count": 30,
   "id": "2111719b",
   "metadata": {},
   "outputs": [],
   "source": [
    "dataset.to_csv('CleanDatasheet.csv', index=True)"
   ]
  },
  {
   "cell_type": "markdown",
   "id": "2946edf0",
   "metadata": {
    "scrolled": true
   },
   "source": [
    "## Visualisation des données "
   ]
  },
  {
   "cell_type": "code",
   "execution_count": 31,
   "id": "6c4603d7",
   "metadata": {},
   "outputs": [],
   "source": [
    "# A partir d'ici, il n'y a pas de valeurs manquantes\n",
    "\n",
    "# Il est possible de visualiser quelques données. \n",
    "\n"
   ]
  },
  {
   "cell_type": "code",
   "execution_count": 32,
   "id": "b4f01c79",
   "metadata": {},
   "outputs": [
    {
     "data": {
      "image/png": "[encoded data removed]",
      "text/plain": [
       "<Figure size 1500x1200 with 14 Axes>"
      ]
     },
     "metadata": {},
     "output_type": "display_data"
    }
   ],
   "source": [
    "dataset2 = dataset[['genre','espace_client_web', 'assurance_vie', 'banque_principale', 'compte_epargne', \n",
    "                    'credit_autres', 'cartes_bancaires', 'compte_courant','compte_joint', 'assurance_auto', \n",
    "                    'assurance_habitation', 'credit_immo', 'type', 'compte_titres']]\n",
    "\n",
    "#Histogram:\n",
    "    \n",
    "fig = plt.figure(figsize=(15, 12))\n",
    "plt.suptitle('Histograms of Numerical Columns\\n',horizontalalignment=\"center\",fontstyle = \"normal\", fontsize = 24, fontfamily = \"sans-serif\")\n",
    "for i in range(dataset2.shape[1]):\n",
    "    plt.subplot(6, 3, i + 1)\n",
    "    f = plt.gca()\n",
    "    f.set_title(dataset2.columns.values[i])\n",
    "    vals = np.size(dataset2.iloc[:, i].unique())\n",
    "    if vals >= 100:\n",
    "        vals = 100\n",
    "    \n",
    "plt.hist(dataset2.iloc[:, i], bins=vals, color = '#ec838a')\n",
    "plt.tight_layout(rect=[0, 0.03, 1, 0.95])"
   ]
  },
  {
   "cell_type": "code",
   "execution_count": 56,
   "id": "bef49a2e",
   "metadata": {},
   "outputs": [
    {
     "data": {
      "image/png": "[encoded data removed]",
      "text/plain": [
       "<Figure size 1200x700 with 1 Axes>"
      ]
     },
     "metadata": {},
     "output_type": "display_data"
    }
   ],
   "source": [
    "contract_split = dataset[[ \"credit_autres\", \"cartes_bancaires\"]]\n",
    "sectors = contract_split .groupby (\"cartes_bancaires\")\n",
    "contract_split = pd.DataFrame(sectors[\"credit_autres\"].count())\n",
    "contract_split.rename(columns={'credit_autres':'No. of customers'}, inplace=True)\n",
    "ax =  contract_split[[\"No. of customers\"]].plot.bar(title = 'Customers by Contract Type',legend =True, table = False, \n",
    "grid = False,  subplots = False,figsize =(12, 7), color ='#ec838a', \n",
    "fontsize = 15, stacked=False)\n",
    "plt.ylabel('No. of Customers\\n',\n",
    "horizontalalignment=\"center\",fontstyle = \"normal\", \n",
    "fontsize = \"large\", fontfamily = \"sans-serif\")\n",
    "plt.xlabel('\\n Contract Type',\n",
    "horizontalalignment=\"center\",fontstyle = \"normal\", \n",
    "fontsize = \"large\", fontfamily = \"sans-serif\")\n",
    "plt.title('Customers by Contract Type \\n',\n",
    "horizontalalignment=\"center\",fontstyle = \"normal\", \n",
    "fontsize = \"22\", fontfamily = \"sans-serif\")\n",
    "plt.legend(loc='upper right', fontsize = \"medium\")\n",
    "plt.xticks(rotation=0, horizontalalignment=\"center\")\n",
    "plt.yticks(rotation=0, horizontalalignment=\"right\")\n",
    "x_labels = np.array(contract_split[[\"No. of customers\"]])\n",
    "def add_value_labels(ax, spacing=5):   \n",
    "    for rect in ax.patches:      \n",
    "        y_value = rect.get_height()\n",
    "        x_value = rect.get_x() + rect.get_width() / 2       \n",
    "        space = spacing        \n",
    "        va = 'bottom'      \n",
    "        if y_value < 0:           \n",
    "            space *= -1            \n",
    "            va = 'top'       \n",
    "        label = \"{:.0f}\".format(y_value)      \n",
    "        ax.annotate(\n",
    "            label,                      \n",
    "            (x_value, y_value),         \n",
    "            xytext=(0, space),          \n",
    "            textcoords=\"offset points\", \n",
    "            ha='center',                \n",
    "            va=va)  \n",
    "        \n",
    "add_value_labels(ax)"
   ]
  },
  {
   "cell_type": "code",
   "execution_count": 57,
   "id": "7533a0f4",
   "metadata": {},
   "outputs": [
    {
     "data": {
      "text/plain": [
       "Text(0.5, 1.0, 'Correlation with Churn Rate \\n')"
      ]
     },
     "execution_count": 57,
     "metadata": {},
     "output_type": "execute_result"
    },
    {
     "data": {
      "image/png": "[encoded data removed]",
      "text/plain": [
       "<Figure size 1800x1000 with 1 Axes>"
      ]
     },
     "metadata": {},
     "output_type": "display_data"
    }
   ],
   "source": [
    "correlations = dataset2.corrwith(dataset.churn)\n",
    "correlations = correlations[correlations!=1]\n",
    "correlations.plot.bar(\n",
    "        figsize = (18, 10), \n",
    "        fontsize = 15, \n",
    "        color = '#ec838a',\n",
    "        rot = 45, grid = True)\n",
    "plt.title('Correlation with Churn Rate \\n',\n",
    "horizontalalignment=\"center\", fontstyle = \"normal\", \n",
    "fontsize = \"22\", fontfamily = \"sans-serif\")"
   ]
  },
  {
   "cell_type": "code",
   "execution_count": 35,
   "id": "73af747d",
   "metadata": {},
   "outputs": [
    {
     "name": "stderr",
     "output_type": "stream",
     "text": [
      "/var/folders/t6/t5h5090d6mb3hs8y3fgw7s8c0000gn/T/ipykernel_1558/1681834318.py:5: DeprecationWarning: `np.bool` is a deprecated alias for the builtin `bool`. To silence this warning, use `bool` by itself. Doing this will not modify any behavior and is safe. If you specifically wanted the numpy scalar type, use `np.bool_` here.\n",
      "Deprecated in NumPy 1.20; for more details and guidance: https://numpy.org/devdocs/release/1.20.0-notes.html#deprecations\n",
      "  mask = np.zeros_like(corr, dtype=np.bool)\n"
     ]
    },
    {
     "data": {
      "text/plain": [
       "<AxesSubplot:>"
      ]
     },
     "execution_count": 35,
     "metadata": {},
     "output_type": "execute_result"
    },
    {
     "data": {
      "image/png": "[encoded data removed]",
      "text/plain": [
       "<Figure size 1800x1500 with 2 Axes>"
      ]
     },
     "metadata": {},
     "output_type": "display_data"
    }
   ],
   "source": [
    "#Set and compute the Correlation Matrix:\n",
    "sn.set(style=\"white\")\n",
    "corr = dataset2.corr()\n",
    "#Generate a mask for the upper triangle:\n",
    "mask = np.zeros_like(corr, dtype=np.bool)\n",
    "mask[np.triu_indices_from(mask)] = True\n",
    "#Set up the matplotlib figure and a diverging colormap:\n",
    "f, ax = plt.subplots(figsize=(18, 15))\n",
    "cmap = sn.diverging_palette(220, 10, as_cmap=True)\n",
    "#Draw the heatmap with the mask and correct aspect ratio:\n",
    "sn.heatmap(corr, mask=mask, cmap=cmap, vmax=.3, center=0,\n",
    "square=True, linewidths=.5, cbar_kws={\"shrink\": .5})"
   ]
  },
  {
   "cell_type": "code",
   "execution_count": 36,
   "id": "955e67cc",
   "metadata": {},
   "outputs": [
    {
     "data": {
      "text/html": [
       "<div>\n",
       "<style scoped>\n",
       "    .dataframe tbody tr th:only-of-type {\n",
       "        vertical-align: middle;\n",
       "    }\n",
       "\n",
       "    .dataframe tbody tr th {\n",
       "        vertical-align: top;\n",
       "    }\n",
       "\n",
       "    .dataframe thead th {\n",
       "        text-align: right;\n",
       "    }\n",
       "</style>\n",
       "<table border=\"1\" class=\"dataframe\">\n",
       "  <thead>\n",
       "    <tr style=\"text-align: right;\">\n",
       "      <th></th>\n",
       "      <th>variables</th>\n",
       "      <th>VIF</th>\n",
       "    </tr>\n",
       "  </thead>\n",
       "  <tbody>\n",
       "    <tr>\n",
       "      <th>0</th>\n",
       "      <td>genre</td>\n",
       "      <td>1.835826</td>\n",
       "    </tr>\n",
       "    <tr>\n",
       "      <th>1</th>\n",
       "      <td>espace_client_web</td>\n",
       "      <td>1.327036</td>\n",
       "    </tr>\n",
       "    <tr>\n",
       "      <th>2</th>\n",
       "      <td>assurance_vie</td>\n",
       "      <td>2.656608</td>\n",
       "    </tr>\n",
       "    <tr>\n",
       "      <th>3</th>\n",
       "      <td>banque_principale</td>\n",
       "      <td>3.869035</td>\n",
       "    </tr>\n",
       "    <tr>\n",
       "      <th>4</th>\n",
       "      <td>compte_epargne</td>\n",
       "      <td>2.080215</td>\n",
       "    </tr>\n",
       "    <tr>\n",
       "      <th>5</th>\n",
       "      <td>credit_autres</td>\n",
       "      <td>3.120070</td>\n",
       "    </tr>\n",
       "    <tr>\n",
       "      <th>6</th>\n",
       "      <td>cartes_bancaires</td>\n",
       "      <td>3.845650</td>\n",
       "    </tr>\n",
       "    <tr>\n",
       "      <th>7</th>\n",
       "      <td>compte_courant</td>\n",
       "      <td>3.191689</td>\n",
       "    </tr>\n",
       "    <tr>\n",
       "      <th>8</th>\n",
       "      <td>compte_joint</td>\n",
       "      <td>2.845898</td>\n",
       "    </tr>\n",
       "    <tr>\n",
       "      <th>9</th>\n",
       "      <td>assurance_auto</td>\n",
       "      <td>3.425339</td>\n",
       "    </tr>\n",
       "    <tr>\n",
       "      <th>10</th>\n",
       "      <td>assurance_habitation</td>\n",
       "      <td>3.008054</td>\n",
       "    </tr>\n",
       "    <tr>\n",
       "      <th>11</th>\n",
       "      <td>credit_immo</td>\n",
       "      <td>2.996433</td>\n",
       "    </tr>\n",
       "    <tr>\n",
       "      <th>12</th>\n",
       "      <td>type</td>\n",
       "      <td>1.365047</td>\n",
       "    </tr>\n",
       "    <tr>\n",
       "      <th>13</th>\n",
       "      <td>compte_titres</td>\n",
       "      <td>1.905542</td>\n",
       "    </tr>\n",
       "  </tbody>\n",
       "</table>\n",
       "</div>"
      ],
      "text/plain": [
       "               variables       VIF\n",
       "0                  genre  1.835826\n",
       "1      espace_client_web  1.327036\n",
       "2          assurance_vie  2.656608\n",
       "3      banque_principale  3.869035\n",
       "4         compte_epargne  2.080215\n",
       "5          credit_autres  3.120070\n",
       "6       cartes_bancaires  3.845650\n",
       "7         compte_courant  3.191689\n",
       "8           compte_joint  2.845898\n",
       "9         assurance_auto  3.425339\n",
       "10  assurance_habitation  3.008054\n",
       "11           credit_immo  2.996433\n",
       "12                  type  1.365047\n",
       "13         compte_titres  1.905542"
      ]
     },
     "execution_count": 36,
     "metadata": {},
     "output_type": "execute_result"
    }
   ],
   "source": [
    "def calc_vif(X):\n",
    "# Calculating VIF\n",
    "    vif = pd.DataFrame()\n",
    "    vif[\"variables\"] = X.columns\n",
    "    vif[\"VIF\"] = [variance_inflation_factor(X.values, i) \n",
    "    for i in range(X.shape[1])]\n",
    "    return(vif)\n",
    "\n",
    "dataset2 = dataset[['genre','espace_client_web', 'assurance_vie', 'banque_principale', 'compte_epargne', 'credit_autres', 'cartes_bancaires', 'compte_courant','compte_joint', 'assurance_auto', 'assurance_habitation', 'credit_immo', 'type', 'compte_titres']]\n",
    "calc_vif(dataset2)"
   ]
  },
  {
   "cell_type": "code",
   "execution_count": null,
   "id": "fff113c7",
   "metadata": {},
   "outputs": [],
   "source": []
  },
  {
   "cell_type": "code",
   "execution_count": 37,
   "id": "6da036c8",
   "metadata": {},
   "outputs": [],
   "source": [
    "# Préparation des données \n",
    "\n",
    "Y = dataset[\"churn\"]\n",
    "X = dataset.drop(columns=\"churn\")"
   ]
  },
  {
   "cell_type": "code",
   "execution_count": 38,
   "id": "fe9f05a1",
   "metadata": {},
   "outputs": [
    {
     "name": "stdout",
     "output_type": "stream",
     "text": [
      "Number transactions X_train dataset:  (5304, 80)\n",
      "Number transactions y_train dataset:  (5304,)\n",
      "Number transactions X_test dataset:  (1327, 80)\n",
      "Number transactions y_test dataset:  (1327,)\n"
     ]
    }
   ],
   "source": [
    "# Split the data into train and test sets.\n",
    "\n",
    "X_train, X_test, y_train, y_test = train_test_split(X, Y,stratify=Y, test_size = 0.2)\n",
    "#use 0.9 if data is huge.random_state = 0)\n",
    "#to resolve any class imbalance - use stratify parameter.\n",
    "print(\"Number transactions X_train dataset: \", X_train.shape)\n",
    "print(\"Number transactions y_train dataset: \", y_train.shape)\n",
    "print(\"Number transactions X_test dataset: \", X_test.shape)\n",
    "print(\"Number transactions y_test dataset: \", y_test.shape)"
   ]
  },
  {
   "cell_type": "code",
   "execution_count": 39,
   "id": "f3f926e8",
   "metadata": {},
   "outputs": [],
   "source": [
    "sc_X = StandardScaler()\n",
    "X_train2 = pd.DataFrame(sc_X.fit_transform(X_train))\n",
    "X_train2.columns = X_train.columns.values\n",
    "X_train2.index = X_train.index.values\n",
    "X_train = X_train2\n",
    "X_test2 = pd.DataFrame(sc_X.transform(X_test))\n",
    "X_test2.columns = X_test.columns.values\n",
    "X_test2.index = X_test.index.values\n",
    "X_test = X_test2"
   ]
  },
  {
   "cell_type": "code",
   "execution_count": 40,
   "id": "856b61a8",
   "metadata": {},
   "outputs": [
    {
     "data": {
      "text/html": [
       "<div>\n",
       "<style scoped>\n",
       "    .dataframe tbody tr th:only-of-type {\n",
       "        vertical-align: middle;\n",
       "    }\n",
       "\n",
       "    .dataframe tbody tr th {\n",
       "        vertical-align: top;\n",
       "    }\n",
       "\n",
       "    .dataframe thead th {\n",
       "        text-align: right;\n",
       "    }\n",
       "</style>\n",
       "<table border=\"1\" class=\"dataframe\">\n",
       "  <thead>\n",
       "    <tr style=\"text-align: right;\">\n",
       "      <th></th>\n",
       "      <th>Algorithm</th>\n",
       "      <th>ROC AUC Mean</th>\n",
       "      <th>ROC AUC STD</th>\n",
       "      <th>Accuracy Mean</th>\n",
       "      <th>Accuracy STD</th>\n",
       "    </tr>\n",
       "  </thead>\n",
       "  <tbody>\n",
       "    <tr>\n",
       "      <th>0</th>\n",
       "      <td>Logistic Regression</td>\n",
       "      <td>93.16</td>\n",
       "      <td>1.01</td>\n",
       "      <td>85.26</td>\n",
       "      <td>1.27</td>\n",
       "    </tr>\n",
       "    <tr>\n",
       "      <th>1</th>\n",
       "      <td>SVC</td>\n",
       "      <td>92.91</td>\n",
       "      <td>1.02</td>\n",
       "      <td>87.54</td>\n",
       "      <td>1.00</td>\n",
       "    </tr>\n",
       "    <tr>\n",
       "      <th>2</th>\n",
       "      <td>Kernel SVM</td>\n",
       "      <td>91.98</td>\n",
       "      <td>1.45</td>\n",
       "      <td>87.88</td>\n",
       "      <td>1.03</td>\n",
       "    </tr>\n",
       "    <tr>\n",
       "      <th>6</th>\n",
       "      <td>Random Forest</td>\n",
       "      <td>90.45</td>\n",
       "      <td>1.64</td>\n",
       "      <td>84.67</td>\n",
       "      <td>1.56</td>\n",
       "    </tr>\n",
       "    <tr>\n",
       "      <th>3</th>\n",
       "      <td>KNN</td>\n",
       "      <td>85.28</td>\n",
       "      <td>1.87</td>\n",
       "      <td>83.94</td>\n",
       "      <td>1.04</td>\n",
       "    </tr>\n",
       "    <tr>\n",
       "      <th>5</th>\n",
       "      <td>Decision Tree Classifier</td>\n",
       "      <td>70.57</td>\n",
       "      <td>1.97</td>\n",
       "      <td>77.75</td>\n",
       "      <td>1.58</td>\n",
       "    </tr>\n",
       "    <tr>\n",
       "      <th>4</th>\n",
       "      <td>Gaussian NB</td>\n",
       "      <td>69.57</td>\n",
       "      <td>2.28</td>\n",
       "      <td>83.99</td>\n",
       "      <td>1.41</td>\n",
       "    </tr>\n",
       "  </tbody>\n",
       "</table>\n",
       "</div>"
      ],
      "text/plain": [
       "                  Algorithm  ROC AUC Mean  ROC AUC STD  Accuracy Mean  \\\n",
       "0       Logistic Regression         93.16         1.01          85.26   \n",
       "1                       SVC         92.91         1.02          87.54   \n",
       "2                Kernel SVM         91.98         1.45          87.88   \n",
       "6             Random Forest         90.45         1.64          84.67   \n",
       "3                       KNN         85.28         1.87          83.94   \n",
       "5  Decision Tree Classifier         70.57         1.97          77.75   \n",
       "4               Gaussian NB         69.57         2.28          83.99   \n",
       "\n",
       "   Accuracy STD  \n",
       "0          1.27  \n",
       "1          1.00  \n",
       "2          1.03  \n",
       "6          1.56  \n",
       "3          1.04  \n",
       "5          1.58  \n",
       "4          1.41  "
      ]
     },
     "execution_count": 40,
     "metadata": {},
     "output_type": "execute_result"
    }
   ],
   "source": [
    "models = []\n",
    "models.append(('Logistic Regression', LogisticRegression(solver='liblinear', random_state = 0, class_weight='balanced')))\n",
    "models.append(('SVC', SVC(kernel = 'linear', random_state = 0)))\n",
    "models.append(('Kernel SVM', SVC(kernel = 'rbf', random_state = 0)))\n",
    "models.append(('KNN', KNeighborsClassifier(n_neighbors = 5, metric = 'minkowski', p = 2)))\n",
    "models.append(('Gaussian NB', GaussianNB()))\n",
    "models.append(('Decision Tree Classifier', DecisionTreeClassifier(criterion = 'entropy', random_state = 0)))\n",
    "models.append(('Random Forest', RandomForestClassifier(n_estimators=100, criterion = 'entropy', random_state = 0)))\n",
    "#Evaluating Model Results:\n",
    "acc_results = []\n",
    "auc_results = []\n",
    "names = []\n",
    "# set table to table to populate with performance results\n",
    "col = ['Algorithm', 'ROC AUC Mean', 'ROC AUC STD', 'Accuracy Mean', 'Accuracy STD']\n",
    "model_results = pd.DataFrame(columns=col)\n",
    "i = 0\n",
    "# Evaluate each model using k-fold cross-validation:\n",
    "for name, model in models:\n",
    "    kfold = model_selection.KFold(n_splits=10, random_state=None)\n",
    "    # accuracy scoring:\n",
    "    cv_acc_results = model_selection.cross_val_score(model, X_train, y_train, cv=kfold, scoring='accuracy')\n",
    "    # roc_auc scoring:\n",
    "    cv_auc_results = model_selection.cross_val_score(model, X_train, y_train, cv=kfold, scoring='roc_auc')\n",
    "    acc_results.append(cv_acc_results)\n",
    "    auc_results.append(cv_auc_results)\n",
    "    names.append(name)\n",
    "    model_results.loc[i] = [name,round(cv_auc_results.mean()*100, 2),round(cv_auc_results.std()*100, 2),round(cv_acc_results.mean()*100, 2),round(cv_acc_results.std()*100, 2)]\n",
    "    i += 1\n",
    "    \n",
    "model_results.sort_values(by=['ROC AUC Mean'], ascending=False)"
   ]
  },
  {
   "cell_type": "code",
   "execution_count": 78,
   "id": "1c1e830a",
   "metadata": {},
   "outputs": [],
   "source": [
    "# Visualisation"
   ]
  },
  {
   "cell_type": "code",
   "execution_count": 42,
   "id": "9a613f0c",
   "metadata": {},
   "outputs": [
    {
     "name": "stderr",
     "output_type": "stream",
     "text": [
      "No artists with labels found to put in legend.  Note that artists whose label start with an underscore are ignored when legend() is called with no argument.\n"
     ]
    },
    {
     "data": {
      "image/png": "[encoded data removed]",
      "text/plain": [
       "<Figure size 1500x700 with 1 Axes>"
      ]
     },
     "metadata": {},
     "output_type": "display_data"
    }
   ],
   "source": [
    "fig = plt.figure(figsize=(15, 7))\n",
    "ax = fig.add_subplot(111)\n",
    "plt.boxplot(acc_results)\n",
    "ax.set_xticklabels(names)\n",
    "plt.ylabel('ROC AUC Score\\n',\n",
    "horizontalalignment=\"center\",fontstyle = \"normal\", \n",
    "fontsize = \"large\", fontfamily = \"sans-serif\")\n",
    "plt.xlabel('\\n Baseline Classification Algorithms\\n',\n",
    "horizontalalignment=\"center\",fontstyle = \"normal\", \n",
    "fontsize = \"large\", fontfamily = \"sans-serif\")\n",
    "plt.title('Accuracy Score Comparison \\n',\n",
    "horizontalalignment=\"center\", fontstyle = \"normal\", \n",
    "fontsize = \"22\", fontfamily = \"sans-serif\")\n",
    "plt.legend(loc='upper right', fontsize = \"medium\")\n",
    "plt.xticks(rotation=0, horizontalalignment=\"center\")\n",
    "plt.yticks(rotation=0, horizontalalignment=\"right\")\n",
    "plt.show()"
   ]
  },
  {
   "cell_type": "code",
   "execution_count": 43,
   "id": "b1a667c0",
   "metadata": {},
   "outputs": [
    {
     "name": "stderr",
     "output_type": "stream",
     "text": [
      "No artists with labels found to put in legend.  Note that artists whose label start with an underscore are ignored when legend() is called with no argument.\n"
     ]
    },
    {
     "data": {
      "image/png": "[encoded data removed]",
      "text/plain": [
       "<Figure size 1500x700 with 1 Axes>"
      ]
     },
     "metadata": {},
     "output_type": "display_data"
    }
   ],
   "source": [
    "fig = plt.figure(figsize=(15, 7))\n",
    "ax = fig.add_subplot(111)\n",
    "plt.boxplot(auc_results)\n",
    "ax.set_xticklabels(names)\n",
    "plt.ylabel('ROC AUC Score\\n',\n",
    "horizontalalignment=\"center\",fontstyle = \"normal\",\n",
    "fontsize = \"large\", fontfamily = \"sans-serif\")\n",
    "plt.xlabel('\\n Baseline Classification Algorithms\\n',\n",
    "horizontalalignment=\"center\",fontstyle = \"normal\", \n",
    "fontsize = \"large\", fontfamily = \"sans-serif\")\n",
    "plt.title('ROC AUC Comparison \\n',horizontalalignment=\"center\", fontstyle = \"normal\", fontsize = \"22\", \n",
    "fontfamily = \"sans-serif\")\n",
    "plt.legend(loc='upper right', fontsize = \"medium\")\n",
    "plt.xticks(rotation=0, horizontalalignment=\"center\")\n",
    "plt.yticks(rotation=0, horizontalalignment=\"right\")\n",
    "plt.show()"
   ]
  },
  {
   "cell_type": "code",
   "execution_count": 58,
   "id": "d3300279",
   "metadata": {},
   "outputs": [
    {
     "name": "stderr",
     "output_type": "stream",
     "text": [
      "No artists with labels found to put in legend.  Note that artists whose label start with an underscore are ignored when legend() is called with no argument.\n"
     ]
    },
    {
     "data": {
      "image/png": "[encoded data removed]",
      "text/plain": [
       "<Figure size 1500x700 with 1 Axes>"
      ]
     },
     "metadata": {},
     "output_type": "display_data"
    }
   ],
   "source": [
    "score_array = []\n",
    "for each in range(1,25):\n",
    "    knn_loop = KNeighborsClassifier(n_neighbors = each) \n",
    "    # set K neighbor as 3\n",
    "    knn_loop.fit(X_train,y_train)\n",
    "    score_array.append(knn_loop.score(X_test,y_test))\n",
    "fig = plt.figure(figsize=(15, 7))\n",
    "plt.plot(range(1,25),score_array, color = '#ec838a')\n",
    "plt.ylabel('Range\\n',horizontalalignment=\"center\",\n",
    "fontstyle = \"normal\", fontsize = \"large\", \n",
    "fontfamily = \"sans-serif\")\n",
    "plt.xlabel('Score\\n',horizontalalignment=\"center\",\n",
    "fontstyle = \"normal\", fontsize = \"large\", \n",
    "fontfamily = \"sans-serif\")\n",
    "plt.title('Optimal Number of K Neighbors \\n',\n",
    "horizontalalignment=\"center\", fontstyle = \"normal\",\n",
    " fontsize = \"22\", fontfamily = \"sans-serif\")\n",
    "plt.legend(loc='upper right', fontsize = \"medium\")\n",
    "plt.xticks(rotation=0, horizontalalignment=\"center\")\n",
    "plt.yticks(rotation=0, horizontalalignment=\"right\")\n",
    "plt.show()"
   ]
  },
  {
   "cell_type": "code",
   "execution_count": 59,
   "id": "5dd5a555",
   "metadata": {},
   "outputs": [
    {
     "data": {
      "image/png": "[encoded data removed]",
      "text/plain": [
       "<Figure size 1500x700 with 1 Axes>"
      ]
     },
     "metadata": {},
     "output_type": "display_data"
    }
   ],
   "source": [
    "score_array = []\n",
    "for each in range(1,100):\n",
    "    rf_loop = RandomForestClassifier(\n",
    "n_estimators = each, random_state = 1) \n",
    "    rf_loop.fit(X_train,y_train)\n",
    "    score_array.append(rf_loop.score(X_test,y_test))\n",
    " \n",
    "fig = plt.figure(figsize=(15, 7))\n",
    "plt.plot(range(1,100),score_array, color = '#ec838a')\n",
    "plt.ylabel('Range\\n',horizontalalignment=\"center\",\n",
    "fontstyle = \"normal\", fontsize = \"large\", \n",
    "fontfamily = \"sans-serif\")\n",
    "plt.xlabel('Score\\n',horizontalalignment=\"center\",\n",
    "fontstyle = \"normal\", fontsize = \"large\", \n",
    "fontfamily = \"sans-serif\")\n",
    "plt.title('Optimal Number of Trees for Random Forest Model \\n',horizontalalignment=\"center\", fontstyle = \"normal\", fontsize = \"22\", fontfamily = \"sans-serif\")\n",
    "#plt.legend(loc='top right', fontsize = \"medium\")\n",
    "plt.xticks(rotation=0, horizontalalignment=\"center\")\n",
    "plt.yticks(rotation=0, horizontalalignment=\"right\")\n",
    "plt.show()"
   ]
  },
  {
   "cell_type": "code",
   "execution_count": 60,
   "id": "c78d9dc5",
   "metadata": {},
   "outputs": [
    {
     "name": "stdout",
     "output_type": "stream",
     "text": [
      "                 Model  Accuracy  Precision    Recall  F1 Score  F2 Score\n",
      "0  Logistic Regression  0.886963   0.902629  0.948823   0.92515   0.93921\n"
     ]
    }
   ],
   "source": [
    "# Fitting Logistic Regression to the Training set\n",
    "classifier = LogisticRegression(random_state = 0)\n",
    "classifier.fit(X_train, y_train)\n",
    "# Predicting the Test set results\n",
    "y_pred = classifier.predict(X_test)\n",
    "# Evaluate results\n",
    "acc = accuracy_score(y_test, y_pred )\n",
    "prec = precision_score(y_test, y_pred )\n",
    "rec = recall_score(y_test, y_pred )\n",
    "f1 = f1_score(y_test, y_pred )\n",
    "f2 = fbeta_score(y_test, y_pred, beta=2.0)\n",
    "results = pd.DataFrame([['Logistic Regression', acc, prec, rec, f1, f2]], \n",
    "    columns = ['Model', 'Accuracy', 'Precision', 'Recall', 'F1 Score', 'F2 Score'])\n",
    "results = results.sort_values([\"Precision\", \"Recall\", \"F2 Score\"], \n",
    "    ascending = False)\n",
    "print (results)"
   ]
  },
  {
   "cell_type": "code",
   "execution_count": 61,
   "id": "ae538012",
   "metadata": {},
   "outputs": [
    {
     "name": "stdout",
     "output_type": "stream",
     "text": [
      "                 Model  Accuracy  Precision    Recall  F1 Score  F2 Score\n",
      "0  Logistic Regression  0.886963   0.902629  0.948823   0.92515   0.93921\n",
      "1         SVM (Linear)  0.886963   0.902629  0.948823   0.92515   0.93921\n"
     ]
    },
    {
     "name": "stderr",
     "output_type": "stream",
     "text": [
      "/var/folders/t6/t5h5090d6mb3hs8y3fgw7s8c0000gn/T/ipykernel_1558/3136711108.py:13: FutureWarning: The frame.append method is deprecated and will be removed from pandas in a future version. Use pandas.concat instead.\n",
      "  results = results.append(model_results, ignore_index = True)\n"
     ]
    }
   ],
   "source": [
    "# Fitting SVM (SVC class) to the Training set\n",
    "classifier = SVC(kernel = 'linear', random_state = 0)\n",
    "classifier.fit(X_train, y_train)\n",
    "# Predicting the Test set results y_pred = classifier.predict(X_test)\n",
    "# Evaluate results\n",
    "acc = accuracy_score(y_test, y_pred )\n",
    "prec = precision_score(y_test, y_pred )\n",
    "rec = recall_score(y_test, y_pred)\n",
    "f1 = f1_score(y_test, y_pred )\n",
    "f2 = fbeta_score(y_test, y_pred, beta=2.0)\n",
    "model_results = pd.DataFrame([['SVM (Linear)', acc, prec, rec, f1, f2]],\n",
    "    columns = ['Model', 'Accuracy', 'Precision', 'Recall', 'F1 Score', 'F2 Score'])\n",
    "results = results.append(model_results, ignore_index = True)\n",
    "results = results.sort_values([\"Precision\", \"Recall\", \"F2 Score\"], \n",
    "    ascending = False)\n",
    "print (results)"
   ]
  },
  {
   "cell_type": "code",
   "execution_count": 62,
   "id": "c0a16d3d",
   "metadata": {},
   "outputs": [
    {
     "name": "stdout",
     "output_type": "stream",
     "text": [
      "                  Model  Accuracy  Precision    Recall  F1 Score  F2 Score\n",
      "0   Logistic Regression  0.886963   0.902629  0.948823   0.92515  0.939210\n",
      "1          SVM (Linear)  0.886963   0.902629  0.948823   0.92515  0.939210\n",
      "2  K-Nearest Neighbours  0.855313   0.866480  0.949846   0.90625  0.931914\n"
     ]
    },
    {
     "name": "stderr",
     "output_type": "stream",
     "text": [
      "/var/folders/t6/t5h5090d6mb3hs8y3fgw7s8c0000gn/T/ipykernel_1558/1288064974.py:16: FutureWarning: The frame.append method is deprecated and will be removed from pandas in a future version. Use pandas.concat instead.\n",
      "  results = results.append(model_results, ignore_index = True)\n"
     ]
    }
   ],
   "source": [
    "# Fitting KNN to the Training set:\n",
    "classifier = KNeighborsClassifier(\n",
    "n_neighbors = 22, \n",
    "metric = 'minkowski', p = 2)\n",
    "classifier.fit(X_train, y_train)\n",
    "# Predicting the Test set results \n",
    "y_pred  = classifier.predict(X_test)\n",
    "#Evaluate results\n",
    "acc = accuracy_score(y_test, y_pred )\n",
    "prec = precision_score(y_test, y_pred )\n",
    "rec = recall_score(y_test, y_pred )\n",
    "f1 = f1_score(y_test, y_pred )\n",
    "f2 = fbeta_score(y_test, y_pred, beta=2.0)\n",
    "model_results = pd.DataFrame([['K-Nearest Neighbours', acc, prec, rec, f1, f2]], \n",
    "    columns = ['Model','Accuracy', 'Precision', 'Recall','F1 Score', 'F2 Score'])\n",
    "results = results.append(model_results, ignore_index = True)\n",
    "results = results.sort_values([\"Precision\", \"Recall\", \"F2 Score\"], \n",
    "    ascending = False)\n",
    "print (results)"
   ]
  },
  {
   "cell_type": "code",
   "execution_count": 63,
   "id": "4ba24965",
   "metadata": {},
   "outputs": [
    {
     "name": "stdout",
     "output_type": "stream",
     "text": [
      "                  Model  Accuracy  Precision    Recall  F1 Score  F2 Score\n",
      "0   Logistic Regression  0.886963   0.902629  0.948823  0.925150  0.939210\n",
      "1          SVM (Linear)  0.886963   0.902629  0.948823  0.925150  0.939210\n",
      "3            Kernel SVM  0.880934   0.885230  0.963153  0.922549  0.946490\n",
      "2  K-Nearest Neighbours  0.855313   0.866480  0.949846  0.906250  0.931914\n"
     ]
    },
    {
     "name": "stderr",
     "output_type": "stream",
     "text": [
      "/var/folders/t6/t5h5090d6mb3hs8y3fgw7s8c0000gn/T/ipykernel_1558/1996493497.py:14: FutureWarning: The frame.append method is deprecated and will be removed from pandas in a future version. Use pandas.concat instead.\n",
      "  results = results.append(model_results, ignore_index = True)\n"
     ]
    }
   ],
   "source": [
    "# Fitting Kernel SVM to the Training set:\n",
    "classifier = SVC(kernel = 'rbf', random_state = 0)\n",
    "classifier.fit(X_train, y_train)\n",
    "# Predicting the Test set results \n",
    "y_pred = classifier.predict(X_test)\n",
    "#Evaluate results\n",
    "acc = accuracy_score(y_test, y_pred )\n",
    "prec = precision_score(y_test, y_pred )\n",
    "rec = recall_score(y_test, y_pred )\n",
    "f1 = f1_score(y_test, y_pred )\n",
    "f2 = fbeta_score(y_test, y_pred, beta=2.0)\n",
    "model_results = pd.DataFrame([['Kernel SVM', acc, prec, rec, f1, f2]],\n",
    "    columns = ['Model', 'Accuracy', 'Precision', 'Recall', 'F1 Score', 'F2 Score'])\n",
    "results = results.append(model_results, ignore_index = True)\n",
    "results = results.sort_values([\"Precision\", \"Recall\", \"F2 Score\"], \n",
    "    ascending = False)\n",
    "print (results)"
   ]
  },
  {
   "cell_type": "code",
   "execution_count": 64,
   "id": "b31f4658",
   "metadata": {},
   "outputs": [
    {
     "name": "stdout",
     "output_type": "stream",
     "text": [
      "                  Model  Accuracy  Precision    Recall  F1 Score  F2 Score\n",
      "0   Logistic Regression  0.886963   0.902629  0.948823  0.925150  0.939210\n",
      "1          SVM (Linear)  0.886963   0.902629  0.948823  0.925150  0.939210\n",
      "2            Kernel SVM  0.880934   0.885230  0.963153  0.922549  0.946490\n",
      "3  K-Nearest Neighbours  0.855313   0.866480  0.949846  0.906250  0.931914\n",
      "4            Naive Byes  0.840241   0.821699  1.000000  0.902124  0.958407\n"
     ]
    },
    {
     "name": "stderr",
     "output_type": "stream",
     "text": [
      "/var/folders/t6/t5h5090d6mb3hs8y3fgw7s8c0000gn/T/ipykernel_1558/2132276753.py:14: FutureWarning: The frame.append method is deprecated and will be removed from pandas in a future version. Use pandas.concat instead.\n",
      "  results = results.append(model_results, ignore_index = True)\n"
     ]
    }
   ],
   "source": [
    "# Fitting Naive Byes to the Training set:\n",
    "classifier = GaussianNB()\n",
    "classifier.fit(X_train, y_train)\n",
    "# Predicting the Test set results \n",
    "y_pred = classifier.predict(X_test)\n",
    "#Evaluate results\n",
    "acc = accuracy_score(y_test, y_pred )\n",
    "prec = precision_score(y_test, y_pred )\n",
    "rec = recall_score(y_test, y_pred )\n",
    "f1 = f1_score(y_test, y_pred )\n",
    "f2 = fbeta_score(y_test, y_pred, beta=2.0)\n",
    "model_results = pd.DataFrame([['Naive Byes', acc, prec, rec, f1, f2]],\n",
    "    columns = ['Model', 'Accuracy', 'Precision','Recall', 'F1 Score', 'F2 Score'])\n",
    "results = results.append(model_results, ignore_index = True)\n",
    "results = results.sort_values([\"Precision\", \"Recall\", \"F2 Score\"], ascending = False)\n",
    "print (results)"
   ]
  },
  {
   "cell_type": "code",
   "execution_count": 65,
   "id": "00dbf78e",
   "metadata": {},
   "outputs": [
    {
     "name": "stdout",
     "output_type": "stream",
     "text": [
      "                  Model  Accuracy  Precision    Recall  F1 Score  F2 Score\n",
      "0   Logistic Regression  0.886963   0.902629  0.948823  0.925150  0.939210\n",
      "1          SVM (Linear)  0.886963   0.902629  0.948823  0.925150  0.939210\n",
      "2            Kernel SVM  0.880934   0.885230  0.963153  0.922549  0.946490\n",
      "3  K-Nearest Neighbours  0.855313   0.866480  0.949846  0.906250  0.931914\n",
      "5         Decision Tree  0.791258   0.861570  0.853634  0.857584  0.855209\n",
      "4            Naive Byes  0.840241   0.821699  1.000000  0.902124  0.958407\n"
     ]
    },
    {
     "name": "stderr",
     "output_type": "stream",
     "text": [
      "/var/folders/t6/t5h5090d6mb3hs8y3fgw7s8c0000gn/T/ipykernel_1558/3362002172.py:14: FutureWarning: The frame.append method is deprecated and will be removed from pandas in a future version. Use pandas.concat instead.\n",
      "  results = results.append(model_results, ignore_index = True)\n"
     ]
    }
   ],
   "source": [
    "# Fitting Decision Tree to the Training set:\n",
    "classifier = DecisionTreeClassifier(criterion = 'entropy', random_state = 0)\n",
    "classifier.fit(X_train, y_train)\n",
    "# Predicting the Test set results \n",
    "y_pred = classifier.predict(X_test)\n",
    "#Evaluate results\n",
    "acc = accuracy_score(y_test, y_pred )\n",
    "prec = precision_score(y_test, y_pred )\n",
    "rec = recall_score(y_test, y_pred )\n",
    "f1 = f1_score(y_test, y_pred )\n",
    "f2 = fbeta_score(y_test, y_pred, beta=2.0)\n",
    "model_results = pd.DataFrame([['Decision Tree', acc, prec, rec, f1, f2]],\n",
    "    columns = ['Model', 'Accuracy', 'Precision', 'Recall', 'F1 Score', 'F2 Score'])\n",
    "results = results.append(model_results, ignore_index = True)\n",
    "results = results.sort_values([\"Precision\", \"Recall\", \"F2 Score\"], ascending = False)\n",
    "print (results)"
   ]
  },
  {
   "cell_type": "code",
   "execution_count": 66,
   "id": "6bd8038a",
   "metadata": {},
   "outputs": [
    {
     "name": "stdout",
     "output_type": "stream",
     "text": [
      "                  Model  Accuracy  Precision    Recall  F1 Score  F2 Score\n",
      "0   Logistic Regression  0.886963   0.902629  0.948823  0.925150  0.939210\n",
      "1          SVM (Linear)  0.886963   0.902629  0.948823  0.925150  0.939210\n",
      "2            Kernel SVM  0.880934   0.885230  0.963153  0.922549  0.946490\n",
      "6         Random Forest  0.848531   0.867424  0.937564  0.901131  0.922643\n",
      "3  K-Nearest Neighbours  0.855313   0.866480  0.949846  0.906250  0.931914\n",
      "4         Decision Tree  0.791258   0.861570  0.853634  0.857584  0.855209\n",
      "5            Naive Byes  0.840241   0.821699  1.000000  0.902124  0.958407\n"
     ]
    },
    {
     "name": "stderr",
     "output_type": "stream",
     "text": [
      "/var/folders/t6/t5h5090d6mb3hs8y3fgw7s8c0000gn/T/ipykernel_1558/1100901335.py:17: FutureWarning: The frame.append method is deprecated and will be removed from pandas in a future version. Use pandas.concat instead.\n",
      "  results = results.append(model_results, ignore_index = True)\n"
     ]
    }
   ],
   "source": [
    "# Fitting Random Forest to the Training set:\n",
    "    \n",
    "classifier = RandomForestClassifier(n_estimators = 72, \n",
    "criterion = 'entropy', random_state = 0)\n",
    "classifier.fit(X_train, y_train)\n",
    "# Predicting the Test set results \n",
    "y_pred = classifier.predict(X_test)\n",
    "# Evaluate results\n",
    "accuracy_score, f1_score, precision_score, recall_score\n",
    "acc = accuracy_score(y_test, y_pred )\n",
    "prec = precision_score(y_test, y_pred )\n",
    "rec = recall_score(y_test, y_pred )\n",
    "f1 = f1_score(y_test, y_pred )\n",
    "f2 = fbeta_score(y_test, y_pred, beta=2.0)\n",
    "model_results = pd.DataFrame([['Random Forest', acc, prec, rec, f1, f2]],\n",
    "    columns = ['Model', 'Accuracy', 'Precision', 'Recall', 'F1 Score', 'F2 Score'])\n",
    "results = results.append(model_results, ignore_index = True)\n",
    "results = results.sort_values([\"Precision\", \"Recall\", \"F2 Score\"], ascending = False)\n",
    "print (results)"
   ]
  },
  {
   "cell_type": "code",
   "execution_count": null,
   "id": "d88d6e12",
   "metadata": {},
   "outputs": [],
   "source": []
  },
  {
   "cell_type": "code",
   "execution_count": 67,
   "id": "d224db3b",
   "metadata": {},
   "outputs": [
    {
     "name": "stdout",
     "output_type": "stream",
     "text": [
      "                 Model  Accuracy  Precision    Recall  F1 Score  F2 Score\n",
      "0  Logistic Regression  0.886963   0.902629  0.948823   0.92515   0.93921\n"
     ]
    }
   ],
   "source": [
    "classifier = LogisticRegression(random_state = 0,\n",
    "penalty = 'l2')\n",
    "classifier.fit(X_train, y_train)\n",
    "# Predict the Test set results\n",
    "y_pred = classifier.predict(X_test)\n",
    "#Evaluate Model Results on Test Set:\n",
    "acc = accuracy_score(y_test, y_pred )\n",
    "prec = precision_score(y_test, y_pred )\n",
    "rec = recall_score(y_test, y_pred )\n",
    "f1 = f1_score(y_test, y_pred )\n",
    "f2 = fbeta_score(y_test, y_pred, beta=2.0)\n",
    "results = pd.DataFrame([['Logistic Regression',\n",
    "acc, prec, rec, f1, f2]],columns = ['Model', 'Accuracy', 'Precision', 'Recall', 'F1 Score', 'F2 Score'])\n",
    "print (results)"
   ]
  },
  {
   "cell_type": "code",
   "execution_count": 68,
   "id": "abdb74d3",
   "metadata": {},
   "outputs": [
    {
     "name": "stdout",
     "output_type": "stream",
     "text": [
      "Logistic Regression Classifier Accuracy: 0.88 (+/- 0.02)\n"
     ]
    }
   ],
   "source": [
    "accuracies = cross_val_score(estimator = classifier, X = X_train, y = y_train, cv = 10)\n",
    "print(\"Logistic Regression Classifier Accuracy: %0.2f (+/- %0.2f)\"  % (accuracies.mean(), accuracies.std() * 2))"
   ]
  },
  {
   "cell_type": "code",
   "execution_count": 69,
   "id": "88582233",
   "metadata": {},
   "outputs": [
    {
     "data": {
      "text/plain": [
       "Text(0.5, 20.049999999999997, 'Predicted label\\n')"
      ]
     },
     "execution_count": 69,
     "metadata": {},
     "output_type": "execute_result"
    },
    {
     "data": {
      "text/plain": [
       "<Figure size 2800x2000 with 0 Axes>"
      ]
     },
     "metadata": {},
     "output_type": "display_data"
    },
    {
     "data": {
      "image/png": "[encoded data removed]",
      "text/plain": [
       "<Figure size 640x480 with 2 Axes>"
      ]
     },
     "metadata": {},
     "output_type": "display_data"
    }
   ],
   "source": [
    "cm = confusion_matrix(y_test, y_pred) \n",
    "df_cm = pd.DataFrame(cm, index = (0, 1), columns = (0, 1))\n",
    "plt.figure(figsize = (28,20))\n",
    "fig, ax = plt.subplots()\n",
    "sn.set(font_scale=1.4)\n",
    "sn.heatmap(df_cm, annot=True, fmt='g')\n",
    "class_names=[0,1]\n",
    "tick_marks = np.arange(len(class_names))\n",
    "plt.tight_layout()\n",
    "plt.title('Confusion matrix\\n', y=1.1)\n",
    "plt.xticks(tick_marks, class_names)\n",
    "plt.yticks(tick_marks, class_names)\n",
    "ax.xaxis.set_label_position(\"top\")\n",
    "plt.ylabel('Actual label\\n')\n",
    "plt.xlabel('Predicted label\\n')"
   ]
  },
  {
   "cell_type": "code",
   "execution_count": 70,
   "id": "ef8acf27",
   "metadata": {},
   "outputs": [
    {
     "data": {
      "image/png": "[encoded data removed]",
      "text/plain": [
       "<Figure size 1400x600 with 1 Axes>"
      ]
     },
     "metadata": {},
     "output_type": "display_data"
    }
   ],
   "source": [
    "classifier.fit(X_train, y_train) \n",
    "probs = classifier.predict_proba(X_test) \n",
    "probs = probs[:, 1] \n",
    "classifier_roc_auc = accuracy_score(y_test, y_pred )\n",
    "rf_fpr, rf_tpr, rf_thresholds = roc_curve(y_test, classifier.predict_proba(X_test)[:,1])\n",
    "plt.figure(figsize=(14, 6))\n",
    "# Plot Logistic Regression ROC\n",
    "plt.plot(rf_fpr, rf_tpr, \n",
    "label='Logistic Regression (area = %0.2f)' % classifier_roc_auc)\n",
    "# Plot Base Rate ROC\n",
    "plt.plot([0,1], [0,1],label='Base Rate' 'k--')\n",
    "plt.xlim([0.0, 1.0])\n",
    "plt.ylim([0.0, 1.05])\n",
    "plt.ylabel('True Positive Rate \\n',horizontalalignment=\"center\",\n",
    "fontstyle = \"normal\", fontsize = \"medium\", \n",
    "fontfamily = \"sans-serif\")\n",
    "plt.xlabel('\\nFalse Positive Rate \\n',horizontalalignment=\"center\",\n",
    "fontstyle = \"normal\", fontsize = \"medium\", \n",
    "fontfamily = \"sans-serif\")\n",
    "plt.title('ROC Graph \\n',horizontalalignment=\"center\", \n",
    "fontstyle = \"normal\", fontsize = \"22\", \n",
    "fontfamily = \"sans-serif\")\n",
    "plt.legend(loc=\"lower right\", fontsize = \"medium\")\n",
    "plt.xticks(rotation=0, horizontalalignment=\"center\")\n",
    "plt.yticks(rotation=0, horizontalalignment=\"right\")\n",
    "plt.show()"
   ]
  },
  {
   "cell_type": "code",
   "execution_count": 81,
   "id": "d15016fb",
   "metadata": {},
   "outputs": [
    {
     "data": {
      "text/html": [
       "<div>\n",
       "<style scoped>\n",
       "    .dataframe tbody tr th:only-of-type {\n",
       "        vertical-align: middle;\n",
       "    }\n",
       "\n",
       "    .dataframe tbody tr th {\n",
       "        vertical-align: top;\n",
       "    }\n",
       "\n",
       "    .dataframe thead th {\n",
       "        text-align: right;\n",
       "    }\n",
       "</style>\n",
       "<table border=\"1\" class=\"dataframe\">\n",
       "  <thead>\n",
       "    <tr style=\"text-align: right;\">\n",
       "      <th></th>\n",
       "      <th>features</th>\n",
       "      <th>coef</th>\n",
       "    </tr>\n",
       "  </thead>\n",
       "  <tbody>\n",
       "    <tr>\n",
       "      <th>4</th>\n",
       "      <td>anciennete_mois</td>\n",
       "      <td>1.330627</td>\n",
       "    </tr>\n",
       "    <tr>\n",
       "      <th>20</th>\n",
       "      <td>var_0</td>\n",
       "      <td>0.869343</td>\n",
       "    </tr>\n",
       "    <tr>\n",
       "      <th>19</th>\n",
       "      <td>age</td>\n",
       "      <td>0.845492</td>\n",
       "    </tr>\n",
       "    <tr>\n",
       "      <th>7</th>\n",
       "      <td>cartes_bancaires</td>\n",
       "      <td>0.636261</td>\n",
       "    </tr>\n",
       "    <tr>\n",
       "      <th>35</th>\n",
       "      <td>var_15</td>\n",
       "      <td>0.330829</td>\n",
       "    </tr>\n",
       "    <tr>\n",
       "      <th>32</th>\n",
       "      <td>var_12</td>\n",
       "      <td>0.307367</td>\n",
       "    </tr>\n",
       "    <tr>\n",
       "      <th>13</th>\n",
       "      <td>credit_immo</td>\n",
       "      <td>0.294907</td>\n",
       "    </tr>\n",
       "    <tr>\n",
       "      <th>49</th>\n",
       "      <td>var_29</td>\n",
       "      <td>0.291472</td>\n",
       "    </tr>\n",
       "    <tr>\n",
       "      <th>14</th>\n",
       "      <td>type</td>\n",
       "      <td>0.291147</td>\n",
       "    </tr>\n",
       "    <tr>\n",
       "      <th>50</th>\n",
       "      <td>var_30</td>\n",
       "      <td>0.253511</td>\n",
       "    </tr>\n",
       "  </tbody>\n",
       "</table>\n",
       "</div>"
      ],
      "text/plain": [
       "            features      coef\n",
       "4    anciennete_mois  1.330627\n",
       "20             var_0  0.869343\n",
       "19               age  0.845492\n",
       "7   cartes_bancaires  0.636261\n",
       "35            var_15  0.330829\n",
       "32            var_12  0.307367\n",
       "13       credit_immo  0.294907\n",
       "49            var_29  0.291472\n",
       "14              type  0.291147\n",
       "50            var_30  0.253511"
      ]
     },
     "execution_count": 81,
     "metadata": {},
     "output_type": "execute_result"
    }
   ],
   "source": [
    "# Analyzing Coefficients\n",
    "feature_importances = pd.concat([\n",
    "pd.DataFrame(dataset.columns, columns = [\"features\"]),\n",
    "pd.DataFrame(np.transpose(classifier.coef_), \n",
    "columns = [\"coef\"])],axis = 1)\n",
    "feature_importances.sort_values(\"coef\", ascending = False).head(10)"
   ]
  },
  {
   "cell_type": "code",
   "execution_count": 72,
   "id": "0d70029a",
   "metadata": {},
   "outputs": [
    {
     "name": "stderr",
     "output_type": "stream",
     "text": [
      "/opt/homebrew/lib/python3.10/site-packages/sklearn/linear_model/_logistic.py:444: ConvergenceWarning: lbfgs failed to converge (status=1):\n",
      "STOP: TOTAL NO. of ITERATIONS REACHED LIMIT.\n",
      "\n",
      "Increase the number of iterations (max_iter) or scale the data as shown in:\n",
      "    https://scikit-learn.org/stable/modules/preprocessing.html\n",
      "Please also refer to the documentation for alternative solver options:\n",
      "    https://scikit-learn.org/stable/modules/linear_model.html#logistic-regression\n",
      "  n_iter_i = _check_optimize_result(\n",
      "/opt/homebrew/lib/python3.10/site-packages/sklearn/linear_model/_logistic.py:444: ConvergenceWarning: lbfgs failed to converge (status=1):\n",
      "STOP: TOTAL NO. of ITERATIONS REACHED LIMIT.\n",
      "\n",
      "Increase the number of iterations (max_iter) or scale the data as shown in:\n",
      "    https://scikit-learn.org/stable/modules/preprocessing.html\n",
      "Please also refer to the documentation for alternative solver options:\n",
      "    https://scikit-learn.org/stable/modules/linear_model.html#logistic-regression\n",
      "  n_iter_i = _check_optimize_result(\n",
      "/opt/homebrew/lib/python3.10/site-packages/sklearn/linear_model/_logistic.py:444: ConvergenceWarning: lbfgs failed to converge (status=1):\n",
      "STOP: TOTAL NO. of ITERATIONS REACHED LIMIT.\n",
      "\n",
      "Increase the number of iterations (max_iter) or scale the data as shown in:\n",
      "    https://scikit-learn.org/stable/modules/preprocessing.html\n",
      "Please also refer to the documentation for alternative solver options:\n",
      "    https://scikit-learn.org/stable/modules/linear_model.html#logistic-regression\n",
      "  n_iter_i = _check_optimize_result(\n",
      "/opt/homebrew/lib/python3.10/site-packages/sklearn/linear_model/_logistic.py:444: ConvergenceWarning: lbfgs failed to converge (status=1):\n",
      "STOP: TOTAL NO. of ITERATIONS REACHED LIMIT.\n",
      "\n",
      "Increase the number of iterations (max_iter) or scale the data as shown in:\n",
      "    https://scikit-learn.org/stable/modules/preprocessing.html\n",
      "Please also refer to the documentation for alternative solver options:\n",
      "    https://scikit-learn.org/stable/modules/linear_model.html#logistic-regression\n",
      "  n_iter_i = _check_optimize_result(\n",
      "/opt/homebrew/lib/python3.10/site-packages/sklearn/linear_model/_logistic.py:444: ConvergenceWarning: lbfgs failed to converge (status=1):\n",
      "STOP: TOTAL NO. of ITERATIONS REACHED LIMIT.\n",
      "\n",
      "Increase the number of iterations (max_iter) or scale the data as shown in:\n",
      "    https://scikit-learn.org/stable/modules/preprocessing.html\n",
      "Please also refer to the documentation for alternative solver options:\n",
      "    https://scikit-learn.org/stable/modules/linear_model.html#logistic-regression\n",
      "  n_iter_i = _check_optimize_result(\n",
      "/opt/homebrew/lib/python3.10/site-packages/sklearn/linear_model/_logistic.py:444: ConvergenceWarning: lbfgs failed to converge (status=1):\n",
      "STOP: TOTAL NO. of ITERATIONS REACHED LIMIT.\n",
      "\n",
      "Increase the number of iterations (max_iter) or scale the data as shown in:\n",
      "    https://scikit-learn.org/stable/modules/preprocessing.html\n",
      "Please also refer to the documentation for alternative solver options:\n",
      "    https://scikit-learn.org/stable/modules/linear_model.html#logistic-regression\n",
      "  n_iter_i = _check_optimize_result(\n",
      "/opt/homebrew/lib/python3.10/site-packages/sklearn/linear_model/_logistic.py:444: ConvergenceWarning: lbfgs failed to converge (status=1):\n",
      "STOP: TOTAL NO. of ITERATIONS REACHED LIMIT.\n",
      "\n",
      "Increase the number of iterations (max_iter) or scale the data as shown in:\n",
      "    https://scikit-learn.org/stable/modules/preprocessing.html\n",
      "Please also refer to the documentation for alternative solver options:\n",
      "    https://scikit-learn.org/stable/modules/linear_model.html#logistic-regression\n",
      "  n_iter_i = _check_optimize_result(\n",
      "/opt/homebrew/lib/python3.10/site-packages/sklearn/linear_model/_logistic.py:444: ConvergenceWarning: lbfgs failed to converge (status=1):\n",
      "STOP: TOTAL NO. of ITERATIONS REACHED LIMIT.\n",
      "\n",
      "Increase the number of iterations (max_iter) or scale the data as shown in:\n",
      "    https://scikit-learn.org/stable/modules/preprocessing.html\n",
      "Please also refer to the documentation for alternative solver options:\n",
      "    https://scikit-learn.org/stable/modules/linear_model.html#logistic-regression\n",
      "  n_iter_i = _check_optimize_result(\n",
      "/opt/homebrew/lib/python3.10/site-packages/sklearn/linear_model/_logistic.py:444: ConvergenceWarning: lbfgs failed to converge (status=1):\n",
      "STOP: TOTAL NO. of ITERATIONS REACHED LIMIT.\n",
      "\n",
      "Increase the number of iterations (max_iter) or scale the data as shown in:\n",
      "    https://scikit-learn.org/stable/modules/preprocessing.html\n",
      "Please also refer to the documentation for alternative solver options:\n",
      "    https://scikit-learn.org/stable/modules/linear_model.html#logistic-regression\n",
      "  n_iter_i = _check_optimize_result(\n",
      "/opt/homebrew/lib/python3.10/site-packages/sklearn/linear_model/_logistic.py:444: ConvergenceWarning: lbfgs failed to converge (status=1):\n",
      "STOP: TOTAL NO. of ITERATIONS REACHED LIMIT.\n",
      "\n",
      "Increase the number of iterations (max_iter) or scale the data as shown in:\n",
      "    https://scikit-learn.org/stable/modules/preprocessing.html\n",
      "Please also refer to the documentation for alternative solver options:\n",
      "    https://scikit-learn.org/stable/modules/linear_model.html#logistic-regression\n",
      "  n_iter_i = _check_optimize_result(\n",
      "/opt/homebrew/lib/python3.10/site-packages/sklearn/linear_model/_logistic.py:444: ConvergenceWarning: lbfgs failed to converge (status=1):\n",
      "STOP: TOTAL NO. of ITERATIONS REACHED LIMIT.\n",
      "\n",
      "Increase the number of iterations (max_iter) or scale the data as shown in:\n",
      "    https://scikit-learn.org/stable/modules/preprocessing.html\n",
      "Please also refer to the documentation for alternative solver options:\n",
      "    https://scikit-learn.org/stable/modules/linear_model.html#logistic-regression\n",
      "  n_iter_i = _check_optimize_result(\n",
      "/opt/homebrew/lib/python3.10/site-packages/sklearn/linear_model/_logistic.py:444: ConvergenceWarning: lbfgs failed to converge (status=1):\n",
      "STOP: TOTAL NO. of ITERATIONS REACHED LIMIT.\n",
      "\n",
      "Increase the number of iterations (max_iter) or scale the data as shown in:\n",
      "    https://scikit-learn.org/stable/modules/preprocessing.html\n",
      "Please also refer to the documentation for alternative solver options:\n",
      "    https://scikit-learn.org/stable/modules/linear_model.html#logistic-regression\n",
      "  n_iter_i = _check_optimize_result(\n",
      "/opt/homebrew/lib/python3.10/site-packages/sklearn/linear_model/_logistic.py:444: ConvergenceWarning: lbfgs failed to converge (status=1):\n",
      "STOP: TOTAL NO. of ITERATIONS REACHED LIMIT.\n",
      "\n",
      "Increase the number of iterations (max_iter) or scale the data as shown in:\n",
      "    https://scikit-learn.org/stable/modules/preprocessing.html\n",
      "Please also refer to the documentation for alternative solver options:\n",
      "    https://scikit-learn.org/stable/modules/linear_model.html#logistic-regression\n",
      "  n_iter_i = _check_optimize_result(\n",
      "/opt/homebrew/lib/python3.10/site-packages/sklearn/linear_model/_logistic.py:444: ConvergenceWarning: lbfgs failed to converge (status=1):\n",
      "STOP: TOTAL NO. of ITERATIONS REACHED LIMIT.\n",
      "\n",
      "Increase the number of iterations (max_iter) or scale the data as shown in:\n",
      "    https://scikit-learn.org/stable/modules/preprocessing.html\n",
      "Please also refer to the documentation for alternative solver options:\n",
      "    https://scikit-learn.org/stable/modules/linear_model.html#logistic-regression\n",
      "  n_iter_i = _check_optimize_result(\n",
      "/opt/homebrew/lib/python3.10/site-packages/sklearn/linear_model/_logistic.py:444: ConvergenceWarning: lbfgs failed to converge (status=1):\n",
      "STOP: TOTAL NO. of ITERATIONS REACHED LIMIT.\n",
      "\n",
      "Increase the number of iterations (max_iter) or scale the data as shown in:\n",
      "    https://scikit-learn.org/stable/modules/preprocessing.html\n",
      "Please also refer to the documentation for alternative solver options:\n",
      "    https://scikit-learn.org/stable/modules/linear_model.html#logistic-regression\n",
      "  n_iter_i = _check_optimize_result(\n",
      "/opt/homebrew/lib/python3.10/site-packages/sklearn/linear_model/_logistic.py:444: ConvergenceWarning: lbfgs failed to converge (status=1):\n",
      "STOP: TOTAL NO. of ITERATIONS REACHED LIMIT.\n",
      "\n",
      "Increase the number of iterations (max_iter) or scale the data as shown in:\n",
      "    https://scikit-learn.org/stable/modules/preprocessing.html\n",
      "Please also refer to the documentation for alternative solver options:\n",
      "    https://scikit-learn.org/stable/modules/linear_model.html#logistic-regression\n",
      "  n_iter_i = _check_optimize_result(\n",
      "/opt/homebrew/lib/python3.10/site-packages/sklearn/linear_model/_logistic.py:444: ConvergenceWarning: lbfgs failed to converge (status=1):\n",
      "STOP: TOTAL NO. of ITERATIONS REACHED LIMIT.\n",
      "\n",
      "Increase the number of iterations (max_iter) or scale the data as shown in:\n",
      "    https://scikit-learn.org/stable/modules/preprocessing.html\n",
      "Please also refer to the documentation for alternative solver options:\n",
      "    https://scikit-learn.org/stable/modules/linear_model.html#logistic-regression\n",
      "  n_iter_i = _check_optimize_result(\n",
      "/opt/homebrew/lib/python3.10/site-packages/sklearn/linear_model/_logistic.py:444: ConvergenceWarning: lbfgs failed to converge (status=1):\n",
      "STOP: TOTAL NO. of ITERATIONS REACHED LIMIT.\n",
      "\n",
      "Increase the number of iterations (max_iter) or scale the data as shown in:\n",
      "    https://scikit-learn.org/stable/modules/preprocessing.html\n",
      "Please also refer to the documentation for alternative solver options:\n",
      "    https://scikit-learn.org/stable/modules/linear_model.html#logistic-regression\n",
      "  n_iter_i = _check_optimize_result(\n",
      "/opt/homebrew/lib/python3.10/site-packages/sklearn/linear_model/_logistic.py:444: ConvergenceWarning: lbfgs failed to converge (status=1):\n",
      "STOP: TOTAL NO. of ITERATIONS REACHED LIMIT.\n",
      "\n",
      "Increase the number of iterations (max_iter) or scale the data as shown in:\n",
      "    https://scikit-learn.org/stable/modules/preprocessing.html\n",
      "Please also refer to the documentation for alternative solver options:\n",
      "    https://scikit-learn.org/stable/modules/linear_model.html#logistic-regression\n",
      "  n_iter_i = _check_optimize_result(\n",
      "/opt/homebrew/lib/python3.10/site-packages/sklearn/linear_model/_logistic.py:444: ConvergenceWarning: lbfgs failed to converge (status=1):\n",
      "STOP: TOTAL NO. of ITERATIONS REACHED LIMIT.\n",
      "\n",
      "Increase the number of iterations (max_iter) or scale the data as shown in:\n",
      "    https://scikit-learn.org/stable/modules/preprocessing.html\n",
      "Please also refer to the documentation for alternative solver options:\n",
      "    https://scikit-learn.org/stable/modules/linear_model.html#logistic-regression\n",
      "  n_iter_i = _check_optimize_result(\n",
      "/opt/homebrew/lib/python3.10/site-packages/sklearn/linear_model/_logistic.py:444: ConvergenceWarning: lbfgs failed to converge (status=1):\n",
      "STOP: TOTAL NO. of ITERATIONS REACHED LIMIT.\n",
      "\n",
      "Increase the number of iterations (max_iter) or scale the data as shown in:\n",
      "    https://scikit-learn.org/stable/modules/preprocessing.html\n",
      "Please also refer to the documentation for alternative solver options:\n",
      "    https://scikit-learn.org/stable/modules/linear_model.html#logistic-regression\n",
      "  n_iter_i = _check_optimize_result(\n",
      "/opt/homebrew/lib/python3.10/site-packages/sklearn/linear_model/_logistic.py:444: ConvergenceWarning: lbfgs failed to converge (status=1):\n",
      "STOP: TOTAL NO. of ITERATIONS REACHED LIMIT.\n",
      "\n",
      "Increase the number of iterations (max_iter) or scale the data as shown in:\n",
      "    https://scikit-learn.org/stable/modules/preprocessing.html\n",
      "Please also refer to the documentation for alternative solver options:\n",
      "    https://scikit-learn.org/stable/modules/linear_model.html#logistic-regression\n",
      "  n_iter_i = _check_optimize_result(\n",
      "/opt/homebrew/lib/python3.10/site-packages/sklearn/linear_model/_logistic.py:444: ConvergenceWarning: lbfgs failed to converge (status=1):\n",
      "STOP: TOTAL NO. of ITERATIONS REACHED LIMIT.\n",
      "\n",
      "Increase the number of iterations (max_iter) or scale the data as shown in:\n",
      "    https://scikit-learn.org/stable/modules/preprocessing.html\n",
      "Please also refer to the documentation for alternative solver options:\n",
      "    https://scikit-learn.org/stable/modules/linear_model.html#logistic-regression\n",
      "  n_iter_i = _check_optimize_result(\n",
      "/opt/homebrew/lib/python3.10/site-packages/sklearn/linear_model/_logistic.py:444: ConvergenceWarning: lbfgs failed to converge (status=1):\n",
      "STOP: TOTAL NO. of ITERATIONS REACHED LIMIT.\n",
      "\n",
      "Increase the number of iterations (max_iter) or scale the data as shown in:\n",
      "    https://scikit-learn.org/stable/modules/preprocessing.html\n",
      "Please also refer to the documentation for alternative solver options:\n",
      "    https://scikit-learn.org/stable/modules/linear_model.html#logistic-regression\n",
      "  n_iter_i = _check_optimize_result(\n",
      "/opt/homebrew/lib/python3.10/site-packages/sklearn/linear_model/_logistic.py:444: ConvergenceWarning: lbfgs failed to converge (status=1):\n",
      "STOP: TOTAL NO. of ITERATIONS REACHED LIMIT.\n",
      "\n",
      "Increase the number of iterations (max_iter) or scale the data as shown in:\n",
      "    https://scikit-learn.org/stable/modules/preprocessing.html\n",
      "Please also refer to the documentation for alternative solver options:\n",
      "    https://scikit-learn.org/stable/modules/linear_model.html#logistic-regression\n",
      "  n_iter_i = _check_optimize_result(\n",
      "/opt/homebrew/lib/python3.10/site-packages/sklearn/linear_model/_logistic.py:444: ConvergenceWarning: lbfgs failed to converge (status=1):\n",
      "STOP: TOTAL NO. of ITERATIONS REACHED LIMIT.\n",
      "\n",
      "Increase the number of iterations (max_iter) or scale the data as shown in:\n",
      "    https://scikit-learn.org/stable/modules/preprocessing.html\n",
      "Please also refer to the documentation for alternative solver options:\n",
      "    https://scikit-learn.org/stable/modules/linear_model.html#logistic-regression\n",
      "  n_iter_i = _check_optimize_result(\n"
     ]
    },
    {
     "name": "stdout",
     "output_type": "stream",
     "text": [
      "Took 1.50 seconds\n"
     ]
    },
    {
     "name": "stderr",
     "output_type": "stream",
     "text": [
      "/opt/homebrew/lib/python3.10/site-packages/sklearn/linear_model/_logistic.py:444: ConvergenceWarning: lbfgs failed to converge (status=1):\n",
      "STOP: TOTAL NO. of ITERATIONS REACHED LIMIT.\n",
      "\n",
      "Increase the number of iterations (max_iter) or scale the data as shown in:\n",
      "    https://scikit-learn.org/stable/modules/preprocessing.html\n",
      "Please also refer to the documentation for alternative solver options:\n",
      "    https://scikit-learn.org/stable/modules/linear_model.html#logistic-regression\n",
      "  n_iter_i = _check_optimize_result(\n",
      "/opt/homebrew/lib/python3.10/site-packages/sklearn/model_selection/_validation.py:378: FitFailedWarning: \n",
      "70 fits failed out of a total of 140.\n",
      "The score on these train-test partitions for these parameters will be set to nan.\n",
      "If these failures are not expected, you can try to debug them by setting error_score='raise'.\n",
      "\n",
      "Below are more details about the failures:\n",
      "--------------------------------------------------------------------------------\n",
      "70 fits failed with the following error:\n",
      "Traceback (most recent call last):\n",
      "  File \"/opt/homebrew/lib/python3.10/site-packages/sklearn/model_selection/_validation.py\", line 686, in _fit_and_score\n",
      "    estimator.fit(X_train, y_train, **fit_params)\n",
      "  File \"/opt/homebrew/lib/python3.10/site-packages/sklearn/linear_model/_logistic.py\", line 1091, in fit\n",
      "    solver = _check_solver(self.solver, self.penalty, self.dual)\n",
      "  File \"/opt/homebrew/lib/python3.10/site-packages/sklearn/linear_model/_logistic.py\", line 61, in _check_solver\n",
      "    raise ValueError(\n",
      "ValueError: Solver lbfgs supports only 'l2' or 'none' penalties, got l1 penalty.\n",
      "\n",
      "  warnings.warn(some_fits_failed_message, FitFailedWarning)\n",
      "/opt/homebrew/lib/python3.10/site-packages/sklearn/model_selection/_search.py:953: UserWarning: One or more of the test scores are non-finite: [       nan 0.75293267        nan 0.80911108        nan 0.81599426\n",
      "        nan 0.81817389        nan 0.81781707        nan 0.81745736\n",
      "        nan 0.81745736]\n",
      "  warnings.warn(\n"
     ]
    },
    {
     "data": {
      "text/plain": [
       "(0.8181738872975142, {'C': 1, 'penalty': 'l2'})"
      ]
     },
     "execution_count": 72,
     "metadata": {},
     "output_type": "execute_result"
    }
   ],
   "source": [
    "# Round 1:\n",
    " \n",
    "# Select Regularization Method   \n",
    "import time\n",
    "penalty = ['l1', 'l2']\n",
    "# Create regularization hyperparameter space\n",
    "C = [0.001, 0.01, 0.1, 1, 10, 100, 1000]\n",
    "# Combine Parameters\n",
    "parameters = dict(C=C, penalty=penalty)\n",
    "lr_classifier = GridSearchCV(estimator = classifier,\n",
    "                           param_grid = parameters,\n",
    "                           scoring = \"balanced_accuracy\",\n",
    "                           cv = 10,\n",
    "                           n_jobs = -1)\n",
    "t0 = time.time()\n",
    "lr_classifier  = lr_classifier .fit(X_train, y_train)\n",
    "t1 = time.time()\n",
    "print(\"Took %0.2f seconds\" % (t1 - t0))\n",
    "lr_best_accuracy = lr_classifier.best_score_\n",
    "lr_best_parameters = lr_classifier.best_params_\n",
    "lr_best_accuracy, lr_best_parameters"
   ]
  },
  {
   "cell_type": "code",
   "execution_count": 73,
   "id": "f829e89d",
   "metadata": {},
   "outputs": [
    {
     "name": "stdout",
     "output_type": "stream",
     "text": [
      "Took 0.37 seconds\n"
     ]
    },
    {
     "data": {
      "text/plain": [
       "(0.8178658949684635, {'C': 0.05, 'penalty': 'l2'})"
      ]
     },
     "execution_count": 73,
     "metadata": {},
     "output_type": "execute_result"
    }
   ],
   "source": [
    "# Round 2:\n",
    "# Select Regularization Method\n",
    "import time\n",
    "penalty = ['l2']\n",
    "# Create regularization hyperparameter space\n",
    "C = [ 0.0001, 0.001, 0.01, 0.02, 0.05]\n",
    "# Combine Parameters\n",
    "parameters = dict(C=C, penalty=penalty)\n",
    "lr_classifier = GridSearchCV(estimator = classifier,\n",
    "                           param_grid = parameters,\n",
    "                           scoring = \"balanced_accuracy\",\n",
    "                           cv = 10,\n",
    "                           n_jobs = -1)\n",
    "t0 = time.time()\n",
    "lr_classifier  = lr_classifier .fit(X_train, y_train)\n",
    "t1 = time.time()\n",
    "print(\"Took %0.2f seconds\" % (t1 - t0))\n",
    "lr_best_accuracy = lr_classifier.best_score_\n",
    "lr_best_parameters = lr_classifier.best_params_\n",
    "lr_best_accuracy, lr_best_parameters"
   ]
  },
  {
   "cell_type": "code",
   "execution_count": 74,
   "id": "e9949891",
   "metadata": {},
   "outputs": [],
   "source": [
    "lr_classifier = LogisticRegression(random_state = 0, penalty = 'l2')\n",
    "lr_classifier.fit(X_train, y_train)\n",
    "# Predict the Test set results\n",
    "y_pred = lr_classifier.predict(X_test)\n",
    "#probability score\n",
    "y_pred_probs = lr_classifier.predict_proba(X_test)\n",
    "y_pred_probs  = y_pred_probs [:, 1]"
   ]
  },
  {
   "cell_type": "code",
   "execution_count": 75,
   "id": "d359e1bd",
   "metadata": {},
   "outputs": [
    {
     "name": "stdout",
     "output_type": "stream",
     "text": [
      "[[250 100]\n",
      " [ 50 927]]\n",
      "Test Data Accuracy: 0.8870\n"
     ]
    },
    {
     "data": {
      "text/plain": [
       "<Figure size 2800x2000 with 0 Axes>"
      ]
     },
     "metadata": {},
     "output_type": "display_data"
    },
    {
     "data": {
      "image/png": "[encoded data removed]",
      "text/plain": [
       "<Figure size 640x480 with 2 Axes>"
      ]
     },
     "metadata": {},
     "output_type": "display_data"
    }
   ],
   "source": [
    "#Revalidate final results with Confusion Matrix:\n",
    "cm = confusion_matrix(y_test, y_pred) \n",
    "print (cm)\n",
    "#Confusion Matrix as a quick Crosstab:\n",
    "    \n",
    "pd.crosstab(y_test,pd.Series(y_pred),\n",
    "rownames=['ACTUAL'],colnames=['PRED'])\n",
    "#visualize Confusion Matrix:\n",
    "cm = confusion_matrix(y_test, y_pred) \n",
    "df_cm = pd.DataFrame(cm, index = (0, 1), columns = (0, 1))\n",
    "plt.figure(figsize = (28,20))\n",
    "fig, ax = plt.subplots()\n",
    "sn.set(font_scale=1.4)\n",
    "sn.heatmap(df_cm, annot=True, fmt='g'#,cmap=\"YlGnBu\" \n",
    "           )\n",
    "class_names=[0,1]\n",
    "tick_marks = np.arange(len(class_names))\n",
    "plt.tight_layout()\n",
    "plt.title('Confusion matrix\\n', y=1.1)\n",
    "plt.xticks(tick_marks, class_names)\n",
    "plt.yticks(tick_marks, class_names)\n",
    "ax.xaxis.set_label_position(\"top\")\n",
    "plt.ylabel('Actual label\\n')\n",
    "plt.xlabel('Predicted label\\n')\n",
    "print(\"Test Data Accuracy: %0.4f\" % accuracy_score(y_test, y_pred))"
   ]
  },
  {
   "cell_type": "code",
   "execution_count": 79,
   "id": "70716dd2",
   "metadata": {},
   "outputs": [
    {
     "name": "stdout",
     "output_type": "stream",
     "text": [
      "           churn  predictions  propensity_to_churn(%) Ranking\n",
      "id_client                                                    \n",
      "454            1            1                   99.90       1\n",
      "1493           1            0                   35.13       9\n",
      "3866           1            1                   89.77       6\n",
      "4485           1            1                  100.00       1\n",
      "4639           1            1                   96.89       4\n",
      "...          ...          ...                     ...     ...\n",
      "5458           0            0                    0.03      10\n",
      "1358           1            1                   92.85       5\n",
      "885            1            1                   73.21       7\n",
      "5569           0            0                   18.85       9\n",
      "5087           1            1                   98.64       3\n",
      "\n",
      "[1327 rows x 4 columns]\n"
     ]
    }
   ],
   "source": [
    "final_results = pd.concat([ y_test], axis = 1).dropna()\n",
    "final_results['predictions'] = y_pred\n",
    "final_results[\"propensity_to_churn(%)\"] = y_pred_probs\n",
    "final_results[\"propensity_to_churn(%)\"] = final_results[\"propensity_to_churn(%)\"]*100\n",
    "final_results[\"propensity_to_churn(%)\"]=final_results[\"propensity_to_churn(%)\"].round(2)\n",
    "final_results = final_results[['churn', 'predictions', 'propensity_to_churn(%)']]\n",
    "final_results ['Ranking'] = pd.qcut(final_results['propensity_to_churn(%)'].rank(method = 'first'),10,labels=range(10,0,-1))\n",
    "print (final_results)"
   ]
  },
  {
   "cell_type": "code",
   "execution_count": 77,
   "id": "dfde3e90",
   "metadata": {},
   "outputs": [
    {
     "data": {
      "text/plain": [
       "['final_model.model']"
      ]
     },
     "execution_count": 77,
     "metadata": {},
     "output_type": "execute_result"
    }
   ],
   "source": [
    "import joblib\n",
    "\n",
    "filename = 'final_model.model'\n",
    "i = [lr_classifier]\n",
    "joblib.dump(i,filename)"
   ]
  },
  {
   "cell_type": "code",
   "execution_count": null,
   "id": "489de8be",
   "metadata": {},
   "outputs": [],
   "source": []
  }
 ],
 "metadata": {
  "kernelspec": {
   "display_name": "Python 3 (ipykernel)",
   "language": "python",
   "name": "python3"
  },
  "language_info": {
   "codemirror_mode": {
    "name": "ipython",
    "version": 3
   },
   "file_extension": ".py",
   "mimetype": "text/x-python",
   "name": "python",
   "nbconvert_exporter": "python",
   "pygments_lexer": "ipython3",
   "version": "3.10.9"
  }
 },
 "nbformat": 4,
 "nbformat_minor": 5
}
